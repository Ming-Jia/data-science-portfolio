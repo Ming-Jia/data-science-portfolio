{
 "cells": [
  {
   "cell_type": "markdown",
   "metadata": {},
   "source": [
    "# Data Science Salaries Analysis"
   ]
  },
  {
   "cell_type": "markdown",
   "metadata": {},
   "source": [
    "---"
   ]
  },
  {
   "cell_type": "markdown",
   "metadata": {},
   "source": [
    "## 1.0 Objectives"
   ]
  },
  {
   "cell_type": "markdown",
   "metadata": {},
   "source": [
    "## 2.0 Dataset Information\n",
    "\n",
    "### 2.1 Description\n",
    "\n",
    "### 2.2 Data Dictionary\n",
    "\n",
    "### 2.3 Acknowledgement & Source"
   ]
  },
  {
   "cell_type": "markdown",
   "metadata": {},
   "source": [
    "---\n",
    "\n",
    "<br/>"
   ]
  },
  {
   "cell_type": "markdown",
   "metadata": {},
   "source": [
    "## 3.0 Import Library and Set Constant"
   ]
  },
  {
   "cell_type": "code",
   "execution_count": 36,
   "metadata": {},
   "outputs": [],
   "source": [
    "# Enable graph in jupyter notebook\n",
    "%matplotlib inline\n",
    "\n",
    "# System\n",
    "import sys\n",
    "import os\n",
    "\n",
    "# Data Sanitisation\n",
    "import re\n",
    "\n",
    "# Fetch data\n",
    "import requests"
   ]
  },
  {
   "cell_type": "code",
   "execution_count": 2,
   "metadata": {},
   "outputs": [],
   "source": [
    "# EDA\n",
    "import numpy as np\n",
    "import pandas as pd\n",
    "import matplotlib.pyplot as plt\n",
    "import seaborn as sns"
   ]
  },
  {
   "cell_type": "code",
   "execution_count": 3,
   "metadata": {},
   "outputs": [],
   "source": [
    "# Constant\n",
    "LEVELS_FYI_SALARY_SOURCE_URL = 'https://www.levels.fyi/js/salaryData.json'\n",
    "RAW_SALARY_FILE_URL = 'levels-fyi-salary-raw.csv'\n",
    "DS_RAW_SALARY_FILE_URL = 'ds-levels-fyi-salary-raw.csv'\n",
    "DS_CLEANED_SALARY_FILE_URL = 'ds-levels-fyi-salary-cleaned.csv'\n",
    "\n",
    "UTILS_PATH = os.path.join('..', 'utils')"
   ]
  },
  {
   "cell_type": "code",
   "execution_count": 4,
   "metadata": {},
   "outputs": [],
   "source": [
    "# Below functions are common function that the author wrote and used\n",
    "# Statistics for Missing Value in DataFrame\n",
    "sys.path.append(UTILS_PATH)\n",
    "\n",
    "from stats_df_na import find_col_with_na, calculate_na_pct"
   ]
  },
  {
   "cell_type": "markdown",
   "metadata": {},
   "source": [
    "<br />"
   ]
  },
  {
   "cell_type": "markdown",
   "metadata": {},
   "source": [
    "## 4.0 Setting Graph Style"
   ]
  },
  {
   "cell_type": "code",
   "execution_count": 5,
   "metadata": {},
   "outputs": [],
   "source": [
    "plt.rcParams[\"figure.figsize\"] = (6, 3)\n",
    "plt.rcParams['figure.dpi'] = 150\n",
    "\n",
    "sns.set_style(\"white\")"
   ]
  },
  {
   "cell_type": "markdown",
   "metadata": {},
   "source": [
    "<br />"
   ]
  },
  {
   "cell_type": "markdown",
   "metadata": {},
   "source": [
    "## 5.0 Fetch and Write Data"
   ]
  },
  {
   "cell_type": "code",
   "execution_count": 67,
   "metadata": {},
   "outputs": [],
   "source": [
    "# Fetch data in JSON\n",
    "data = requests.get('https://www.levels.fyi/js/salaryData.json').json()\n",
    "json_df = pd.DataFrame(data)\n",
    "\n",
    "# Output raw salary in CSV\n",
    "json_df.to_csv(RAW_SALARY_FILE_URL, index=False)"
   ]
  },
  {
   "cell_type": "markdown",
   "metadata": {},
   "source": [
    "<br />"
   ]
  },
  {
   "cell_type": "code",
   "execution_count": 6,
   "metadata": {},
   "outputs": [],
   "source": [
    "df = pd.read_csv(RAW_SALARY_FILE_URL, parse_dates=['timestamp'], dayfirst=False)"
   ]
  },
  {
   "cell_type": "code",
   "execution_count": 7,
   "metadata": {},
   "outputs": [
    {
     "data": {
      "text/plain": [
       "array(['Product Manager', 'Software Engineer',\n",
       "       'Software Engineering Manager', 'Data Scientist',\n",
       "       'Solution Architect', 'Technical Program Manager',\n",
       "       'Human Resources', 'Product Designer', 'Marketing',\n",
       "       'Business Analyst', 'Hardware Engineer', 'Sales', 'Recruiter',\n",
       "       'Mechanical Engineer', 'Management Consultant'], dtype=object)"
      ]
     },
     "execution_count": 7,
     "metadata": {},
     "output_type": "execute_result"
    }
   ],
   "source": [
    "df['title'].unique()"
   ]
  },
  {
   "cell_type": "code",
   "execution_count": 8,
   "metadata": {},
   "outputs": [],
   "source": [
    "ds_df = df[ df['title'] == 'Data Scientist']"
   ]
  },
  {
   "cell_type": "code",
   "execution_count": 9,
   "metadata": {},
   "outputs": [],
   "source": [
    "ds_df.to_csv(DS_RAW_SALARY_FILE_URL, index=False)"
   ]
  },
  {
   "cell_type": "markdown",
   "metadata": {},
   "source": [
    "<br />"
   ]
  },
  {
   "cell_type": "markdown",
   "metadata": {},
   "source": [
    "Below will import the csv as the main dataframe"
   ]
  },
  {
   "cell_type": "code",
   "execution_count": 10,
   "metadata": {},
   "outputs": [],
   "source": [
    "df = pd.read_csv(DS_RAW_SALARY_FILE_URL)"
   ]
  },
  {
   "cell_type": "markdown",
   "metadata": {},
   "source": [
    "<br />"
   ]
  },
  {
   "cell_type": "markdown",
   "metadata": {},
   "source": [
    "## 6.0 Statistics Summary of Dataset"
   ]
  },
  {
   "cell_type": "code",
   "execution_count": 11,
   "metadata": {},
   "outputs": [
    {
     "data": {
      "text/html": [
       "<div>\n",
       "<style scoped>\n",
       "    .dataframe tbody tr th:only-of-type {\n",
       "        vertical-align: middle;\n",
       "    }\n",
       "\n",
       "    .dataframe tbody tr th {\n",
       "        vertical-align: top;\n",
       "    }\n",
       "\n",
       "    .dataframe thead th {\n",
       "        text-align: right;\n",
       "    }\n",
       "</style>\n",
       "<table border=\"1\" class=\"dataframe\">\n",
       "  <thead>\n",
       "    <tr style=\"text-align: right;\">\n",
       "      <th></th>\n",
       "      <th>timestamp</th>\n",
       "      <th>company</th>\n",
       "      <th>level</th>\n",
       "      <th>title</th>\n",
       "      <th>totalyearlycompensation</th>\n",
       "      <th>location</th>\n",
       "      <th>yearsofexperience</th>\n",
       "      <th>yearsatcompany</th>\n",
       "      <th>tag</th>\n",
       "      <th>basesalary</th>\n",
       "      <th>stockgrantvalue</th>\n",
       "      <th>bonus</th>\n",
       "      <th>gender</th>\n",
       "      <th>otherdetails</th>\n",
       "      <th>cityid</th>\n",
       "      <th>dmaid</th>\n",
       "      <th>rowNumber</th>\n",
       "    </tr>\n",
       "  </thead>\n",
       "  <tbody>\n",
       "    <tr>\n",
       "      <th>0</th>\n",
       "      <td>2018-06-05 14:06:30</td>\n",
       "      <td>LinkedIn</td>\n",
       "      <td>Senior</td>\n",
       "      <td>Data Scientist</td>\n",
       "      <td>274</td>\n",
       "      <td>San Francisco, CA</td>\n",
       "      <td>5</td>\n",
       "      <td>0</td>\n",
       "      <td>Data Analysis</td>\n",
       "      <td>149</td>\n",
       "      <td>118</td>\n",
       "      <td>7</td>\n",
       "      <td>Male</td>\n",
       "      <td>NaN</td>\n",
       "      <td>7419</td>\n",
       "      <td>807.0</td>\n",
       "      <td>813</td>\n",
       "    </tr>\n",
       "    <tr>\n",
       "      <th>1</th>\n",
       "      <td>2018-06-08 00:29:47</td>\n",
       "      <td>Amazon</td>\n",
       "      <td>L4</td>\n",
       "      <td>Data Scientist</td>\n",
       "      <td>147417</td>\n",
       "      <td>Seattle, WA</td>\n",
       "      <td>1</td>\n",
       "      <td>1</td>\n",
       "      <td>NaN</td>\n",
       "      <td>79203</td>\n",
       "      <td>68214</td>\n",
       "      <td>0</td>\n",
       "      <td>Male</td>\n",
       "      <td>NaN</td>\n",
       "      <td>11527</td>\n",
       "      <td>819.0</td>\n",
       "      <td>845</td>\n",
       "    </tr>\n",
       "    <tr>\n",
       "      <th>2</th>\n",
       "      <td>2018-06-08 09:49:25</td>\n",
       "      <td>Microsoft</td>\n",
       "      <td>64</td>\n",
       "      <td>Data Scientist</td>\n",
       "      <td>291</td>\n",
       "      <td>Seattle, WA</td>\n",
       "      <td>6</td>\n",
       "      <td>7</td>\n",
       "      <td>ML / AI</td>\n",
       "      <td>229</td>\n",
       "      <td>36</td>\n",
       "      <td>26</td>\n",
       "      <td>Male</td>\n",
       "      <td>NaN</td>\n",
       "      <td>11527</td>\n",
       "      <td>819.0</td>\n",
       "      <td>849</td>\n",
       "    </tr>\n",
       "    <tr>\n",
       "      <th>3</th>\n",
       "      <td>2018-06-08 17:55:09</td>\n",
       "      <td>ebay</td>\n",
       "      <td>26</td>\n",
       "      <td>Data Scientist</td>\n",
       "      <td>0</td>\n",
       "      <td>San Jose, CA</td>\n",
       "      <td>6</td>\n",
       "      <td>5</td>\n",
       "      <td>NaN</td>\n",
       "      <td>0</td>\n",
       "      <td>0</td>\n",
       "      <td>0</td>\n",
       "      <td>Female</td>\n",
       "      <td>NaN</td>\n",
       "      <td>7422</td>\n",
       "      <td>807.0</td>\n",
       "      <td>855</td>\n",
       "    </tr>\n",
       "    <tr>\n",
       "      <th>4</th>\n",
       "      <td>2018-06-10 19:39:35</td>\n",
       "      <td>Twitter</td>\n",
       "      <td>Staff</td>\n",
       "      <td>Data Scientist</td>\n",
       "      <td>310</td>\n",
       "      <td>San Francisco, CA</td>\n",
       "      <td>2</td>\n",
       "      <td>5</td>\n",
       "      <td>ML / AI</td>\n",
       "      <td>107</td>\n",
       "      <td>188</td>\n",
       "      <td>15</td>\n",
       "      <td>Male</td>\n",
       "      <td>NaN</td>\n",
       "      <td>7419</td>\n",
       "      <td>807.0</td>\n",
       "      <td>870</td>\n",
       "    </tr>\n",
       "  </tbody>\n",
       "</table>\n",
       "</div>"
      ],
      "text/plain": [
       "             timestamp    company   level           title  \\\n",
       "0  2018-06-05 14:06:30   LinkedIn  Senior  Data Scientist   \n",
       "1  2018-06-08 00:29:47     Amazon      L4  Data Scientist   \n",
       "2  2018-06-08 09:49:25  Microsoft      64  Data Scientist   \n",
       "3  2018-06-08 17:55:09       ebay      26  Data Scientist   \n",
       "4  2018-06-10 19:39:35    Twitter   Staff  Data Scientist   \n",
       "\n",
       "   totalyearlycompensation           location  yearsofexperience  \\\n",
       "0                      274  San Francisco, CA                  5   \n",
       "1                   147417        Seattle, WA                  1   \n",
       "2                      291        Seattle, WA                  6   \n",
       "3                        0       San Jose, CA                  6   \n",
       "4                      310  San Francisco, CA                  2   \n",
       "\n",
       "   yearsatcompany            tag  basesalary  stockgrantvalue  bonus  gender  \\\n",
       "0               0  Data Analysis         149              118      7    Male   \n",
       "1               1            NaN       79203            68214      0    Male   \n",
       "2               7        ML / AI         229               36     26    Male   \n",
       "3               5            NaN           0                0      0  Female   \n",
       "4               5        ML / AI         107              188     15    Male   \n",
       "\n",
       "  otherdetails  cityid  dmaid  rowNumber  \n",
       "0          NaN    7419  807.0        813  \n",
       "1          NaN   11527  819.0        845  \n",
       "2          NaN   11527  819.0        849  \n",
       "3          NaN    7422  807.0        855  \n",
       "4          NaN    7419  807.0        870  "
      ]
     },
     "execution_count": 11,
     "metadata": {},
     "output_type": "execute_result"
    }
   ],
   "source": [
    "df.head()"
   ]
  },
  {
   "cell_type": "code",
   "execution_count": 12,
   "metadata": {},
   "outputs": [
    {
     "data": {
      "text/html": [
       "<div>\n",
       "<style scoped>\n",
       "    .dataframe tbody tr th:only-of-type {\n",
       "        vertical-align: middle;\n",
       "    }\n",
       "\n",
       "    .dataframe tbody tr th {\n",
       "        vertical-align: top;\n",
       "    }\n",
       "\n",
       "    .dataframe thead th {\n",
       "        text-align: right;\n",
       "    }\n",
       "</style>\n",
       "<table border=\"1\" class=\"dataframe\">\n",
       "  <thead>\n",
       "    <tr style=\"text-align: right;\">\n",
       "      <th></th>\n",
       "      <th>count</th>\n",
       "      <th>mean</th>\n",
       "      <th>std</th>\n",
       "      <th>min</th>\n",
       "      <th>25%</th>\n",
       "      <th>50%</th>\n",
       "      <th>75%</th>\n",
       "      <th>max</th>\n",
       "    </tr>\n",
       "  </thead>\n",
       "  <tbody>\n",
       "    <tr>\n",
       "      <th>totalyearlycompensation</th>\n",
       "      <td>2578.0</td>\n",
       "      <td>1386.326610</td>\n",
       "      <td>17763.562817</td>\n",
       "      <td>0.0</td>\n",
       "      <td>117.00</td>\n",
       "      <td>177.0</td>\n",
       "      <td>257.00</td>\n",
       "      <td>503119.0</td>\n",
       "    </tr>\n",
       "    <tr>\n",
       "      <th>yearsofexperience</th>\n",
       "      <td>2578.0</td>\n",
       "      <td>5.071373</td>\n",
       "      <td>4.607735</td>\n",
       "      <td>0.0</td>\n",
       "      <td>2.00</td>\n",
       "      <td>4.0</td>\n",
       "      <td>7.00</td>\n",
       "      <td>42.0</td>\n",
       "    </tr>\n",
       "    <tr>\n",
       "      <th>yearsatcompany</th>\n",
       "      <td>2578.0</td>\n",
       "      <td>2.064779</td>\n",
       "      <td>2.425945</td>\n",
       "      <td>0.0</td>\n",
       "      <td>1.00</td>\n",
       "      <td>1.0</td>\n",
       "      <td>3.00</td>\n",
       "      <td>22.0</td>\n",
       "    </tr>\n",
       "    <tr>\n",
       "      <th>basesalary</th>\n",
       "      <td>2578.0</td>\n",
       "      <td>904.607836</td>\n",
       "      <td>10754.643330</td>\n",
       "      <td>0.0</td>\n",
       "      <td>90.25</td>\n",
       "      <td>131.0</td>\n",
       "      <td>180.00</td>\n",
       "      <td>252028.0</td>\n",
       "    </tr>\n",
       "    <tr>\n",
       "      <th>stockgrantvalue</th>\n",
       "      <td>2578.0</td>\n",
       "      <td>390.232351</td>\n",
       "      <td>7462.262178</td>\n",
       "      <td>0.0</td>\n",
       "      <td>0.00</td>\n",
       "      <td>19.0</td>\n",
       "      <td>53.75</td>\n",
       "      <td>284257.0</td>\n",
       "    </tr>\n",
       "    <tr>\n",
       "      <th>bonus</th>\n",
       "      <td>2578.0</td>\n",
       "      <td>91.486424</td>\n",
       "      <td>1876.027778</td>\n",
       "      <td>0.0</td>\n",
       "      <td>1.00</td>\n",
       "      <td>13.0</td>\n",
       "      <td>24.00</td>\n",
       "      <td>70932.0</td>\n",
       "    </tr>\n",
       "    <tr>\n",
       "      <th>cityid</th>\n",
       "      <td>2578.0</td>\n",
       "      <td>9986.732739</td>\n",
       "      <td>6609.613358</td>\n",
       "      <td>1182.0</td>\n",
       "      <td>7419.00</td>\n",
       "      <td>8178.0</td>\n",
       "      <td>11521.00</td>\n",
       "      <td>47926.0</td>\n",
       "    </tr>\n",
       "    <tr>\n",
       "      <th>dmaid</th>\n",
       "      <td>2578.0</td>\n",
       "      <td>620.963150</td>\n",
       "      <td>275.901269</td>\n",
       "      <td>0.0</td>\n",
       "      <td>505.00</td>\n",
       "      <td>807.0</td>\n",
       "      <td>807.00</td>\n",
       "      <td>862.0</td>\n",
       "    </tr>\n",
       "    <tr>\n",
       "      <th>rowNumber</th>\n",
       "      <td>2578.0</td>\n",
       "      <td>43468.069822</td>\n",
       "      <td>24508.271158</td>\n",
       "      <td>813.0</td>\n",
       "      <td>22799.25</td>\n",
       "      <td>44403.0</td>\n",
       "      <td>65561.75</td>\n",
       "      <td>83867.0</td>\n",
       "    </tr>\n",
       "  </tbody>\n",
       "</table>\n",
       "</div>"
      ],
      "text/plain": [
       "                          count          mean           std     min       25%  \\\n",
       "totalyearlycompensation  2578.0   1386.326610  17763.562817     0.0    117.00   \n",
       "yearsofexperience        2578.0      5.071373      4.607735     0.0      2.00   \n",
       "yearsatcompany           2578.0      2.064779      2.425945     0.0      1.00   \n",
       "basesalary               2578.0    904.607836  10754.643330     0.0     90.25   \n",
       "stockgrantvalue          2578.0    390.232351   7462.262178     0.0      0.00   \n",
       "bonus                    2578.0     91.486424   1876.027778     0.0      1.00   \n",
       "cityid                   2578.0   9986.732739   6609.613358  1182.0   7419.00   \n",
       "dmaid                    2578.0    620.963150    275.901269     0.0    505.00   \n",
       "rowNumber                2578.0  43468.069822  24508.271158   813.0  22799.25   \n",
       "\n",
       "                             50%       75%       max  \n",
       "totalyearlycompensation    177.0    257.00  503119.0  \n",
       "yearsofexperience            4.0      7.00      42.0  \n",
       "yearsatcompany               1.0      3.00      22.0  \n",
       "basesalary                 131.0    180.00  252028.0  \n",
       "stockgrantvalue             19.0     53.75  284257.0  \n",
       "bonus                       13.0     24.00   70932.0  \n",
       "cityid                    8178.0  11521.00   47926.0  \n",
       "dmaid                      807.0    807.00     862.0  \n",
       "rowNumber                44403.0  65561.75   83867.0  "
      ]
     },
     "execution_count": 12,
     "metadata": {},
     "output_type": "execute_result"
    }
   ],
   "source": [
    "df.describe().T"
   ]
  },
  {
   "cell_type": "code",
   "execution_count": 13,
   "metadata": {},
   "outputs": [
    {
     "name": "stdout",
     "output_type": "stream",
     "text": [
      "<class 'pandas.core.frame.DataFrame'>\n",
      "RangeIndex: 2578 entries, 0 to 2577\n",
      "Data columns (total 17 columns):\n",
      " #   Column                   Non-Null Count  Dtype  \n",
      "---  ------                   --------------  -----  \n",
      " 0   timestamp                2578 non-null   object \n",
      " 1   company                  2578 non-null   object \n",
      " 2   level                    2572 non-null   object \n",
      " 3   title                    2578 non-null   object \n",
      " 4   totalyearlycompensation  2578 non-null   int64  \n",
      " 5   location                 2578 non-null   object \n",
      " 6   yearsofexperience        2578 non-null   int64  \n",
      " 7   yearsatcompany           2578 non-null   int64  \n",
      " 8   tag                      2573 non-null   object \n",
      " 9   basesalary               2578 non-null   int64  \n",
      " 10  stockgrantvalue          2578 non-null   int64  \n",
      " 11  bonus                    2578 non-null   int64  \n",
      " 12  gender                   1740 non-null   object \n",
      " 13  otherdetails             1815 non-null   object \n",
      " 14  cityid                   2578 non-null   int64  \n",
      " 15  dmaid                    2578 non-null   float64\n",
      " 16  rowNumber                2578 non-null   int64  \n",
      "dtypes: float64(1), int64(8), object(8)\n",
      "memory usage: 342.5+ KB\n"
     ]
    }
   ],
   "source": [
    "df.info()"
   ]
  },
  {
   "cell_type": "markdown",
   "metadata": {},
   "source": [
    "<br/>"
   ]
  },
  {
   "cell_type": "markdown",
   "metadata": {},
   "source": [
    "## 7.0 Preprocessing"
   ]
  },
  {
   "cell_type": "markdown",
   "metadata": {},
   "source": [
    "### 7.1 Data Cleaning"
   ]
  },
  {
   "cell_type": "markdown",
   "metadata": {},
   "source": [
    "Find which feature column contains missing values"
   ]
  },
  {
   "cell_type": "code",
   "execution_count": 14,
   "metadata": {},
   "outputs": [],
   "source": [
    "col_with_na, has_na = find_col_with_na(df)"
   ]
  },
  {
   "cell_type": "code",
   "execution_count": 15,
   "metadata": {},
   "outputs": [
    {
     "data": {
      "text/plain": [
       "Index(['level', 'tag', 'gender', 'otherdetails'], dtype='object')"
      ]
     },
     "execution_count": 15,
     "metadata": {},
     "output_type": "execute_result"
    }
   ],
   "source": [
    "col_with_na"
   ]
  },
  {
   "cell_type": "code",
   "execution_count": 16,
   "metadata": {},
   "outputs": [
    {
     "data": {
      "text/plain": [
       "gender          32.505818\n",
       "otherdetails    29.596587\n",
       "level            0.232739\n",
       "tag              0.193949\n",
       "dtype: float64"
      ]
     },
     "execution_count": 16,
     "metadata": {},
     "output_type": "execute_result"
    }
   ],
   "source": [
    "calculate_na_pct(df)"
   ]
  },
  {
   "cell_type": "markdown",
   "metadata": {},
   "source": [
    "<br />"
   ]
  },
  {
   "cell_type": "code",
   "execution_count": 18,
   "metadata": {},
   "outputs": [
    {
     "data": {
      "text/plain": [
       "Male      1357\n",
       "Female     361\n",
       "Other       22\n",
       "Name: gender, dtype: int64"
      ]
     },
     "execution_count": 18,
     "metadata": {},
     "output_type": "execute_result"
    }
   ],
   "source": [
    "df['gender'].value_counts()"
   ]
  },
  {
   "cell_type": "code",
   "execution_count": 17,
   "metadata": {},
   "outputs": [
    {
     "data": {
      "text/plain": [
       "array(['Male', 'Female', nan, 'Other'], dtype=object)"
      ]
     },
     "execution_count": 17,
     "metadata": {},
     "output_type": "execute_result"
    }
   ],
   "source": [
    "df['gender'].unique()"
   ]
  },
  {
   "cell_type": "markdown",
   "metadata": {},
   "source": [
    "The dataset consists of 32.51% missing value for feature *gender*. Since the user at levels.fyi does not intend to disclose, we will impute these missing value as 'other' category."
   ]
  },
  {
   "cell_type": "code",
   "execution_count": 19,
   "metadata": {},
   "outputs": [],
   "source": [
    "replace_value = {\n",
    "    'gender': 'Other'\n",
    "}\n",
    "\n",
    "df = df.fillna(value=replace_value)"
   ]
  },
  {
   "cell_type": "code",
   "execution_count": 21,
   "metadata": {},
   "outputs": [
    {
     "data": {
      "text/plain": [
       "otherdetails    29.596587\n",
       "level            0.232739\n",
       "tag              0.193949\n",
       "dtype: float64"
      ]
     },
     "execution_count": 21,
     "metadata": {},
     "output_type": "execute_result"
    }
   ],
   "source": [
    "calculate_na_pct(df)"
   ]
  },
  {
   "cell_type": "markdown",
   "metadata": {},
   "source": [
    "<br />"
   ]
  },
  {
   "cell_type": "markdown",
   "metadata": {},
   "source": [
    "For the feature *otherdetails* that consists 29.60% of missing value, we can ignore it for now because this feature will be drop during feature selection. Same goes for the feature *tag* that consists 0.19% missing value.\n",
    "\n",
    "As for the last feature *level* that contains 0.23% of missing value, we can remove the instances from the dataset. Since, the missing value is small and can be safely ignored."
   ]
  },
  {
   "cell_type": "code",
   "execution_count": 22,
   "metadata": {},
   "outputs": [],
   "source": [
    "df = df.dropna(subset=['level'])"
   ]
  },
  {
   "cell_type": "markdown",
   "metadata": {},
   "source": [
    "<br />"
   ]
  },
  {
   "cell_type": "code",
   "execution_count": 23,
   "metadata": {},
   "outputs": [
    {
     "data": {
      "text/plain": [
       "otherdetails    29.587869\n",
       "tag              0.194401\n",
       "dtype: float64"
      ]
     },
     "execution_count": 23,
     "metadata": {},
     "output_type": "execute_result"
    }
   ],
   "source": [
    "calculate_na_pct(df)"
   ]
  },
  {
   "cell_type": "markdown",
   "metadata": {},
   "source": [
    "<br />"
   ]
  },
  {
   "cell_type": "markdown",
   "metadata": {},
   "source": [
    "### 7.2 Feature Selection"
   ]
  },
  {
   "cell_type": "code",
   "execution_count": 24,
   "metadata": {},
   "outputs": [
    {
     "data": {
      "text/plain": [
       "Index(['timestamp', 'company', 'level', 'title', 'totalyearlycompensation',\n",
       "       'location', 'yearsofexperience', 'yearsatcompany', 'tag', 'basesalary',\n",
       "       'stockgrantvalue', 'bonus', 'gender', 'otherdetails', 'cityid', 'dmaid',\n",
       "       'rowNumber'],\n",
       "      dtype='object')"
      ]
     },
     "execution_count": 24,
     "metadata": {},
     "output_type": "execute_result"
    }
   ],
   "source": [
    "df.columns"
   ]
  },
  {
   "cell_type": "markdown",
   "metadata": {},
   "source": [
    "We will be dropping the feature *title* as this is a filtered dataset contains only 'Data Scientist* as the only title. Moreover, we will also dropping feature *tag*, *otherdetails*, *cityid*, *dmaid* and *rowNumber*"
   ]
  },
  {
   "cell_type": "code",
   "execution_count": 27,
   "metadata": {},
   "outputs": [],
   "source": [
    "df = df.drop(['title', 'tag', 'otherdetails', 'cityid', 'dmaid','rowNumber'], axis=1)"
   ]
  },
  {
   "cell_type": "code",
   "execution_count": 28,
   "metadata": {},
   "outputs": [
    {
     "data": {
      "text/plain": [
       "Index(['timestamp', 'company', 'level', 'totalyearlycompensation', 'location',\n",
       "       'yearsofexperience', 'yearsatcompany', 'basesalary', 'stockgrantvalue',\n",
       "       'bonus', 'gender'],\n",
       "      dtype='object')"
      ]
     },
     "execution_count": 28,
     "metadata": {},
     "output_type": "execute_result"
    }
   ],
   "source": [
    "df.columns"
   ]
  },
  {
   "cell_type": "markdown",
   "metadata": {},
   "source": [
    "<br />"
   ]
  },
  {
   "cell_type": "code",
   "execution_count": 29,
   "metadata": {},
   "outputs": [
    {
     "data": {
      "text/plain": [
       "Series([], dtype: float64)"
      ]
     },
     "execution_count": 29,
     "metadata": {},
     "output_type": "execute_result"
    }
   ],
   "source": [
    "calculate_na_pct(df)"
   ]
  },
  {
   "cell_type": "markdown",
   "metadata": {},
   "source": [
    "After performing data cleaning and feature selection, the dataframe no longer contains any missing value and irrevelant features"
   ]
  },
  {
   "cell_type": "markdown",
   "metadata": {},
   "source": [
    "<br />"
   ]
  },
  {
   "cell_type": "markdown",
   "metadata": {},
   "source": [
    "### 7.3 Feature Engineering"
   ]
  },
  {
   "cell_type": "markdown",
   "metadata": {},
   "source": [
    "#### 7.3.1 level"
   ]
  },
  {
   "cell_type": "code",
   "execution_count": 30,
   "metadata": {},
   "outputs": [
    {
     "data": {
      "text/plain": [
       "17.573872472783826"
      ]
     },
     "execution_count": 30,
     "metadata": {},
     "output_type": "execute_result"
    }
   ],
   "source": [
    "df['level'].nunique() / len(df) * 100"
   ]
  },
  {
   "cell_type": "code",
   "execution_count": 31,
   "metadata": {},
   "outputs": [
    {
     "data": {
      "text/plain": [
       "452"
      ]
     },
     "execution_count": 31,
     "metadata": {},
     "output_type": "execute_result"
    }
   ],
   "source": [
    "df['level'].nunique()"
   ]
  },
  {
   "cell_type": "code",
   "execution_count": 32,
   "metadata": {},
   "outputs": [
    {
     "data": {
      "text/plain": [
       "array(['Senior', 'L4', '64', '26', 'Staff', 'T6', '5', 'L5', 'E3', '65',\n",
       "       'L6', 'Senior Engineer', 'II', 'IC5', 'Sr UX Researcher 4',\n",
       "       'Staff Engineer', 'Senior Associate', 'L',\n",
       "       'Associate Senior Data Scientist', '67', '62', 'P2',\n",
       "       'Senior Software Engineer', 'Bioinformatics Scientist II', 'L3',\n",
       "       'MTS 1', 'IC4', 'ICT3', 'P6', '63', 'SDE III', 'Ic3',\n",
       "       'Principal SWE', 'L2', 'L64', 'ICT4', 'Entry', 'Fellow 1',\n",
       "       'SDE II', '1', '2', 'T3', 'Staff Software Engineer',\n",
       "       'Vice President', '7', 'Senior vice president', 'IC3',\n",
       "       'Data Science Manager', 'ICT5', 'IC6', '603',\n",
       "       'Executive Director / Vice-President', '60', 'E4', 'Data Engineer',\n",
       "       'Grade 11', 'Member', '3', '59', 'P4', 'T24', 'Data Scientist 1',\n",
       "       'Director', 'senior', '61', 'L7', '66', 'IC-2',\n",
       "       'Senior Data Scientist', 'Lead', 'E5', 'Analyst', 'Grade 6', '25',\n",
       "       '13', 'Distinguished MTS', 'Senior Consultant', 'L24',\n",
       "       'Software Engineer (SWE)', 'Manager', '4', 'X5',\n",
       "       'Senior data scientist', '15', 'Specialist', 'Senior Manager',\n",
       "       'Associate', 'IC-3', 'Data Scientist 2', 'Mid Senior', 'Mid', '6',\n",
       "       'mid', 'Staff Data Scientist', '8', '9', 'Engineer II',\n",
       "       'Data scientist', 'Entry Level', 'SDE3', 'Grade 7', 'E6',\n",
       "       'Data Scientist', 'Sr. Manager', 'Ic 3', 'Grade 10', 'Lead MTS',\n",
       "       'VP', 'Bioinformatics Scientist', 'Senior MTS', 'IC2', '5a',\n",
       "       'Member of Technical Staff 3', 'L1', 'Data Scientist L1', 'B2',\n",
       "       '21', 'Only one level across Netflix', 'Analyst 2', '19', 'T4',\n",
       "       'Band 2', 'Core', 'Principal PM', 'Grade 8',\n",
       "       'Quantitative Associate', 'T22', 'Senior II', '4.5', 'Staff ',\n",
       "       'Junior', 'T2', 'Software Engineer 3', 'X3', 'l6',\n",
       "       'Principal Software Engineer', 'Senior Software Engineer 2',\n",
       "       'Principal EM', 'l4', '24', '16', 'L61', 'SWE II', 'MTS 2', 'L62',\n",
       "       '7a', '73', 'PRF3', 'D1', 'X7', 'P3', 'L5B', 'SDE 4',\n",
       "       'Authorized Officer', 'Band 7', 'Senior Analyst',\n",
       "       'Experienced Associate', 'Band 4', '30', 'Consultant', 'staff',\n",
       "       '18', 'Executive Director', 'Squad Step', 'Principal', '5b', 'L5A',\n",
       "       'P5', 'Job Grade 9', 'i7', 'T25', 'Also', 'X6', 'Senior ',\n",
       "       'Senior Research Scientist', 'Business Analyst', 'I7', 'Advisory ',\n",
       "       'Principal Eng', 'GCB 6', 'K', 'Lead Technologist', 'F',\n",
       "       'Data Scientist II', 'SDE 3', 'Senior Software Engineer (5)',\n",
       "       'Officer', 'T27', 'EM 2', 'staff ', 'Group Manager', 'L 4',\n",
       "       'Data Scientist I', 'fellow', 'Graduate', 'Data science 1',\n",
       "       'Senior SDE Manager', 'M', 'T5', 'Principal Associate',\n",
       "       'Associate ', 'Grade 9', 'ICT6', 'I8', 'DS3',\n",
       "       'Associate Data Scientist ', 'Reg.', 'Senior consultant ', 'P7',\n",
       "       'Technical lead', 'T26', 'QAC1', 'QA 2', 'Data', '1.3', 'BBB',\n",
       "       'principle', 'A2', 'ScientistII', 'Entry-level', 'IC-4', '10',\n",
       "       'T23', 'Data Analyst', 'Staff Data Analyst',\n",
       "       'Data Analysis and Simulation', 'DS II ', 'Analyst (501)', 'Base',\n",
       "       'Lead Associate', 'Senior SWE', 'Senior associate', 'L10',\n",
       "       'Mid Level', 'Level 2', 'CL24', 'SDE', 'G16', 'e3', 'Engineer 2',\n",
       "       'ict5', 'senior consultant', 'F Band', 'G3',\n",
       "       'Applied Researcher 2', 'C6', '602', 'A5', 'lead', 'G15', 'MTS2',\n",
       "       'Software Engineer 2', 'Level 5', 'L8', 'L27', '10i', 'G', 'p4',\n",
       "       'Machine Learning Engineer 2', 'GSR7',\n",
       "       'Senior Analytical Engineer', 'Band 8', 'RD2', 'Beginner',\n",
       "       'Sr Data Scientist', 'C7', 'L14', 'G5', 'Band 10', 'Grade 12',\n",
       "       'AVP', '17', 'X1', 'Director ', 'P1', 'C9', 'Principal ',\n",
       "       'Senior Rank1', 'Entry level', 'M3', 'Gradaute', 'MTS4',\n",
       "       'Autopilot', 'Scientist', 'Sr', 'C13', 'Senior Principal Engineer',\n",
       "       'G18', '0', '28', 'RD1', 'L1.2', 'Band 6', 'DS1', 'L9', 'D Band',\n",
       "       'Software Engineer 4', 'PL07', '402', 'Grade-8', '7V', 'Entry ',\n",
       "       'Data Science Associate', 'D2', 'Senior SDE', '49', 'Entry-Level',\n",
       "       'Principal Engineer', '2-2', 'associate director', 'x7',\n",
       "       'Machine Learning Researcher', '2-1', 'data scientist II', 'EG7',\n",
       "       'Senior scientist', 'Ic5', 'Associate Software Engineer', 'x3',\n",
       "       'I5', 'x4', 'DS II (L5)', 'Grade 13', 'Assistant Vice-President',\n",
       "       'Scientist ', 'L4 ', 'Software Engineer', '32', 'H7', 'GSR8',\n",
       "       'Data Science Analyst', 'E13', 'DS Entry', 'Band 9', 'x6', 'C14',\n",
       "       'Project Leader/Lead Data Scientist', '42', 'Level 4', '-',\n",
       "       'Senior Data Analyst', 'Lead Associate ', 'Full time Quant',\n",
       "       'Data Analyst 2', '?', 'Grade 5', 'J', 'G4', 'Data Scientist ',\n",
       "       'Forward Deployed Engineer', 'SE 2', 'DS 1', 'Intern', 'G2',\n",
       "       'GSR 7', 'QAS3', 'Product Manager 3', '58', 'IN3', 'PR3', 'middle',\n",
       "       'Sr. Data Scientist (L6)', 'Research Engineer', 'IC16',\n",
       "       'Technical specialist ', 'Associate Engineer', 'SPB', 'M6', '12',\n",
       "       'Master Software Eng', 'IC7', 'Working Student', 'L60', 'AT',\n",
       "       'QS3', 'SE 3', 'Mastery', 'G1', 'E2', 'L5 ', 'B3', 'Intermediate',\n",
       "       'AC5', 'Sr. Data Scientist', 'X4', 'M2', 'Senior analyst',\n",
       "       'Band D', 'E5A', 'Senior Expert', 'PB1', 'VS 1.3', 'I3', 'Regular',\n",
       "       'Ic4', 'PG8', 'avp', 'Associate Data Scientist', 'None', 'G05',\n",
       "       'G10', 'Software Engineer II', 'Tech 7', '410', 'B35', 'DS2',\n",
       "       'EG12', '10P', 'B8', '20', 'ic4', 'lead consultant', 'E-50', 'P03',\n",
       "       'Project Leader', 'B5', 'Associate Partner', '107', 'B7', 'B1',\n",
       "       'S3', '11', 'L5 Product Growth Analyst', 'G19', '11P', 'l5',\n",
       "       'band 9', 'E', 'Grade 130', 'C8', 'Senior Quantitative Analyst',\n",
       "       'data scientist', 'Principal MTS', 'Architect', 'Senior Manager ',\n",
       "       'M1', 'DS 2', 'Senior Scientist', 'Data Scientist L8', '27',\n",
       "       'Lead Member Of Technical Staff', 'Grade 140',\n",
       "       'Senior Consultant ', 'AD', '33', 'Lead Analyst', '3e',\n",
       "       'Associate Manager', '601', 'Group Manager ',\n",
       "       'Senior Lead Technologist', 'DS II'], dtype=object)"
      ]
     },
     "execution_count": 32,
     "metadata": {},
     "output_type": "execute_result"
    }
   ],
   "source": [
    "df['level'].unique()"
   ]
  },
  {
   "cell_type": "markdown",
   "metadata": {},
   "source": [
    "The *level* that each company offered is unique. Based on the information, there are 17.57% or 452 of different job title in the dataset. After all, the dataset is all about data scientist job, the different job title is just an indication of seniority of the position.\n",
    "<br/>\n",
    "<br/>\n",
    "The three most common work experience level is junior, intermediate and senior. Based on the *level* given by the dataset, we will be assigning appropriate category to the instances."
   ]
  },
  {
   "cell_type": "code",
   "execution_count": 34,
   "metadata": {},
   "outputs": [],
   "source": [
    "# the title keyword retrieved by skimming through the dataset and using levels.fyi as a guideline\n",
    "def assign_seniority(title):\n",
    "    senior_title_keyword = ['sr', 'senior', 'manager', 'vp', 'principal', 'lead', \n",
    "                            'director', 'head', 'supervisor', 'supervisory', 'executive',\n",
    "                            'l7', 'l8', 'l9', 'l10', 'e7', 'e8', 'e9', '67', 'partner 68',\n",
    "                            '69', '70', '80']\n",
    "    junior_title_keyword = ['jr', 'junior', 'intern', 'internship', 'associate', 'entry'\n",
    "                            'l3', 'l4', 'e3', 'e4', 'sde 59', '60', 'sde ii', '62', 'sde i',\n",
    "                            'sde ii']\n",
    "    \n",
    "    # Input Sanitisation\n",
    "    title = title.lower()\n",
    "    title = re.sub('[^a-zA-Z0-9 \\n\\.]', ' ', title)\n",
    "    \n",
    "    if any(keyword in title for keyword in senior_title_keyword):\n",
    "        return 'Senior'\n",
    "    elif any(keyword in title for keyword in junior_title_keyword):\n",
    "        return 'Junior'\n",
    "    else:\n",
    "        return 'Intermediate'"
   ]
  },
  {
   "cell_type": "code",
   "execution_count": 37,
   "metadata": {},
   "outputs": [
    {
     "data": {
      "text/plain": [
       "Intermediate    1797\n",
       "Junior           410\n",
       "Senior           365\n",
       "Name: Seniority, dtype: int64"
      ]
     },
     "execution_count": 37,
     "metadata": {},
     "output_type": "execute_result"
    }
   ],
   "source": [
    "df['Seniority'] = df['level'].apply(assign_seniority)\n",
    "df['Seniority'].value_counts()"
   ]
  },
  {
   "cell_type": "markdown",
   "metadata": {},
   "source": [
    "<br/>"
   ]
  },
  {
   "cell_type": "markdown",
   "metadata": {},
   "source": [
    "#### 7.3.2 location"
   ]
  },
  {
   "cell_type": "code",
   "execution_count": 38,
   "metadata": {},
   "outputs": [
    {
     "data": {
      "text/plain": [
       "225"
      ]
     },
     "execution_count": 38,
     "metadata": {},
     "output_type": "execute_result"
    }
   ],
   "source": [
    "df['location'].nunique()"
   ]
  },
  {
   "cell_type": "code",
   "execution_count": 39,
   "metadata": {},
   "outputs": [
    {
     "data": {
      "text/plain": [
       "array(['San Francisco, CA', 'Seattle, WA', 'San Jose, CA', 'Kirkland, WA',\n",
       "       'Singapore, SG, Singapore', 'Bellevue, WA', 'Los Gatos, CA',\n",
       "       'Palo Alto, CA', 'New York, NY', 'Menlo Park, CA', 'Roseland, NJ',\n",
       "       'San Diego, CA', 'Mc Lean, VA', 'Boston, MA', 'Washington, DC',\n",
       "       'Redmond, WA', 'Mountain View, CA', 'Cupertino, CA',\n",
       "       'Hangzhou, ZJ, China', 'Sunnyvale, CA', 'Bloomington, MN',\n",
       "       'Amsterdam, NH, Netherlands', 'Austin, TX', 'Santa Monica, CA',\n",
       "       'Charlotte, NC', 'Dallas, TX', 'London, EN, United Kingdom',\n",
       "       'Albuquerque, NM', 'Cary, NC', 'Atlanta, GA', 'Cambridge, MA',\n",
       "       'Bentonville, AR', 'Irvine, CA', 'Los Angeles, CA', 'Chicago, IL',\n",
       "       'Bangalore, KA, India', 'Toronto, ON, Canada', 'Broomfield, CO',\n",
       "       'Vancouver, BC, Canada', 'Hillsboro, OR', 'Santa Clara, CA',\n",
       "       'Gurgaon, HR, India', 'Plano, TX', 'Columbus, OH',\n",
       "       'Colorado Springs, CO', 'Portland, OR', 'Berkeley, CA',\n",
       "       'Morrisville, NC', 'Boulder, CO', 'Richmond, VA', 'Pittsburgh, PA',\n",
       "       'Raleigh, NC', 'Reston, VA', 'Wilmington, DE', 'Houston, TX',\n",
       "       'Redwood City, CA', 'Denver, CO',\n",
       "       'Dubai, DU, United Arab Emirates', 'Heidelberg, BW, Germany',\n",
       "       'Walnut Creek, CA', 'Cincinnati, OH', 'Farmington, UT',\n",
       "       'Wuppertal, NW, Germany', 'Fremont, CA', 'Phoenix, AZ',\n",
       "       'South San Francisco, CA', 'Minneapolis, MN', 'Philadelphia, PA',\n",
       "       'Tel Aviv, Israel', 'Tel Aviv, TA, Israel', 'Milpitas, CA',\n",
       "       'Munich, BY, Germany', 'Jersey City, NJ', 'Newtown Square, PA',\n",
       "       'San Mateo, CA', 'Montreal, QC, Canada', 'Fort Worth, TX',\n",
       "       'Tampa, FL', 'Milano, LO, Italy', 'Brampton, ON, Canada',\n",
       "       'Norfolk, VA', 'Warren, MI', 'Ann Arbor, MI', 'Raritan, NJ',\n",
       "       'Illinois City, IL', 'Markham, ON, Canada', 'Madison, WI',\n",
       "       'Kansas City, MO', 'Zurich, ZH, Switzerland', 'Durham, NC',\n",
       "       'Pleasanton, CA', 'Arlington, VA', 'San Ramon, CA',\n",
       "       'Saint Paul, MN', 'Berlin, BE, Germany', 'Foster City, CA',\n",
       "       'Moscow, MC, Russia', 'Round Rock, TX', 'Bengaluru, KA, India',\n",
       "       'Stockholm, ST, Sweden', 'Plymouth Meeting, PA', 'Brazil, IN',\n",
       "       'Kiev, KC, Ukraine', 'Hyderabad, AP, India', 'Armonk, NY',\n",
       "       'Hyderabad, TS, India', 'Chandler, AZ',\n",
       "       'Cambridge, EN, United Kingdom', 'San Bruno, CA',\n",
       "       'Melbourne, VI, Australia', 'Fairfax, VA', 'Emeryville, CA',\n",
       "       'San Juan Bautista, CA', 'Naperville, IL', 'Hartford, CT',\n",
       "       'Calgary, AB, Canada', 'Taipei, TP, Taiwan', 'Gainesville, FL',\n",
       "       'Tokyo, TY, Japan', 'Alexandria, VA', 'Miami, FL',\n",
       "       'Sao Paulo, SP, Brazil', 'Orlando, FL',\n",
       "       'Luxembourg, LU, Luxembourg', 'Mumbai, MH, India',\n",
       "       'Arizona City, AZ', 'Titusville, NJ', 'Italy, TX',\n",
       "       'Berlin Center, OH', 'Cleveland, OH', 'Ottawa, ON, Canada',\n",
       "       'Campbell, CA', 'Beaverton, OR', 'Detroit, MI', 'Boise, ID',\n",
       "       'Columbia, MO', 'Bridgewater, NJ', 'Stamford, CT', 'Waltham, MA',\n",
       "       'Antioch, TN', 'Edinburgh, SC, United Kingdom', 'Kansas City, KS',\n",
       "       'Shelton, CT', 'Woonsocket, RI', 'Indianapolis, IN',\n",
       "       'Waterloo, ON, Canada', 'San Antonio, TX', 'Shanghai, SH, China',\n",
       "       'Sacramento, CA', 'Louisville, KY', 'Bloomington, IL',\n",
       "       'Spring, TX', 'Provo, UT', 'Basel, BS, Switzerland',\n",
       "       'Sydney, NS, Australia', 'Chennai, TN, India', 'Needham, MA',\n",
       "       'Oakland, CA', 'Paris, IL, France', 'Beijing, BJ, China',\n",
       "       'McLean, TX', 'Dublin, DN, Ireland', 'Bristol, CT',\n",
       "       'The Hague, ZH, Netherlands', 'Mill Valley, CA', 'Dearborn, MI',\n",
       "       'Erlangen, BY, Germany', 'Northbrook, IL', 'Barcelona, CT, Spain',\n",
       "       'Karlsruhe, BW, Germany', 'Hong Kong, HK, Hong Kong (SAR)',\n",
       "       'Basking Ridge, NJ', 'Charleston, SC', 'Longmont, CO',\n",
       "       'Glendale, CA', 'Columbia, MD', 'Traverse City, MI',\n",
       "       'Wellesley, MA', 'Las Vegas, NV', 'Huntsville, AL',\n",
       "       'Saint Petersburg, SP, Russia', 'Manassas, VA', 'Rochester, MN',\n",
       "       'La Jolla, CA', 'Vienna, WI, Austria', 'Hoboken, NJ',\n",
       "       'Birmingham, AL', 'Baltimore, MD', 'Vienna, VA', 'Worcester, MA',\n",
       "       'Irving, TX', 'Ireland, IN', 'Alpharetta, GA', 'Madrid, MD, Spain',\n",
       "       'Chicago Heights, IL', 'Brooklyn, NY', 'Oklahoma City, OK',\n",
       "       'Newport Beach, CA', 'Canberra, CT, Australia', 'Redmond, UT',\n",
       "       'Herndon, VA', 'Navi Mumbai, MH, India', 'Tulsa, OK',\n",
       "       'Mississippi State, MS', 'Hawaiian Gardens, CA', 'Boca Raton, FL',\n",
       "       'Dublin, NH', 'Warsaw, MZ, Poland', 'King of Prussia, PA',\n",
       "       'Newark, NJ', 'Pune, MH, India', 'Memphis, TN', 'Malvern, PA',\n",
       "       'Watertown, MA', 'St. Louis, MO', 'Hsin-chu, TP, Taiwan',\n",
       "       'Taichung City, TP, Taiwan', 'Washington, VA',\n",
       "       'Taoyuan, TA, Taiwan', 'Mountain View, MO',\n",
       "       'Woodlands, SG, Singapore', 'Annapolis Junction, MD',\n",
       "       'Holmdel, NJ', 'New City, NY', 'West McLean, VA'], dtype=object)"
      ]
     },
     "execution_count": 39,
     "metadata": {},
     "output_type": "execute_result"
    }
   ],
   "source": [
    "df['location'].unique()"
   ]
  },
  {
   "cell_type": "markdown",
   "metadata": {},
   "source": [
    "Just by skimming through the dataset, we can notice most of the location is in the United State. Some location in the US is further divided by city. With 225 different location, it will be hard for us to do any analyse. Thus, we will be categorise above locaitons into 7 continents: Asia, Africa, North America, South America, Antarctica, Europe, and Australia"
   ]
  },
  {
   "cell_type": "code",
   "execution_count": 84,
   "metadata": {},
   "outputs": [],
   "source": [
    "def get_country_or_state(row):\n",
    "    return row.split(',')[-1].strip()"
   ]
  },
  {
   "cell_type": "code",
   "execution_count": 87,
   "metadata": {},
   "outputs": [],
   "source": [
    "unique_country_or_state = pd.Series(df['location'].unique()).apply(get_country_or_state)"
   ]
  },
  {
   "cell_type": "code",
   "execution_count": 88,
   "metadata": {},
   "outputs": [
    {
     "data": {
      "text/plain": [
       "array(['CA', 'WA', 'Singapore', 'NY', 'NJ', 'VA', 'MA', 'DC', 'China',\n",
       "       'MN', 'Netherlands', 'TX', 'NC', 'United Kingdom', 'NM', 'GA',\n",
       "       'AR', 'IL', 'India', 'Canada', 'CO', 'OR', 'OH', 'PA', 'DE',\n",
       "       'United Arab Emirates', 'Germany', 'UT', 'AZ', 'Israel', 'FL',\n",
       "       'Italy', 'MI', 'WI', 'MO', 'Switzerland', 'Russia', 'Sweden', 'IN',\n",
       "       'Ukraine', 'Australia', 'CT', 'Taiwan', 'Japan', 'Brazil',\n",
       "       'Luxembourg', 'ID', 'TN', 'KS', 'RI', 'KY', 'France', 'Ireland',\n",
       "       'Spain', 'Hong Kong (SAR)', 'SC', 'MD', 'NV', 'AL', 'Austria',\n",
       "       'OK', 'MS', 'NH', 'Poland'], dtype=object)"
      ]
     },
     "execution_count": 88,
     "metadata": {},
     "output_type": "execute_result"
    }
   ],
   "source": [
    "unique_country_or_state.unique()"
   ]
  },
  {
   "cell_type": "code",
   "execution_count": 90,
   "metadata": {},
   "outputs": [],
   "source": [
    "state_country_to_continent_dict = {\n",
    "    'CA': 'North America', 'WA': 'North America', 'NY': 'North America', 'NJ': 'North America', \n",
    "    'VA': 'North America', 'MA': 'North America', 'DC': 'North America', 'MN': 'North America', \n",
    "    'TX': 'North America', 'NC': 'North America', 'NM': 'North America', 'GA': 'North America',\n",
    "    'AR': 'North America', 'IL': 'North America', 'CO': 'North America', 'OR': 'North America', \n",
    "    'OH': 'North America', 'PA': 'North America', 'DE': 'North America', 'UT': 'North America', \n",
    "    'AZ': 'North America', 'FL': 'North America', 'MI': 'North America', 'WI': 'North America', \n",
    "    'MO': 'North America', 'IN': 'North America', 'CT': 'North America', 'ID': 'North America', \n",
    "    'TN': 'North America', 'KS': 'North America', 'RI': 'North America', 'KY': 'North America', \n",
    "    'SC': 'North America', 'MD': 'North America', 'NV': 'North America', 'AL': 'North America', \n",
    "    'OK': 'North America', 'MS': 'North America', 'NH': 'North America', 'Canada': 'North America', \n",
    "\n",
    "    'Switzerland': 'Europe', 'Sweden': 'Europe', 'Italy': 'Europe', 'Germany': 'Europe', \n",
    "    'United Kingdom': 'Europe', 'Netherlands': 'Europe', 'Ukraine': 'Europe', \n",
    "    'Luxembourg': 'Europe', 'France': 'Europe', 'Ireland': 'Europe', 'Spain': 'Europe',\n",
    "    'Austria': 'Europe', 'Poland': 'Europe',\n",
    "    \n",
    "    'Singapore': 'Asia', 'China': 'Asia', 'India': 'Asia', 'United Arab Emirates': 'Asia', \n",
    "    'Israel': 'Asia', 'Russia': 'Asia', 'Taiwan': 'Asia', 'Japan': 'Asia', \n",
    "    'Hong Kong (SAR)': 'Asia', \n",
    "    \n",
    "    'Brazil': 'South America', \n",
    "    'Australia': 'Australia'\n",
    "}"
   ]
  },
  {
   "cell_type": "markdown",
   "metadata": {},
   "source": [
    "## 8.0 EDA"
   ]
  },
  {
   "cell_type": "code",
   "execution_count": null,
   "metadata": {},
   "outputs": [],
   "source": []
  },
  {
   "cell_type": "markdown",
   "metadata": {},
   "source": [
    "## 9.0 Building Model"
   ]
  },
  {
   "cell_type": "markdown",
   "metadata": {},
   "source": [
    "---"
   ]
  },
  {
   "cell_type": "markdown",
   "metadata": {},
   "source": [
    "## 9.0 Conclusion"
   ]
  }
 ],
 "metadata": {
  "kernelspec": {
   "display_name": "Python 3",
   "language": "python",
   "name": "python3"
  },
  "language_info": {
   "codemirror_mode": {
    "name": "ipython",
    "version": 3
   },
   "file_extension": ".py",
   "mimetype": "text/x-python",
   "name": "python",
   "nbconvert_exporter": "python",
   "pygments_lexer": "ipython3",
   "version": "3.7.10"
  }
 },
 "nbformat": 4,
 "nbformat_minor": 4
}
