{
 "cells": [
  {
   "cell_type": "markdown",
   "metadata": {},
   "source": [
    "# Data Science and STEM Salaries Analysis"
   ]
  },
  {
   "cell_type": "markdown",
   "metadata": {},
   "source": [
    "---"
   ]
  },
  {
   "cell_type": "markdown",
   "metadata": {},
   "source": [
    "## 1.0 Objectives"
   ]
  },
  {
   "cell_type": "markdown",
   "metadata": {},
   "source": [
    "## 2.0 Dataset Information\n",
    "\n",
    "### 2.1 Description\n",
    "\n",
    "### 2.2 Data Dictionary\n",
    "\n",
    "### 2.3 Acknowledgement & Source"
   ]
  },
  {
   "cell_type": "markdown",
   "metadata": {},
   "source": [
    "---\n",
    "\n",
    "<br/>"
   ]
  },
  {
   "cell_type": "markdown",
   "metadata": {},
   "source": [
    "## 3.0 Import Library and Set Constant"
   ]
  },
  {
   "cell_type": "code",
   "execution_count": 1,
   "metadata": {},
   "outputs": [],
   "source": [
    "# Enable graph in jupyter notebook\n",
    "%matplotlib inline\n",
    "\n",
    "# System\n",
    "import sys\n",
    "import os\n",
    "\n",
    "# Fetch data\n",
    "import requests"
   ]
  },
  {
   "cell_type": "code",
   "execution_count": 2,
   "metadata": {},
   "outputs": [],
   "source": [
    "# EDA\n",
    "import numpy as np\n",
    "import pandas as pd\n",
    "import matplotlib.pyplot as plt\n",
    "import seaborn as sns"
   ]
  },
  {
   "cell_type": "code",
   "execution_count": 3,
   "metadata": {},
   "outputs": [],
   "source": [
    "# Constant\n",
    "LEVELS_FYI_SALARY_SOURCE_URL = 'https://www.levels.fyi/js/salaryData.json'\n",
    "RAW_SALARY_FILE_URL = 'levels-fyi-salary-raw.csv'\n",
    "DS_RAW_SALARY_FILE_URL = 'ds-levels-fyi-salary-raw.csv'\n",
    "DS_CLEANED_SALARY_FILE_URL = 'ds-levels-fyi-salary-cleaned.csv'\n",
    "\n",
    "UTILS_PATH = os.path.join('..', 'utils')"
   ]
  },
  {
   "cell_type": "code",
   "execution_count": 4,
   "metadata": {},
   "outputs": [],
   "source": [
    "# Below functions are common function that the author wrote and used\n",
    "# Statistics for Missing Value in DataFrame\n",
    "sys.path.append(UTILS_PATH)\n",
    "\n",
    "from stats_df_na import find_col_with_na, calculate_na_pct"
   ]
  },
  {
   "cell_type": "markdown",
   "metadata": {},
   "source": [
    "<br />"
   ]
  },
  {
   "cell_type": "markdown",
   "metadata": {},
   "source": [
    "## 4.0 Setting Graph Style"
   ]
  },
  {
   "cell_type": "code",
   "execution_count": 5,
   "metadata": {},
   "outputs": [],
   "source": [
    "plt.rcParams[\"figure.figsize\"] = (6, 3)\n",
    "plt.rcParams['figure.dpi'] = 150\n",
    "\n",
    "sns.set_style(\"white\")"
   ]
  },
  {
   "cell_type": "markdown",
   "metadata": {},
   "source": [
    "<br />"
   ]
  },
  {
   "cell_type": "markdown",
   "metadata": {},
   "source": [
    "## 5.0 Fetch and Write Data"
   ]
  },
  {
   "cell_type": "code",
   "execution_count": 67,
   "metadata": {},
   "outputs": [],
   "source": [
    "# Fetch data in JSON\n",
    "data = requests.get('https://www.levels.fyi/js/salaryData.json').json()\n",
    "json_df = pd.DataFrame(data)\n",
    "\n",
    "# Output raw salary in CSV\n",
    "json_df.to_csv(RAW_SALARY_FILE_URL, index=False)"
   ]
  },
  {
   "cell_type": "markdown",
   "metadata": {},
   "source": [
    "<br />"
   ]
  },
  {
   "cell_type": "code",
   "execution_count": 6,
   "metadata": {},
   "outputs": [],
   "source": [
    "df = pd.read_csv(RAW_SALARY_FILE_URL, parse_dates=['timestamp'], dayfirst=False)"
   ]
  },
  {
   "cell_type": "code",
   "execution_count": 7,
   "metadata": {},
   "outputs": [
    {
     "data": {
      "text/plain": [
       "array(['Product Manager', 'Software Engineer',\n",
       "       'Software Engineering Manager', 'Data Scientist',\n",
       "       'Solution Architect', 'Technical Program Manager',\n",
       "       'Human Resources', 'Product Designer', 'Marketing',\n",
       "       'Business Analyst', 'Hardware Engineer', 'Sales', 'Recruiter',\n",
       "       'Mechanical Engineer', 'Management Consultant'], dtype=object)"
      ]
     },
     "execution_count": 7,
     "metadata": {},
     "output_type": "execute_result"
    }
   ],
   "source": [
    "df['title'].unique()"
   ]
  },
  {
   "cell_type": "code",
   "execution_count": 8,
   "metadata": {},
   "outputs": [],
   "source": [
    "ds_df = df[ df['title'] == 'Data Scientist']"
   ]
  },
  {
   "cell_type": "code",
   "execution_count": 9,
   "metadata": {},
   "outputs": [],
   "source": [
    "ds_df.to_csv(DS_RAW_SALARY_FILE_URL, index=False)"
   ]
  },
  {
   "cell_type": "markdown",
   "metadata": {},
   "source": [
    "<br />"
   ]
  },
  {
   "cell_type": "markdown",
   "metadata": {},
   "source": [
    "Below will import the csv as the main dataframe"
   ]
  },
  {
   "cell_type": "code",
   "execution_count": 10,
   "metadata": {},
   "outputs": [],
   "source": [
    "df = pd.read_csv(DS_RAW_SALARY_FILE_URL)"
   ]
  },
  {
   "cell_type": "markdown",
   "metadata": {},
   "source": [
    "<br />"
   ]
  },
  {
   "cell_type": "markdown",
   "metadata": {},
   "source": [
    "## 6.0 Statistics Summary of Dataset"
   ]
  },
  {
   "cell_type": "code",
   "execution_count": 11,
   "metadata": {},
   "outputs": [
    {
     "data": {
      "text/html": [
       "<div>\n",
       "<style scoped>\n",
       "    .dataframe tbody tr th:only-of-type {\n",
       "        vertical-align: middle;\n",
       "    }\n",
       "\n",
       "    .dataframe tbody tr th {\n",
       "        vertical-align: top;\n",
       "    }\n",
       "\n",
       "    .dataframe thead th {\n",
       "        text-align: right;\n",
       "    }\n",
       "</style>\n",
       "<table border=\"1\" class=\"dataframe\">\n",
       "  <thead>\n",
       "    <tr style=\"text-align: right;\">\n",
       "      <th></th>\n",
       "      <th>timestamp</th>\n",
       "      <th>company</th>\n",
       "      <th>level</th>\n",
       "      <th>title</th>\n",
       "      <th>totalyearlycompensation</th>\n",
       "      <th>location</th>\n",
       "      <th>yearsofexperience</th>\n",
       "      <th>yearsatcompany</th>\n",
       "      <th>tag</th>\n",
       "      <th>basesalary</th>\n",
       "      <th>stockgrantvalue</th>\n",
       "      <th>bonus</th>\n",
       "      <th>gender</th>\n",
       "      <th>otherdetails</th>\n",
       "      <th>cityid</th>\n",
       "      <th>dmaid</th>\n",
       "      <th>rowNumber</th>\n",
       "    </tr>\n",
       "  </thead>\n",
       "  <tbody>\n",
       "    <tr>\n",
       "      <th>0</th>\n",
       "      <td>2018-06-05 14:06:30</td>\n",
       "      <td>LinkedIn</td>\n",
       "      <td>Senior</td>\n",
       "      <td>Data Scientist</td>\n",
       "      <td>274</td>\n",
       "      <td>San Francisco, CA</td>\n",
       "      <td>5</td>\n",
       "      <td>0</td>\n",
       "      <td>Data Analysis</td>\n",
       "      <td>149</td>\n",
       "      <td>118</td>\n",
       "      <td>7</td>\n",
       "      <td>Male</td>\n",
       "      <td>NaN</td>\n",
       "      <td>7419</td>\n",
       "      <td>807.0</td>\n",
       "      <td>813</td>\n",
       "    </tr>\n",
       "    <tr>\n",
       "      <th>1</th>\n",
       "      <td>2018-06-08 00:29:47</td>\n",
       "      <td>Amazon</td>\n",
       "      <td>L4</td>\n",
       "      <td>Data Scientist</td>\n",
       "      <td>147417</td>\n",
       "      <td>Seattle, WA</td>\n",
       "      <td>1</td>\n",
       "      <td>1</td>\n",
       "      <td>NaN</td>\n",
       "      <td>79203</td>\n",
       "      <td>68214</td>\n",
       "      <td>0</td>\n",
       "      <td>Male</td>\n",
       "      <td>NaN</td>\n",
       "      <td>11527</td>\n",
       "      <td>819.0</td>\n",
       "      <td>845</td>\n",
       "    </tr>\n",
       "    <tr>\n",
       "      <th>2</th>\n",
       "      <td>2018-06-08 09:49:25</td>\n",
       "      <td>Microsoft</td>\n",
       "      <td>64</td>\n",
       "      <td>Data Scientist</td>\n",
       "      <td>291</td>\n",
       "      <td>Seattle, WA</td>\n",
       "      <td>6</td>\n",
       "      <td>7</td>\n",
       "      <td>ML / AI</td>\n",
       "      <td>229</td>\n",
       "      <td>36</td>\n",
       "      <td>26</td>\n",
       "      <td>Male</td>\n",
       "      <td>NaN</td>\n",
       "      <td>11527</td>\n",
       "      <td>819.0</td>\n",
       "      <td>849</td>\n",
       "    </tr>\n",
       "    <tr>\n",
       "      <th>3</th>\n",
       "      <td>2018-06-08 17:55:09</td>\n",
       "      <td>ebay</td>\n",
       "      <td>26</td>\n",
       "      <td>Data Scientist</td>\n",
       "      <td>0</td>\n",
       "      <td>San Jose, CA</td>\n",
       "      <td>6</td>\n",
       "      <td>5</td>\n",
       "      <td>NaN</td>\n",
       "      <td>0</td>\n",
       "      <td>0</td>\n",
       "      <td>0</td>\n",
       "      <td>Female</td>\n",
       "      <td>NaN</td>\n",
       "      <td>7422</td>\n",
       "      <td>807.0</td>\n",
       "      <td>855</td>\n",
       "    </tr>\n",
       "    <tr>\n",
       "      <th>4</th>\n",
       "      <td>2018-06-10 19:39:35</td>\n",
       "      <td>Twitter</td>\n",
       "      <td>Staff</td>\n",
       "      <td>Data Scientist</td>\n",
       "      <td>310</td>\n",
       "      <td>San Francisco, CA</td>\n",
       "      <td>2</td>\n",
       "      <td>5</td>\n",
       "      <td>ML / AI</td>\n",
       "      <td>107</td>\n",
       "      <td>188</td>\n",
       "      <td>15</td>\n",
       "      <td>Male</td>\n",
       "      <td>NaN</td>\n",
       "      <td>7419</td>\n",
       "      <td>807.0</td>\n",
       "      <td>870</td>\n",
       "    </tr>\n",
       "  </tbody>\n",
       "</table>\n",
       "</div>"
      ],
      "text/plain": [
       "             timestamp    company   level           title  \\\n",
       "0  2018-06-05 14:06:30   LinkedIn  Senior  Data Scientist   \n",
       "1  2018-06-08 00:29:47     Amazon      L4  Data Scientist   \n",
       "2  2018-06-08 09:49:25  Microsoft      64  Data Scientist   \n",
       "3  2018-06-08 17:55:09       ebay      26  Data Scientist   \n",
       "4  2018-06-10 19:39:35    Twitter   Staff  Data Scientist   \n",
       "\n",
       "   totalyearlycompensation           location  yearsofexperience  \\\n",
       "0                      274  San Francisco, CA                  5   \n",
       "1                   147417        Seattle, WA                  1   \n",
       "2                      291        Seattle, WA                  6   \n",
       "3                        0       San Jose, CA                  6   \n",
       "4                      310  San Francisco, CA                  2   \n",
       "\n",
       "   yearsatcompany            tag  basesalary  stockgrantvalue  bonus  gender  \\\n",
       "0               0  Data Analysis         149              118      7    Male   \n",
       "1               1            NaN       79203            68214      0    Male   \n",
       "2               7        ML / AI         229               36     26    Male   \n",
       "3               5            NaN           0                0      0  Female   \n",
       "4               5        ML / AI         107              188     15    Male   \n",
       "\n",
       "  otherdetails  cityid  dmaid  rowNumber  \n",
       "0          NaN    7419  807.0        813  \n",
       "1          NaN   11527  819.0        845  \n",
       "2          NaN   11527  819.0        849  \n",
       "3          NaN    7422  807.0        855  \n",
       "4          NaN    7419  807.0        870  "
      ]
     },
     "execution_count": 11,
     "metadata": {},
     "output_type": "execute_result"
    }
   ],
   "source": [
    "df.head()"
   ]
  },
  {
   "cell_type": "code",
   "execution_count": 12,
   "metadata": {},
   "outputs": [
    {
     "data": {
      "text/html": [
       "<div>\n",
       "<style scoped>\n",
       "    .dataframe tbody tr th:only-of-type {\n",
       "        vertical-align: middle;\n",
       "    }\n",
       "\n",
       "    .dataframe tbody tr th {\n",
       "        vertical-align: top;\n",
       "    }\n",
       "\n",
       "    .dataframe thead th {\n",
       "        text-align: right;\n",
       "    }\n",
       "</style>\n",
       "<table border=\"1\" class=\"dataframe\">\n",
       "  <thead>\n",
       "    <tr style=\"text-align: right;\">\n",
       "      <th></th>\n",
       "      <th>count</th>\n",
       "      <th>mean</th>\n",
       "      <th>std</th>\n",
       "      <th>min</th>\n",
       "      <th>25%</th>\n",
       "      <th>50%</th>\n",
       "      <th>75%</th>\n",
       "      <th>max</th>\n",
       "    </tr>\n",
       "  </thead>\n",
       "  <tbody>\n",
       "    <tr>\n",
       "      <th>totalyearlycompensation</th>\n",
       "      <td>2578.0</td>\n",
       "      <td>1386.326610</td>\n",
       "      <td>17763.562817</td>\n",
       "      <td>0.0</td>\n",
       "      <td>117.00</td>\n",
       "      <td>177.0</td>\n",
       "      <td>257.00</td>\n",
       "      <td>503119.0</td>\n",
       "    </tr>\n",
       "    <tr>\n",
       "      <th>yearsofexperience</th>\n",
       "      <td>2578.0</td>\n",
       "      <td>5.071373</td>\n",
       "      <td>4.607735</td>\n",
       "      <td>0.0</td>\n",
       "      <td>2.00</td>\n",
       "      <td>4.0</td>\n",
       "      <td>7.00</td>\n",
       "      <td>42.0</td>\n",
       "    </tr>\n",
       "    <tr>\n",
       "      <th>yearsatcompany</th>\n",
       "      <td>2578.0</td>\n",
       "      <td>2.064779</td>\n",
       "      <td>2.425945</td>\n",
       "      <td>0.0</td>\n",
       "      <td>1.00</td>\n",
       "      <td>1.0</td>\n",
       "      <td>3.00</td>\n",
       "      <td>22.0</td>\n",
       "    </tr>\n",
       "    <tr>\n",
       "      <th>basesalary</th>\n",
       "      <td>2578.0</td>\n",
       "      <td>904.607836</td>\n",
       "      <td>10754.643330</td>\n",
       "      <td>0.0</td>\n",
       "      <td>90.25</td>\n",
       "      <td>131.0</td>\n",
       "      <td>180.00</td>\n",
       "      <td>252028.0</td>\n",
       "    </tr>\n",
       "    <tr>\n",
       "      <th>stockgrantvalue</th>\n",
       "      <td>2578.0</td>\n",
       "      <td>390.232351</td>\n",
       "      <td>7462.262178</td>\n",
       "      <td>0.0</td>\n",
       "      <td>0.00</td>\n",
       "      <td>19.0</td>\n",
       "      <td>53.75</td>\n",
       "      <td>284257.0</td>\n",
       "    </tr>\n",
       "    <tr>\n",
       "      <th>bonus</th>\n",
       "      <td>2578.0</td>\n",
       "      <td>91.486424</td>\n",
       "      <td>1876.027778</td>\n",
       "      <td>0.0</td>\n",
       "      <td>1.00</td>\n",
       "      <td>13.0</td>\n",
       "      <td>24.00</td>\n",
       "      <td>70932.0</td>\n",
       "    </tr>\n",
       "    <tr>\n",
       "      <th>cityid</th>\n",
       "      <td>2578.0</td>\n",
       "      <td>9986.732739</td>\n",
       "      <td>6609.613358</td>\n",
       "      <td>1182.0</td>\n",
       "      <td>7419.00</td>\n",
       "      <td>8178.0</td>\n",
       "      <td>11521.00</td>\n",
       "      <td>47926.0</td>\n",
       "    </tr>\n",
       "    <tr>\n",
       "      <th>dmaid</th>\n",
       "      <td>2578.0</td>\n",
       "      <td>620.963150</td>\n",
       "      <td>275.901269</td>\n",
       "      <td>0.0</td>\n",
       "      <td>505.00</td>\n",
       "      <td>807.0</td>\n",
       "      <td>807.00</td>\n",
       "      <td>862.0</td>\n",
       "    </tr>\n",
       "    <tr>\n",
       "      <th>rowNumber</th>\n",
       "      <td>2578.0</td>\n",
       "      <td>43468.069822</td>\n",
       "      <td>24508.271158</td>\n",
       "      <td>813.0</td>\n",
       "      <td>22799.25</td>\n",
       "      <td>44403.0</td>\n",
       "      <td>65561.75</td>\n",
       "      <td>83867.0</td>\n",
       "    </tr>\n",
       "  </tbody>\n",
       "</table>\n",
       "</div>"
      ],
      "text/plain": [
       "                          count          mean           std     min       25%  \\\n",
       "totalyearlycompensation  2578.0   1386.326610  17763.562817     0.0    117.00   \n",
       "yearsofexperience        2578.0      5.071373      4.607735     0.0      2.00   \n",
       "yearsatcompany           2578.0      2.064779      2.425945     0.0      1.00   \n",
       "basesalary               2578.0    904.607836  10754.643330     0.0     90.25   \n",
       "stockgrantvalue          2578.0    390.232351   7462.262178     0.0      0.00   \n",
       "bonus                    2578.0     91.486424   1876.027778     0.0      1.00   \n",
       "cityid                   2578.0   9986.732739   6609.613358  1182.0   7419.00   \n",
       "dmaid                    2578.0    620.963150    275.901269     0.0    505.00   \n",
       "rowNumber                2578.0  43468.069822  24508.271158   813.0  22799.25   \n",
       "\n",
       "                             50%       75%       max  \n",
       "totalyearlycompensation    177.0    257.00  503119.0  \n",
       "yearsofexperience            4.0      7.00      42.0  \n",
       "yearsatcompany               1.0      3.00      22.0  \n",
       "basesalary                 131.0    180.00  252028.0  \n",
       "stockgrantvalue             19.0     53.75  284257.0  \n",
       "bonus                       13.0     24.00   70932.0  \n",
       "cityid                    8178.0  11521.00   47926.0  \n",
       "dmaid                      807.0    807.00     862.0  \n",
       "rowNumber                44403.0  65561.75   83867.0  "
      ]
     },
     "execution_count": 12,
     "metadata": {},
     "output_type": "execute_result"
    }
   ],
   "source": [
    "df.describe().T"
   ]
  },
  {
   "cell_type": "code",
   "execution_count": 13,
   "metadata": {},
   "outputs": [
    {
     "name": "stdout",
     "output_type": "stream",
     "text": [
      "<class 'pandas.core.frame.DataFrame'>\n",
      "RangeIndex: 2578 entries, 0 to 2577\n",
      "Data columns (total 17 columns):\n",
      " #   Column                   Non-Null Count  Dtype  \n",
      "---  ------                   --------------  -----  \n",
      " 0   timestamp                2578 non-null   object \n",
      " 1   company                  2578 non-null   object \n",
      " 2   level                    2572 non-null   object \n",
      " 3   title                    2578 non-null   object \n",
      " 4   totalyearlycompensation  2578 non-null   int64  \n",
      " 5   location                 2578 non-null   object \n",
      " 6   yearsofexperience        2578 non-null   int64  \n",
      " 7   yearsatcompany           2578 non-null   int64  \n",
      " 8   tag                      2573 non-null   object \n",
      " 9   basesalary               2578 non-null   int64  \n",
      " 10  stockgrantvalue          2578 non-null   int64  \n",
      " 11  bonus                    2578 non-null   int64  \n",
      " 12  gender                   1740 non-null   object \n",
      " 13  otherdetails             1815 non-null   object \n",
      " 14  cityid                   2578 non-null   int64  \n",
      " 15  dmaid                    2578 non-null   float64\n",
      " 16  rowNumber                2578 non-null   int64  \n",
      "dtypes: float64(1), int64(8), object(8)\n",
      "memory usage: 342.5+ KB\n"
     ]
    }
   ],
   "source": [
    "df.info()"
   ]
  },
  {
   "cell_type": "markdown",
   "metadata": {},
   "source": [
    "<br/>"
   ]
  },
  {
   "cell_type": "markdown",
   "metadata": {},
   "source": [
    "## 7.0 Preprocessing"
   ]
  },
  {
   "cell_type": "markdown",
   "metadata": {},
   "source": [
    "### 7.1 Data Cleaning"
   ]
  },
  {
   "cell_type": "markdown",
   "metadata": {},
   "source": [
    "Find which feature column contains missing values"
   ]
  },
  {
   "cell_type": "code",
   "execution_count": 14,
   "metadata": {},
   "outputs": [],
   "source": [
    "col_with_na, has_na = find_col_with_na(df)"
   ]
  },
  {
   "cell_type": "code",
   "execution_count": 15,
   "metadata": {},
   "outputs": [
    {
     "data": {
      "text/plain": [
       "Index(['level', 'tag', 'gender', 'otherdetails'], dtype='object')"
      ]
     },
     "execution_count": 15,
     "metadata": {},
     "output_type": "execute_result"
    }
   ],
   "source": [
    "col_with_na"
   ]
  },
  {
   "cell_type": "code",
   "execution_count": 16,
   "metadata": {},
   "outputs": [
    {
     "data": {
      "text/plain": [
       "gender          32.505818\n",
       "otherdetails    29.596587\n",
       "level            0.232739\n",
       "tag              0.193949\n",
       "dtype: float64"
      ]
     },
     "execution_count": 16,
     "metadata": {},
     "output_type": "execute_result"
    }
   ],
   "source": [
    "calculate_na_pct(df)"
   ]
  },
  {
   "cell_type": "markdown",
   "metadata": {},
   "source": [
    "<br />"
   ]
  },
  {
   "cell_type": "code",
   "execution_count": 18,
   "metadata": {},
   "outputs": [
    {
     "data": {
      "text/plain": [
       "Male      1357\n",
       "Female     361\n",
       "Other       22\n",
       "Name: gender, dtype: int64"
      ]
     },
     "execution_count": 18,
     "metadata": {},
     "output_type": "execute_result"
    }
   ],
   "source": [
    "df['gender'].value_counts()"
   ]
  },
  {
   "cell_type": "code",
   "execution_count": 17,
   "metadata": {},
   "outputs": [
    {
     "data": {
      "text/plain": [
       "array(['Male', 'Female', nan, 'Other'], dtype=object)"
      ]
     },
     "execution_count": 17,
     "metadata": {},
     "output_type": "execute_result"
    }
   ],
   "source": [
    "df['gender'].unique()"
   ]
  },
  {
   "cell_type": "markdown",
   "metadata": {},
   "source": [
    "The dataset consists of 32.51% missing value for feature *gender*. Since the user at levels.fyi does not intend to disclose, we will impute these missing value as 'other' category."
   ]
  },
  {
   "cell_type": "code",
   "execution_count": 19,
   "metadata": {},
   "outputs": [],
   "source": [
    "replace_value = {\n",
    "    'gender': 'Other'\n",
    "}\n",
    "\n",
    "df = df.fillna(value=replace_value)"
   ]
  },
  {
   "cell_type": "code",
   "execution_count": 21,
   "metadata": {},
   "outputs": [
    {
     "data": {
      "text/plain": [
       "otherdetails    29.596587\n",
       "level            0.232739\n",
       "tag              0.193949\n",
       "dtype: float64"
      ]
     },
     "execution_count": 21,
     "metadata": {},
     "output_type": "execute_result"
    }
   ],
   "source": [
    "calculate_na_pct(df)"
   ]
  },
  {
   "cell_type": "markdown",
   "metadata": {},
   "source": [
    "<br />"
   ]
  },
  {
   "cell_type": "markdown",
   "metadata": {},
   "source": [
    "For the feature *otherdetails* that consists 29.60% of missing value, we can ignore it for now because this feature will be drop during feature selection. Same goes for the feature *tag* that consists 0.19% missing value.\n",
    "\n",
    "As for the last feature *level* that contains 0.23% of missing value, we can remove the instances from the dataset. Since, the missing value is small and can be safely ignored."
   ]
  },
  {
   "cell_type": "code",
   "execution_count": 22,
   "metadata": {},
   "outputs": [],
   "source": [
    "df = df.dropna(subset=['level'])"
   ]
  },
  {
   "cell_type": "markdown",
   "metadata": {},
   "source": [
    "<br />"
   ]
  },
  {
   "cell_type": "code",
   "execution_count": 23,
   "metadata": {},
   "outputs": [
    {
     "data": {
      "text/plain": [
       "otherdetails    29.587869\n",
       "tag              0.194401\n",
       "dtype: float64"
      ]
     },
     "execution_count": 23,
     "metadata": {},
     "output_type": "execute_result"
    }
   ],
   "source": [
    "calculate_na_pct(df)"
   ]
  },
  {
   "cell_type": "markdown",
   "metadata": {},
   "source": [
    "<br />"
   ]
  },
  {
   "cell_type": "markdown",
   "metadata": {},
   "source": [
    "### 7.2 Feature Selection"
   ]
  },
  {
   "cell_type": "code",
   "execution_count": 24,
   "metadata": {},
   "outputs": [
    {
     "data": {
      "text/plain": [
       "Index(['timestamp', 'company', 'level', 'title', 'totalyearlycompensation',\n",
       "       'location', 'yearsofexperience', 'yearsatcompany', 'tag', 'basesalary',\n",
       "       'stockgrantvalue', 'bonus', 'gender', 'otherdetails', 'cityid', 'dmaid',\n",
       "       'rowNumber'],\n",
       "      dtype='object')"
      ]
     },
     "execution_count": 24,
     "metadata": {},
     "output_type": "execute_result"
    }
   ],
   "source": [
    "df.columns"
   ]
  },
  {
   "cell_type": "markdown",
   "metadata": {},
   "source": [
    "We will be dropping the feature *title* as this is a filtered dataset contains only 'Data Scientist* as the only title. Moreover, we will also dropping feature *tag*, *otherdetails*, *cityid*, *dmaid* and *rowNumber*"
   ]
  },
  {
   "cell_type": "code",
   "execution_count": 27,
   "metadata": {},
   "outputs": [],
   "source": [
    "df = df.drop(['title', 'tag', 'otherdetails', 'cityid', 'dmaid','rowNumber'], axis=1)"
   ]
  },
  {
   "cell_type": "code",
   "execution_count": 28,
   "metadata": {},
   "outputs": [
    {
     "data": {
      "text/plain": [
       "Index(['timestamp', 'company', 'level', 'totalyearlycompensation', 'location',\n",
       "       'yearsofexperience', 'yearsatcompany', 'basesalary', 'stockgrantvalue',\n",
       "       'bonus', 'gender'],\n",
       "      dtype='object')"
      ]
     },
     "execution_count": 28,
     "metadata": {},
     "output_type": "execute_result"
    }
   ],
   "source": [
    "df.columns"
   ]
  },
  {
   "cell_type": "markdown",
   "metadata": {},
   "source": [
    "<br />"
   ]
  },
  {
   "cell_type": "code",
   "execution_count": 29,
   "metadata": {},
   "outputs": [
    {
     "data": {
      "text/plain": [
       "Series([], dtype: float64)"
      ]
     },
     "execution_count": 29,
     "metadata": {},
     "output_type": "execute_result"
    }
   ],
   "source": [
    "calculate_na_pct(df)"
   ]
  },
  {
   "cell_type": "markdown",
   "metadata": {},
   "source": [
    "After performing data cleaning and feature selection, the dataframe no longer contains any missing value and irrevelant features"
   ]
  },
  {
   "cell_type": "markdown",
   "metadata": {},
   "source": [
    "<br />"
   ]
  },
  {
   "cell_type": "markdown",
   "metadata": {},
   "source": [
    "## 8.0 EDA"
   ]
  },
  {
   "cell_type": "code",
   "execution_count": null,
   "metadata": {},
   "outputs": [],
   "source": []
  },
  {
   "cell_type": "markdown",
   "metadata": {},
   "source": [
    "## 9.0 Building Model"
   ]
  },
  {
   "cell_type": "markdown",
   "metadata": {},
   "source": [
    "---"
   ]
  },
  {
   "cell_type": "markdown",
   "metadata": {},
   "source": [
    "## 9.0 Conclusion"
   ]
  }
 ],
 "metadata": {
  "kernelspec": {
   "display_name": "Python 3",
   "language": "python",
   "name": "python3"
  },
  "language_info": {
   "codemirror_mode": {
    "name": "ipython",
    "version": 3
   },
   "file_extension": ".py",
   "mimetype": "text/x-python",
   "name": "python",
   "nbconvert_exporter": "python",
   "pygments_lexer": "ipython3",
   "version": "3.7.10"
  }
 },
 "nbformat": 4,
 "nbformat_minor": 4
}
