{
 "cells": [
  {
   "cell_type": "markdown",
   "id": "legal-block",
   "metadata": {},
   "source": [
    "# FAANG Stock Analysis"
   ]
  },
  {
   "cell_type": "markdown",
   "id": "fundamental-screening",
   "metadata": {},
   "source": [
    "---"
   ]
  },
  {
   "cell_type": "markdown",
   "id": "legendary-swimming",
   "metadata": {},
   "source": [
    "# 1.0 Objectives\n",
    "\n",
    "- To predict BUY and SELL date for FAANG stock\n",
    "- Forecast closing price of FAANG for T+30 days"
   ]
  },
  {
   "cell_type": "markdown",
   "id": "european-supplier",
   "metadata": {},
   "source": [
    "# 2.0 Dataset Information\n",
    "\n",
    "FAANG refers to the pioneer\n",
    "\n",
    "Meta (previously known as Facebook), Amazon, Apple, Netflix and Alphabet (previously known as Google),  "
   ]
  },
  {
   "cell_type": "code",
   "execution_count": null,
   "id": "violent-judges",
   "metadata": {},
   "outputs": [],
   "source": []
  }
 ],
 "metadata": {
  "kernelspec": {
   "display_name": "Python 3",
   "language": "python",
   "name": "python3"
  },
  "language_info": {
   "codemirror_mode": {
    "name": "ipython",
    "version": 3
   },
   "file_extension": ".py",
   "mimetype": "text/x-python",
   "name": "python",
   "nbconvert_exporter": "python",
   "pygments_lexer": "ipython3",
   "version": "3.7.10"
  }
 },
 "nbformat": 4,
 "nbformat_minor": 5
}
