{
 "cells": [
  {
   "cell_type": "markdown",
   "metadata": {},
   "source": [
    "# FAANG Stock Analysis (As of 18 Jan 2022)"
   ]
  },
  {
   "cell_type": "markdown",
   "metadata": {},
   "source": [
    "---"
   ]
  },
  {
   "cell_type": "markdown",
   "metadata": {},
   "source": [
    "Table of Content"
   ]
  },
  {
   "cell_type": "markdown",
   "metadata": {},
   "source": [
    "---"
   ]
  },
  {
   "cell_type": "markdown",
   "metadata": {},
   "source": [
    "## 1.0 Objectives\n",
    "\n",
    "- To predict BUY and SELL date for FAANG stock\n",
    "- Forecast closing price of FAANG for T+30 days"
   ]
  },
  {
   "cell_type": "markdown",
   "metadata": {},
   "source": [
    "## 2.0 Dataset Information\n",
    "\n",
    "### 2.1 Description\n",
    "FAANG refers to Meta (previously known as Facebook), Amazon, Apple, Netflix and Alphabet (previously known as Google). These five corporate stock bundled together is widely known as the FAANG. They are the pioneer in the tech industry. All of them are listed on the Nasdaq Stock Market in the United States(US).\n",
    "\n",
    "The FAANG stock dataset will fetch directly using *pandas_datareader* library with the source from *Yahoo Finance*\n",
    "\n",
    "\n",
    "### 2.2 Data Dictionary\n",
    "Their stock ticker symbol as follows:\n",
    "\n",
    "|Corporate|Ticker Symbol|\n",
    "| :---    | :---        |\n",
    "| Meta Platforms, Inc | FB |\n",
    "| Amazon.com., Inc | AMZN |\n",
    "| Apple Inc. | AAPL |\n",
    "| Netflix, Inc. | NFLX |\n",
    "| Alphabet Inc. | GOOG |\n",
    "\n",
    "\n",
    "### 2.3 Assumption\n",
    "- The dataset will only consist Alphabet Class C stock (GOOG). Alphabet Class A stock (GOOGL) will not take into consideration.\n",
    "- Adopt short-term active trading style and holding position for a maximum 30 business days only."
   ]
  },
  {
   "cell_type": "markdown",
   "metadata": {},
   "source": [
    "---"
   ]
  },
  {
   "cell_type": "markdown",
   "metadata": {},
   "source": [
    "## 3.0 Import Library and Load Dataset"
   ]
  },
  {
   "cell_type": "code",
   "execution_count": null,
   "metadata": {},
   "outputs": [],
   "source": [
    "# Enable graph in jupyter notebook\n",
    "%matplotlib inline\n",
    "\n",
    "# EDA\n",
    "import numpy as np\n",
    "import pandas as pd\n",
    "import matplotlib.pyplot as plt\n",
    "import seaborn as sns"
   ]
  },
  {
   "cell_type": "markdown",
   "metadata": {},
   "source": [
    "## 4.0 Setting Graph Style"
   ]
  },
  {
   "cell_type": "code",
   "execution_count": 4,
   "metadata": {},
   "outputs": [],
   "source": [
    "plt.rcParams[\"figure.figsize\"] = (6, 3)\n",
    "plt.rcParams['figure.dpi'] = 150\n",
    "sns.set_style(\"white\")"
   ]
  },
  {
   "cell_type": "markdown",
   "metadata": {},
   "source": [
    "## 5.0 EDA"
   ]
  },
  {
   "cell_type": "markdown",
   "metadata": {},
   "source": [
    "## 6.0 Deep Learning"
   ]
  },
  {
   "cell_type": "markdown",
   "metadata": {},
   "source": [
    "## 7.0 Summary"
   ]
  }
 ],
 "metadata": {
  "kernelspec": {
   "display_name": "Python 3",
   "language": "python",
   "name": "python3"
  },
  "language_info": {
   "codemirror_mode": {
    "name": "ipython",
    "version": 3
   },
   "file_extension": ".py",
   "mimetype": "text/x-python",
   "name": "python",
   "nbconvert_exporter": "python",
   "pygments_lexer": "ipython3",
   "version": "3.7.10"
  }
 },
 "nbformat": 4,
 "nbformat_minor": 5
}
