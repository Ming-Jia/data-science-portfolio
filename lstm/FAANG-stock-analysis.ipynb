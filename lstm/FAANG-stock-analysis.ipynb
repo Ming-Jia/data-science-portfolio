{
  "cells": [
    {
      "cell_type": "markdown",
      "metadata": {
        "id": "Ry-UDsOQVGxs"
      },
      "source": [
        "# FAANG Stock Analysis (As of 15 Jan 2022)\n",
        "\n",
        "---\n",
        "\n",
        "**Table of Content**\n",
        "\n",
        "---"
      ],
      "id": "Ry-UDsOQVGxs"
    },
    {
      "cell_type": "markdown",
      "metadata": {
        "id": "7vxRUX5QVGxy"
      },
      "source": [
        "# 1.0 Objectives\n",
        "\n",
        "- To predict BUY and SELL date for FAANG stock\n",
        "- Forecast closing price of FAANG for T+30 days"
      ],
      "id": "7vxRUX5QVGxy"
    },
    {
      "cell_type": "markdown",
      "metadata": {
        "id": "C-DJiAUzVGxz"
      },
      "source": [
        "# 2.0 Dataset Information"
      ],
      "id": "C-DJiAUzVGxz"
    },
    {
      "cell_type": "markdown",
      "source": [
        "### 2.1 Description\n",
        "FAANG refers to Meta (previously known as Facebook), Amazon, Apple, Netflix and Alphabet (previously known as Google). These five corporate stock bundled together is widely known as the FAANG. They are the pioneer in the tech industry. All of them are listed on the Nasdaq Stock Market in the United States(US).\n",
        "\n",
        "The FAANG stock dataset will fetch directly using *pandas_datareader* library with the source from *Yahoo Finance*"
      ],
      "metadata": {
        "id": "Yz-oD0RGXhZn"
      },
      "id": "Yz-oD0RGXhZn"
    },
    {
      "cell_type": "markdown",
      "source": [
        "## 2.2 Data Dictionary\n",
        "Their stock ticker symbol as follows:\n",
        "\n",
        "|Corporate|Ticker Symbol|\n",
        "| :---    | :---        |\n",
        "| Meta Platforms, Inc | FB |\n",
        "| Amazon.com., Inc | AMZN |\n",
        "| Apple Inc. | AAPL |\n",
        "| Netflix, Inc. | NFLX |\n",
        "| Alphabet Inc. | GOOG |"
      ],
      "metadata": {
        "id": "1V9t1s1WXuc2"
      },
      "id": "1V9t1s1WXuc2"
    },
    {
      "cell_type": "markdown",
      "source": [
        "## 2.3 Assumption\n",
        "- The dataset will only consist Alphabet Class C stock (GOOG). Alphabet Class A stock (GOOGL) will not take into consideration.\n",
        "- Adopt swing trading style\n",
        "- Holding for any security has a minimum 1 and maximum 20 business days for BUY position\n",
        "- Will not execute SHORT position for any security\n",
        "- Risk management is involved when trading the stock"
      ],
      "metadata": {
        "id": "AvO6HAfRXu8g"
      },
      "id": "AvO6HAfRXu8g"
    },
    {
      "cell_type": "markdown",
      "metadata": {
        "id": "gI4uI4eHVGx0"
      },
      "source": [
        "# 3.0 Import Library"
      ],
      "id": "gI4uI4eHVGx0"
    },
    {
      "cell_type": "code",
      "execution_count": 1,
      "metadata": {
        "id": "1AwqHliZVGx1"
      },
      "outputs": [],
      "source": [
        "# System\n",
        "import sys\n",
        "import os\n",
        "\n",
        "# Date\n",
        "from datetime import date, datetime, timedelta\n",
        "\n",
        "# Fetch data\n",
        "import pandas_datareader.data as web\n",
        "\n",
        "# EDA\n",
        "import numpy as np\n",
        "import pandas as pd\n",
        "import matplotlib.pyplot as plt\n",
        "from matplotlib import dates\n",
        "import seaborn as sns"
      ],
      "id": "1AwqHliZVGx1"
    },
    {
      "cell_type": "code",
      "source": [
        "# RNN model\n",
        "import tensorflow as tf"
      ],
      "metadata": {
        "id": "RLqMEPrfZLgG"
      },
      "id": "RLqMEPrfZLgG",
      "execution_count": 2,
      "outputs": []
    },
    {
      "cell_type": "markdown",
      "metadata": {
        "id": "Ihop8273VGx4"
      },
      "source": [
        "<br />"
      ],
      "id": "Ihop8273VGx4"
    },
    {
      "cell_type": "markdown",
      "source": [
        "# 4.0 Set Constant and Default Settings"
      ],
      "metadata": {
        "id": "L5L85xzxZZUj"
      },
      "id": "L5L85xzxZZUj"
    },
    {
      "cell_type": "code",
      "source": [
        "plt.rcParams['figure.dpi'] = 150\n",
        "sns.set_style('dark')"
      ],
      "metadata": {
        "id": "_KBeH0siZdnl"
      },
      "id": "_KBeH0siZdnl",
      "execution_count": 3,
      "outputs": []
    },
    {
      "cell_type": "code",
      "execution_count": 13,
      "metadata": {
        "id": "zRzcLBElVGx3"
      },
      "outputs": [],
      "source": [
        "# Date\n",
        "today_date = date.today()\n",
        "one_year_duration = timedelta(days=365)\n",
        "data_format = '%Y-%m-%d'\n",
        "\n",
        "# Stock info source\n",
        "data_source = 'yahoo'\n",
        "\n",
        "# FAANG info\n",
        "faang = {\n",
        "    'FB': {\n",
        "        'ticker': 'FB',\n",
        "        'filename': 'fb.csv'\n",
        "    },\n",
        "    'AMZN': {\n",
        "        'ticker': 'AMZN',\n",
        "        'filename': 'amzn.csv'\n",
        "    },\n",
        "    'AAPL': {\n",
        "        'ticker': 'AAPL',\n",
        "        'filename': 'aapl.csv'\n",
        "    },\n",
        "    'NFLX': {\n",
        "        'ticker': 'NFLX',\n",
        "        'filename': 'nlfx.csv'\n",
        "    },\n",
        "    'GOOG': {\n",
        "        'ticker': 'GOOG',\n",
        "        'filename': 'goog.csv'\n",
        "    }\n",
        "}"
      ],
      "id": "zRzcLBElVGx3"
    },
    {
      "cell_type": "markdown",
      "metadata": {
        "id": "8YjCauFvVGx5"
      },
      "source": [
        "<br />"
      ],
      "id": "8YjCauFvVGx5"
    },
    {
      "cell_type": "markdown",
      "metadata": {
        "id": "1rUKEYA5VGx5"
      },
      "source": [
        "# 5.0 Fetch, Write and Load Dataset"
      ],
      "id": "1rUKEYA5VGx5"
    },
    {
      "cell_type": "code",
      "execution_count": 14,
      "metadata": {
        "id": "swd2moKWVGx6"
      },
      "outputs": [],
      "source": [
        "def fetch_faang_stock(end_date = today_date):\n",
        "    start_date = end_date - one_year_duration\n",
        "    \n",
        "    start = start_date.strftime(data_format)\n",
        "    end = end_date.strftime(data_format)\n",
        "    \n",
        "    for ticker, info in faang.items():\n",
        "        df = web.DataReader(ticker, data_source, start=start, end=end)\n",
        "\n",
        "        display(df)\n",
        "\n",
        "        df = df.reset_index()\n",
        "        df.to_csv(info['filename'], index=False)"
      ],
      "id": "swd2moKWVGx6"
    },
    {
      "cell_type": "code",
      "execution_count": 15,
      "metadata": {
        "colab": {
          "base_uri": "https://localhost:8080/",
          "height": 589
        },
        "id": "odDzmZDeVGx6",
        "outputId": "290465a1-51d3-4009-a88b-8714486c2a4e"
      },
      "outputs": [
        {
          "output_type": "error",
          "ename": "RemoteDataError",
          "evalue": "ignored",
          "traceback": [
            "\u001b[0;31m---------------------------------------------------------------------------\u001b[0m",
            "\u001b[0;31mRemoteDataError\u001b[0m                           Traceback (most recent call last)",
            "\u001b[0;32m<ipython-input-15-9fa86f5be624>\u001b[0m in \u001b[0;36m<module>\u001b[0;34m()\u001b[0m\n\u001b[0;32m----> 1\u001b[0;31m \u001b[0mfetch_faang_stock\u001b[0m\u001b[0;34m(\u001b[0m\u001b[0mdatetime\u001b[0m\u001b[0;34m(\u001b[0m\u001b[0;36m2021\u001b[0m\u001b[0;34m,\u001b[0m \u001b[0;36m1\u001b[0m\u001b[0;34m,\u001b[0m \u001b[0;36m15\u001b[0m\u001b[0;34m)\u001b[0m\u001b[0;34m)\u001b[0m\u001b[0;34m\u001b[0m\u001b[0;34m\u001b[0m\u001b[0m\n\u001b[0m",
            "\u001b[0;32m<ipython-input-14-1f10e1681503>\u001b[0m in \u001b[0;36mfetch_faang_stock\u001b[0;34m(end_date)\u001b[0m\n\u001b[1;32m      6\u001b[0m \u001b[0;34m\u001b[0m\u001b[0m\n\u001b[1;32m      7\u001b[0m     \u001b[0;32mfor\u001b[0m \u001b[0mticker\u001b[0m\u001b[0;34m,\u001b[0m \u001b[0minfo\u001b[0m \u001b[0;32min\u001b[0m \u001b[0mfaang\u001b[0m\u001b[0;34m.\u001b[0m\u001b[0mitems\u001b[0m\u001b[0;34m(\u001b[0m\u001b[0;34m)\u001b[0m\u001b[0;34m:\u001b[0m\u001b[0;34m\u001b[0m\u001b[0;34m\u001b[0m\u001b[0m\n\u001b[0;32m----> 8\u001b[0;31m         \u001b[0mdf\u001b[0m \u001b[0;34m=\u001b[0m \u001b[0mweb\u001b[0m\u001b[0;34m.\u001b[0m\u001b[0mDataReader\u001b[0m\u001b[0;34m(\u001b[0m\u001b[0mticker\u001b[0m\u001b[0;34m,\u001b[0m \u001b[0mdata_source\u001b[0m\u001b[0;34m,\u001b[0m \u001b[0mstart\u001b[0m\u001b[0;34m=\u001b[0m\u001b[0mstart\u001b[0m\u001b[0;34m,\u001b[0m \u001b[0mend\u001b[0m\u001b[0;34m=\u001b[0m\u001b[0mend\u001b[0m\u001b[0;34m)\u001b[0m\u001b[0;34m\u001b[0m\u001b[0;34m\u001b[0m\u001b[0m\n\u001b[0m\u001b[1;32m      9\u001b[0m \u001b[0;34m\u001b[0m\u001b[0m\n\u001b[1;32m     10\u001b[0m         \u001b[0mdisplay\u001b[0m\u001b[0;34m(\u001b[0m\u001b[0mdf\u001b[0m\u001b[0;34m)\u001b[0m\u001b[0;34m\u001b[0m\u001b[0;34m\u001b[0m\u001b[0m\n",
            "\u001b[0;32m/usr/local/lib/python3.7/dist-packages/pandas/util/_decorators.py\u001b[0m in \u001b[0;36mwrapper\u001b[0;34m(*args, **kwargs)\u001b[0m\n\u001b[1;32m    205\u001b[0m                 \u001b[0;32melse\u001b[0m\u001b[0;34m:\u001b[0m\u001b[0;34m\u001b[0m\u001b[0;34m\u001b[0m\u001b[0m\n\u001b[1;32m    206\u001b[0m                     \u001b[0mkwargs\u001b[0m\u001b[0;34m[\u001b[0m\u001b[0mnew_arg_name\u001b[0m\u001b[0;34m]\u001b[0m \u001b[0;34m=\u001b[0m \u001b[0mnew_arg_value\u001b[0m\u001b[0;34m\u001b[0m\u001b[0;34m\u001b[0m\u001b[0m\n\u001b[0;32m--> 207\u001b[0;31m             \u001b[0;32mreturn\u001b[0m \u001b[0mfunc\u001b[0m\u001b[0;34m(\u001b[0m\u001b[0;34m*\u001b[0m\u001b[0margs\u001b[0m\u001b[0;34m,\u001b[0m \u001b[0;34m**\u001b[0m\u001b[0mkwargs\u001b[0m\u001b[0;34m)\u001b[0m\u001b[0;34m\u001b[0m\u001b[0;34m\u001b[0m\u001b[0m\n\u001b[0m\u001b[1;32m    208\u001b[0m \u001b[0;34m\u001b[0m\u001b[0m\n\u001b[1;32m    209\u001b[0m         \u001b[0;32mreturn\u001b[0m \u001b[0mcast\u001b[0m\u001b[0;34m(\u001b[0m\u001b[0mF\u001b[0m\u001b[0;34m,\u001b[0m \u001b[0mwrapper\u001b[0m\u001b[0;34m)\u001b[0m\u001b[0;34m\u001b[0m\u001b[0;34m\u001b[0m\u001b[0m\n",
            "\u001b[0;32m/usr/local/lib/python3.7/dist-packages/pandas_datareader/data.py\u001b[0m in \u001b[0;36mDataReader\u001b[0;34m(name, data_source, start, end, retry_count, pause, session, api_key)\u001b[0m\n\u001b[1;32m    382\u001b[0m             \u001b[0mretry_count\u001b[0m\u001b[0;34m=\u001b[0m\u001b[0mretry_count\u001b[0m\u001b[0;34m,\u001b[0m\u001b[0;34m\u001b[0m\u001b[0;34m\u001b[0m\u001b[0m\n\u001b[1;32m    383\u001b[0m             \u001b[0mpause\u001b[0m\u001b[0;34m=\u001b[0m\u001b[0mpause\u001b[0m\u001b[0;34m,\u001b[0m\u001b[0;34m\u001b[0m\u001b[0;34m\u001b[0m\u001b[0m\n\u001b[0;32m--> 384\u001b[0;31m             \u001b[0msession\u001b[0m\u001b[0;34m=\u001b[0m\u001b[0msession\u001b[0m\u001b[0;34m,\u001b[0m\u001b[0;34m\u001b[0m\u001b[0;34m\u001b[0m\u001b[0m\n\u001b[0m\u001b[1;32m    385\u001b[0m         ).read()\n\u001b[1;32m    386\u001b[0m \u001b[0;34m\u001b[0m\u001b[0m\n",
            "\u001b[0;32m/usr/local/lib/python3.7/dist-packages/pandas_datareader/base.py\u001b[0m in \u001b[0;36mread\u001b[0;34m(self)\u001b[0m\n\u001b[1;32m    251\u001b[0m         \u001b[0;31m# If a single symbol, (e.g., 'GOOG')\u001b[0m\u001b[0;34m\u001b[0m\u001b[0;34m\u001b[0m\u001b[0;34m\u001b[0m\u001b[0m\n\u001b[1;32m    252\u001b[0m         \u001b[0;32mif\u001b[0m \u001b[0misinstance\u001b[0m\u001b[0;34m(\u001b[0m\u001b[0mself\u001b[0m\u001b[0;34m.\u001b[0m\u001b[0msymbols\u001b[0m\u001b[0;34m,\u001b[0m \u001b[0;34m(\u001b[0m\u001b[0mstring_types\u001b[0m\u001b[0;34m,\u001b[0m \u001b[0mint\u001b[0m\u001b[0;34m)\u001b[0m\u001b[0;34m)\u001b[0m\u001b[0;34m:\u001b[0m\u001b[0;34m\u001b[0m\u001b[0;34m\u001b[0m\u001b[0m\n\u001b[0;32m--> 253\u001b[0;31m             \u001b[0mdf\u001b[0m \u001b[0;34m=\u001b[0m \u001b[0mself\u001b[0m\u001b[0;34m.\u001b[0m\u001b[0m_read_one_data\u001b[0m\u001b[0;34m(\u001b[0m\u001b[0mself\u001b[0m\u001b[0;34m.\u001b[0m\u001b[0murl\u001b[0m\u001b[0;34m,\u001b[0m \u001b[0mparams\u001b[0m\u001b[0;34m=\u001b[0m\u001b[0mself\u001b[0m\u001b[0;34m.\u001b[0m\u001b[0m_get_params\u001b[0m\u001b[0;34m(\u001b[0m\u001b[0mself\u001b[0m\u001b[0;34m.\u001b[0m\u001b[0msymbols\u001b[0m\u001b[0;34m)\u001b[0m\u001b[0;34m)\u001b[0m\u001b[0;34m\u001b[0m\u001b[0;34m\u001b[0m\u001b[0m\n\u001b[0m\u001b[1;32m    254\u001b[0m         \u001b[0;31m# Or multiple symbols, (e.g., ['GOOG', 'AAPL', 'MSFT'])\u001b[0m\u001b[0;34m\u001b[0m\u001b[0;34m\u001b[0m\u001b[0;34m\u001b[0m\u001b[0m\n\u001b[1;32m    255\u001b[0m         \u001b[0;32melif\u001b[0m \u001b[0misinstance\u001b[0m\u001b[0;34m(\u001b[0m\u001b[0mself\u001b[0m\u001b[0;34m.\u001b[0m\u001b[0msymbols\u001b[0m\u001b[0;34m,\u001b[0m \u001b[0mDataFrame\u001b[0m\u001b[0;34m)\u001b[0m\u001b[0;34m:\u001b[0m\u001b[0;34m\u001b[0m\u001b[0;34m\u001b[0m\u001b[0m\n",
            "\u001b[0;32m/usr/local/lib/python3.7/dist-packages/pandas_datareader/yahoo/daily.py\u001b[0m in \u001b[0;36m_read_one_data\u001b[0;34m(self, url, params)\u001b[0m\n\u001b[1;32m    151\u001b[0m         \u001b[0murl\u001b[0m \u001b[0;34m=\u001b[0m \u001b[0murl\u001b[0m\u001b[0;34m.\u001b[0m\u001b[0mformat\u001b[0m\u001b[0;34m(\u001b[0m\u001b[0msymbol\u001b[0m\u001b[0;34m)\u001b[0m\u001b[0;34m\u001b[0m\u001b[0;34m\u001b[0m\u001b[0m\n\u001b[1;32m    152\u001b[0m \u001b[0;34m\u001b[0m\u001b[0m\n\u001b[0;32m--> 153\u001b[0;31m         \u001b[0mresp\u001b[0m \u001b[0;34m=\u001b[0m \u001b[0mself\u001b[0m\u001b[0;34m.\u001b[0m\u001b[0m_get_response\u001b[0m\u001b[0;34m(\u001b[0m\u001b[0murl\u001b[0m\u001b[0;34m,\u001b[0m \u001b[0mparams\u001b[0m\u001b[0;34m=\u001b[0m\u001b[0mparams\u001b[0m\u001b[0;34m)\u001b[0m\u001b[0;34m\u001b[0m\u001b[0;34m\u001b[0m\u001b[0m\n\u001b[0m\u001b[1;32m    154\u001b[0m         \u001b[0mptrn\u001b[0m \u001b[0;34m=\u001b[0m \u001b[0;34mr\"root\\.App\\.main = (.*?);\\n}\\(this\\)\\);\"\u001b[0m\u001b[0;34m\u001b[0m\u001b[0;34m\u001b[0m\u001b[0m\n\u001b[1;32m    155\u001b[0m         \u001b[0;32mtry\u001b[0m\u001b[0;34m:\u001b[0m\u001b[0;34m\u001b[0m\u001b[0;34m\u001b[0m\u001b[0m\n",
            "\u001b[0;32m/usr/local/lib/python3.7/dist-packages/pandas_datareader/base.py\u001b[0m in \u001b[0;36m_get_response\u001b[0;34m(self, url, params, headers)\u001b[0m\n\u001b[1;32m    179\u001b[0m             \u001b[0mmsg\u001b[0m \u001b[0;34m+=\u001b[0m \u001b[0;34m\"\\nResponse Text:\\n{0}\"\u001b[0m\u001b[0;34m.\u001b[0m\u001b[0mformat\u001b[0m\u001b[0;34m(\u001b[0m\u001b[0mlast_response_text\u001b[0m\u001b[0;34m)\u001b[0m\u001b[0;34m\u001b[0m\u001b[0;34m\u001b[0m\u001b[0m\n\u001b[1;32m    180\u001b[0m \u001b[0;34m\u001b[0m\u001b[0m\n\u001b[0;32m--> 181\u001b[0;31m         \u001b[0;32mraise\u001b[0m \u001b[0mRemoteDataError\u001b[0m\u001b[0;34m(\u001b[0m\u001b[0mmsg\u001b[0m\u001b[0;34m)\u001b[0m\u001b[0;34m\u001b[0m\u001b[0;34m\u001b[0m\u001b[0m\n\u001b[0m\u001b[1;32m    182\u001b[0m \u001b[0;34m\u001b[0m\u001b[0m\n\u001b[1;32m    183\u001b[0m     \u001b[0;32mdef\u001b[0m \u001b[0m_get_crumb\u001b[0m\u001b[0;34m(\u001b[0m\u001b[0mself\u001b[0m\u001b[0;34m,\u001b[0m \u001b[0;34m*\u001b[0m\u001b[0margs\u001b[0m\u001b[0;34m)\u001b[0m\u001b[0;34m:\u001b[0m\u001b[0;34m\u001b[0m\u001b[0;34m\u001b[0m\u001b[0m\n",
            "\u001b[0;31mRemoteDataError\u001b[0m: Unable to read URL: https://finance.yahoo.com/quote/FB/history?period1=1579147200&period2=1610769599&interval=1d&frequency=1d&filter=history\nResponse Text:\nb'<!DOCTYPE html>\\n  <html lang=\"en-us\"><head>\\n  <meta http-equiv=\"content-type\" content=\"text/html; charset=UTF-8\">\\n      <meta charset=\"utf-8\">\\n      <title>Yahoo</title>\\n      <meta name=\"viewport\" content=\"width=device-width,initial-scale=1,minimal-ui\">\\n      <meta http-equiv=\"X-UA-Compatible\" content=\"IE=edge,chrome=1\">\\n      <style>\\n  html {\\n      height: 100%;\\n  }\\n  body {\\n      background: #fafafc url(https://s.yimg.com/nn/img/sad-panda-201402200631.png) 50% 50%;\\n      background-size: cover;\\n      height: 100%;\\n      text-align: center;\\n      font: 300 18px \"helvetica neue\", helvetica, verdana, tahoma, arial, sans-serif;\\n  }\\n  table {\\n      height: 100%;\\n      width: 100%;\\n      table-layout: fixed;\\n      border-collapse: collapse;\\n      border-spacing: 0;\\n      border: none;\\n  }\\n  h1 {\\n      font-size: 42px;\\n      font-weight: 400;\\n      color: #400090;\\n  }\\n  p {\\n      color: #1A1A1A;\\n  }\\n  #message-1 {\\n      font-weight: bold;\\n      margin: 0;\\n  }\\n  #message-2 {\\n      display: inline-block;\\n      *display: inline;\\n      zoom: 1;\\n      max-width: 17em;\\n      _width: 17em;\\n  }\\n      </style>\\n  <script>\\n    document.write(\\'<img src=\"//geo.yahoo.com/b?s=1197757129&t=\\'+new Date().getTime()+\\'&src=aws&err_url=\\'+encodeURIComponent(document.URL)+\\'&err=%<pssc>&test=\\'+encodeURIComponent(\\'%<{Bucket}cqh[:200]>\\')+\\'\" width=\"0px\" height=\"0px\"/>\\');var beacon = new Image();beacon.src=\"//bcn.fp.yahoo.com/p?s=1197757129&t=\"+ne..."
          ]
        }
      ],
      "source": [
        "fetch_faang_stock(datetime(2021, 1, 15))"
      ],
      "id": "odDzmZDeVGx6"
    },
    {
      "cell_type": "code",
      "execution_count": 9,
      "metadata": {
        "colab": {
          "base_uri": "https://localhost:8080/",
          "height": 398
        },
        "id": "NwIoLeyPVGx6",
        "outputId": "fca443cf-3780-4901-9901-e4c95bf05796"
      },
      "outputs": [
        {
          "output_type": "error",
          "ename": "FileNotFoundError",
          "evalue": "ignored",
          "traceback": [
            "\u001b[0;31m---------------------------------------------------------------------------\u001b[0m",
            "\u001b[0;31mFileNotFoundError\u001b[0m                         Traceback (most recent call last)",
            "\u001b[0;32m<ipython-input-9-8a9ae2843556>\u001b[0m in \u001b[0;36m<module>\u001b[0;34m()\u001b[0m\n\u001b[0;32m----> 1\u001b[0;31m \u001b[0mfb_df\u001b[0m \u001b[0;34m=\u001b[0m \u001b[0mpd\u001b[0m\u001b[0;34m.\u001b[0m\u001b[0mread_csv\u001b[0m\u001b[0;34m(\u001b[0m\u001b[0mFAANG\u001b[0m\u001b[0;34m[\u001b[0m\u001b[0;34m'FB'\u001b[0m\u001b[0;34m]\u001b[0m\u001b[0;34m[\u001b[0m\u001b[0;34m'filename'\u001b[0m\u001b[0;34m]\u001b[0m\u001b[0;34m,\u001b[0m \u001b[0mparse_dates\u001b[0m\u001b[0;34m=\u001b[0m\u001b[0;34m[\u001b[0m\u001b[0;34m'Date'\u001b[0m\u001b[0;34m]\u001b[0m\u001b[0;34m)\u001b[0m\u001b[0;34m\u001b[0m\u001b[0;34m\u001b[0m\u001b[0m\n\u001b[0m\u001b[1;32m      2\u001b[0m \u001b[0;31m# amzn_df = pd.read_csv(FAANG['AMZN']['filename'], parse_dates=['Date'])\u001b[0m\u001b[0;34m\u001b[0m\u001b[0;34m\u001b[0m\u001b[0;34m\u001b[0m\u001b[0m\n\u001b[1;32m      3\u001b[0m \u001b[0;31m# aapl_df = pd.read_csv(FAANG['AAPL']['filename'], parse_dates=['Date'])\u001b[0m\u001b[0;34m\u001b[0m\u001b[0;34m\u001b[0m\u001b[0;34m\u001b[0m\u001b[0m\n\u001b[1;32m      4\u001b[0m \u001b[0;31m# nflx_df = pd.read_csv(FAANG['NFLX']['filename'], parse_dates=['Date'])\u001b[0m\u001b[0;34m\u001b[0m\u001b[0;34m\u001b[0m\u001b[0;34m\u001b[0m\u001b[0m\n\u001b[1;32m      5\u001b[0m \u001b[0;31m# goog_df = pd.read_csv(FAANG['GOOG']['filename'], parse_dates=['Date'])\u001b[0m\u001b[0;34m\u001b[0m\u001b[0;34m\u001b[0m\u001b[0;34m\u001b[0m\u001b[0m\n",
            "\u001b[0;32m/usr/local/lib/python3.7/dist-packages/pandas/util/_decorators.py\u001b[0m in \u001b[0;36mwrapper\u001b[0;34m(*args, **kwargs)\u001b[0m\n\u001b[1;32m    309\u001b[0m                     \u001b[0mstacklevel\u001b[0m\u001b[0;34m=\u001b[0m\u001b[0mstacklevel\u001b[0m\u001b[0;34m,\u001b[0m\u001b[0;34m\u001b[0m\u001b[0;34m\u001b[0m\u001b[0m\n\u001b[1;32m    310\u001b[0m                 )\n\u001b[0;32m--> 311\u001b[0;31m             \u001b[0;32mreturn\u001b[0m \u001b[0mfunc\u001b[0m\u001b[0;34m(\u001b[0m\u001b[0;34m*\u001b[0m\u001b[0margs\u001b[0m\u001b[0;34m,\u001b[0m \u001b[0;34m**\u001b[0m\u001b[0mkwargs\u001b[0m\u001b[0;34m)\u001b[0m\u001b[0;34m\u001b[0m\u001b[0;34m\u001b[0m\u001b[0m\n\u001b[0m\u001b[1;32m    312\u001b[0m \u001b[0;34m\u001b[0m\u001b[0m\n\u001b[1;32m    313\u001b[0m         \u001b[0;32mreturn\u001b[0m \u001b[0mwrapper\u001b[0m\u001b[0;34m\u001b[0m\u001b[0;34m\u001b[0m\u001b[0m\n",
            "\u001b[0;32m/usr/local/lib/python3.7/dist-packages/pandas/io/parsers/readers.py\u001b[0m in \u001b[0;36mread_csv\u001b[0;34m(filepath_or_buffer, sep, delimiter, header, names, index_col, usecols, squeeze, prefix, mangle_dupe_cols, dtype, engine, converters, true_values, false_values, skipinitialspace, skiprows, skipfooter, nrows, na_values, keep_default_na, na_filter, verbose, skip_blank_lines, parse_dates, infer_datetime_format, keep_date_col, date_parser, dayfirst, cache_dates, iterator, chunksize, compression, thousands, decimal, lineterminator, quotechar, quoting, doublequote, escapechar, comment, encoding, encoding_errors, dialect, error_bad_lines, warn_bad_lines, on_bad_lines, delim_whitespace, low_memory, memory_map, float_precision, storage_options)\u001b[0m\n\u001b[1;32m    584\u001b[0m     \u001b[0mkwds\u001b[0m\u001b[0;34m.\u001b[0m\u001b[0mupdate\u001b[0m\u001b[0;34m(\u001b[0m\u001b[0mkwds_defaults\u001b[0m\u001b[0;34m)\u001b[0m\u001b[0;34m\u001b[0m\u001b[0;34m\u001b[0m\u001b[0m\n\u001b[1;32m    585\u001b[0m \u001b[0;34m\u001b[0m\u001b[0m\n\u001b[0;32m--> 586\u001b[0;31m     \u001b[0;32mreturn\u001b[0m \u001b[0m_read\u001b[0m\u001b[0;34m(\u001b[0m\u001b[0mfilepath_or_buffer\u001b[0m\u001b[0;34m,\u001b[0m \u001b[0mkwds\u001b[0m\u001b[0;34m)\u001b[0m\u001b[0;34m\u001b[0m\u001b[0;34m\u001b[0m\u001b[0m\n\u001b[0m\u001b[1;32m    587\u001b[0m \u001b[0;34m\u001b[0m\u001b[0m\n\u001b[1;32m    588\u001b[0m \u001b[0;34m\u001b[0m\u001b[0m\n",
            "\u001b[0;32m/usr/local/lib/python3.7/dist-packages/pandas/io/parsers/readers.py\u001b[0m in \u001b[0;36m_read\u001b[0;34m(filepath_or_buffer, kwds)\u001b[0m\n\u001b[1;32m    480\u001b[0m \u001b[0;34m\u001b[0m\u001b[0m\n\u001b[1;32m    481\u001b[0m     \u001b[0;31m# Create the parser.\u001b[0m\u001b[0;34m\u001b[0m\u001b[0;34m\u001b[0m\u001b[0;34m\u001b[0m\u001b[0m\n\u001b[0;32m--> 482\u001b[0;31m     \u001b[0mparser\u001b[0m \u001b[0;34m=\u001b[0m \u001b[0mTextFileReader\u001b[0m\u001b[0;34m(\u001b[0m\u001b[0mfilepath_or_buffer\u001b[0m\u001b[0;34m,\u001b[0m \u001b[0;34m**\u001b[0m\u001b[0mkwds\u001b[0m\u001b[0;34m)\u001b[0m\u001b[0;34m\u001b[0m\u001b[0;34m\u001b[0m\u001b[0m\n\u001b[0m\u001b[1;32m    483\u001b[0m \u001b[0;34m\u001b[0m\u001b[0m\n\u001b[1;32m    484\u001b[0m     \u001b[0;32mif\u001b[0m \u001b[0mchunksize\u001b[0m \u001b[0;32mor\u001b[0m \u001b[0miterator\u001b[0m\u001b[0;34m:\u001b[0m\u001b[0;34m\u001b[0m\u001b[0;34m\u001b[0m\u001b[0m\n",
            "\u001b[0;32m/usr/local/lib/python3.7/dist-packages/pandas/io/parsers/readers.py\u001b[0m in \u001b[0;36m__init__\u001b[0;34m(self, f, engine, **kwds)\u001b[0m\n\u001b[1;32m    809\u001b[0m             \u001b[0mself\u001b[0m\u001b[0;34m.\u001b[0m\u001b[0moptions\u001b[0m\u001b[0;34m[\u001b[0m\u001b[0;34m\"has_index_names\"\u001b[0m\u001b[0;34m]\u001b[0m \u001b[0;34m=\u001b[0m \u001b[0mkwds\u001b[0m\u001b[0;34m[\u001b[0m\u001b[0;34m\"has_index_names\"\u001b[0m\u001b[0;34m]\u001b[0m\u001b[0;34m\u001b[0m\u001b[0;34m\u001b[0m\u001b[0m\n\u001b[1;32m    810\u001b[0m \u001b[0;34m\u001b[0m\u001b[0m\n\u001b[0;32m--> 811\u001b[0;31m         \u001b[0mself\u001b[0m\u001b[0;34m.\u001b[0m\u001b[0m_engine\u001b[0m \u001b[0;34m=\u001b[0m \u001b[0mself\u001b[0m\u001b[0;34m.\u001b[0m\u001b[0m_make_engine\u001b[0m\u001b[0;34m(\u001b[0m\u001b[0mself\u001b[0m\u001b[0;34m.\u001b[0m\u001b[0mengine\u001b[0m\u001b[0;34m)\u001b[0m\u001b[0;34m\u001b[0m\u001b[0;34m\u001b[0m\u001b[0m\n\u001b[0m\u001b[1;32m    812\u001b[0m \u001b[0;34m\u001b[0m\u001b[0m\n\u001b[1;32m    813\u001b[0m     \u001b[0;32mdef\u001b[0m \u001b[0mclose\u001b[0m\u001b[0;34m(\u001b[0m\u001b[0mself\u001b[0m\u001b[0;34m)\u001b[0m\u001b[0;34m:\u001b[0m\u001b[0;34m\u001b[0m\u001b[0;34m\u001b[0m\u001b[0m\n",
            "\u001b[0;32m/usr/local/lib/python3.7/dist-packages/pandas/io/parsers/readers.py\u001b[0m in \u001b[0;36m_make_engine\u001b[0;34m(self, engine)\u001b[0m\n\u001b[1;32m   1038\u001b[0m             )\n\u001b[1;32m   1039\u001b[0m         \u001b[0;31m# error: Too many arguments for \"ParserBase\"\u001b[0m\u001b[0;34m\u001b[0m\u001b[0;34m\u001b[0m\u001b[0;34m\u001b[0m\u001b[0m\n\u001b[0;32m-> 1040\u001b[0;31m         \u001b[0;32mreturn\u001b[0m \u001b[0mmapping\u001b[0m\u001b[0;34m[\u001b[0m\u001b[0mengine\u001b[0m\u001b[0;34m]\u001b[0m\u001b[0;34m(\u001b[0m\u001b[0mself\u001b[0m\u001b[0;34m.\u001b[0m\u001b[0mf\u001b[0m\u001b[0;34m,\u001b[0m \u001b[0;34m**\u001b[0m\u001b[0mself\u001b[0m\u001b[0;34m.\u001b[0m\u001b[0moptions\u001b[0m\u001b[0;34m)\u001b[0m  \u001b[0;31m# type: ignore[call-arg]\u001b[0m\u001b[0;34m\u001b[0m\u001b[0;34m\u001b[0m\u001b[0m\n\u001b[0m\u001b[1;32m   1041\u001b[0m \u001b[0;34m\u001b[0m\u001b[0m\n\u001b[1;32m   1042\u001b[0m     \u001b[0;32mdef\u001b[0m \u001b[0m_failover_to_python\u001b[0m\u001b[0;34m(\u001b[0m\u001b[0mself\u001b[0m\u001b[0;34m)\u001b[0m\u001b[0;34m:\u001b[0m\u001b[0;34m\u001b[0m\u001b[0;34m\u001b[0m\u001b[0m\n",
            "\u001b[0;32m/usr/local/lib/python3.7/dist-packages/pandas/io/parsers/c_parser_wrapper.py\u001b[0m in \u001b[0;36m__init__\u001b[0;34m(self, src, **kwds)\u001b[0m\n\u001b[1;32m     49\u001b[0m \u001b[0;34m\u001b[0m\u001b[0m\n\u001b[1;32m     50\u001b[0m         \u001b[0;31m# open handles\u001b[0m\u001b[0;34m\u001b[0m\u001b[0;34m\u001b[0m\u001b[0;34m\u001b[0m\u001b[0m\n\u001b[0;32m---> 51\u001b[0;31m         \u001b[0mself\u001b[0m\u001b[0;34m.\u001b[0m\u001b[0m_open_handles\u001b[0m\u001b[0;34m(\u001b[0m\u001b[0msrc\u001b[0m\u001b[0;34m,\u001b[0m \u001b[0mkwds\u001b[0m\u001b[0;34m)\u001b[0m\u001b[0;34m\u001b[0m\u001b[0;34m\u001b[0m\u001b[0m\n\u001b[0m\u001b[1;32m     52\u001b[0m         \u001b[0;32massert\u001b[0m \u001b[0mself\u001b[0m\u001b[0;34m.\u001b[0m\u001b[0mhandles\u001b[0m \u001b[0;32mis\u001b[0m \u001b[0;32mnot\u001b[0m \u001b[0;32mNone\u001b[0m\u001b[0;34m\u001b[0m\u001b[0;34m\u001b[0m\u001b[0m\n\u001b[1;32m     53\u001b[0m \u001b[0;34m\u001b[0m\u001b[0m\n",
            "\u001b[0;32m/usr/local/lib/python3.7/dist-packages/pandas/io/parsers/base_parser.py\u001b[0m in \u001b[0;36m_open_handles\u001b[0;34m(self, src, kwds)\u001b[0m\n\u001b[1;32m    227\u001b[0m             \u001b[0mmemory_map\u001b[0m\u001b[0;34m=\u001b[0m\u001b[0mkwds\u001b[0m\u001b[0;34m.\u001b[0m\u001b[0mget\u001b[0m\u001b[0;34m(\u001b[0m\u001b[0;34m\"memory_map\"\u001b[0m\u001b[0;34m,\u001b[0m \u001b[0;32mFalse\u001b[0m\u001b[0;34m)\u001b[0m\u001b[0;34m,\u001b[0m\u001b[0;34m\u001b[0m\u001b[0;34m\u001b[0m\u001b[0m\n\u001b[1;32m    228\u001b[0m             \u001b[0mstorage_options\u001b[0m\u001b[0;34m=\u001b[0m\u001b[0mkwds\u001b[0m\u001b[0;34m.\u001b[0m\u001b[0mget\u001b[0m\u001b[0;34m(\u001b[0m\u001b[0;34m\"storage_options\"\u001b[0m\u001b[0;34m,\u001b[0m \u001b[0;32mNone\u001b[0m\u001b[0;34m)\u001b[0m\u001b[0;34m,\u001b[0m\u001b[0;34m\u001b[0m\u001b[0;34m\u001b[0m\u001b[0m\n\u001b[0;32m--> 229\u001b[0;31m             \u001b[0merrors\u001b[0m\u001b[0;34m=\u001b[0m\u001b[0mkwds\u001b[0m\u001b[0;34m.\u001b[0m\u001b[0mget\u001b[0m\u001b[0;34m(\u001b[0m\u001b[0;34m\"encoding_errors\"\u001b[0m\u001b[0;34m,\u001b[0m \u001b[0;34m\"strict\"\u001b[0m\u001b[0;34m)\u001b[0m\u001b[0;34m,\u001b[0m\u001b[0;34m\u001b[0m\u001b[0;34m\u001b[0m\u001b[0m\n\u001b[0m\u001b[1;32m    230\u001b[0m         )\n\u001b[1;32m    231\u001b[0m \u001b[0;34m\u001b[0m\u001b[0m\n",
            "\u001b[0;32m/usr/local/lib/python3.7/dist-packages/pandas/io/common.py\u001b[0m in \u001b[0;36mget_handle\u001b[0;34m(path_or_buf, mode, encoding, compression, memory_map, is_text, errors, storage_options)\u001b[0m\n\u001b[1;32m    705\u001b[0m                 \u001b[0mencoding\u001b[0m\u001b[0;34m=\u001b[0m\u001b[0mioargs\u001b[0m\u001b[0;34m.\u001b[0m\u001b[0mencoding\u001b[0m\u001b[0;34m,\u001b[0m\u001b[0;34m\u001b[0m\u001b[0;34m\u001b[0m\u001b[0m\n\u001b[1;32m    706\u001b[0m                 \u001b[0merrors\u001b[0m\u001b[0;34m=\u001b[0m\u001b[0merrors\u001b[0m\u001b[0;34m,\u001b[0m\u001b[0;34m\u001b[0m\u001b[0;34m\u001b[0m\u001b[0m\n\u001b[0;32m--> 707\u001b[0;31m                 \u001b[0mnewline\u001b[0m\u001b[0;34m=\u001b[0m\u001b[0;34m\"\"\u001b[0m\u001b[0;34m,\u001b[0m\u001b[0;34m\u001b[0m\u001b[0;34m\u001b[0m\u001b[0m\n\u001b[0m\u001b[1;32m    708\u001b[0m             )\n\u001b[1;32m    709\u001b[0m         \u001b[0;32melse\u001b[0m\u001b[0;34m:\u001b[0m\u001b[0;34m\u001b[0m\u001b[0;34m\u001b[0m\u001b[0m\n",
            "\u001b[0;31mFileNotFoundError\u001b[0m: [Errno 2] No such file or directory: 'fb.csv'"
          ]
        }
      ],
      "source": [
        "fb_df = pd.read_csv(faang['FB']['filename'], parse_dates=['Date'])\n",
        "amzn_df = pd.read_csv(faang['AMZN']['filename'], parse_dates=['Date'])\n",
        "aapl_df = pd.read_csv(faang['AAPL']['filename'], parse_dates=['Date'])\n",
        "nflx_df = pd.read_csv(faang['NFLX']['filename'], parse_dates=['Date'])\n",
        "goog_df = pd.read_csv(faang['GOOG']['filename'], parse_dates=['Date'])"
      ],
      "id": "NwIoLeyPVGx6"
    },
    {
      "cell_type": "markdown",
      "metadata": {
        "id": "9iGQX5iUVGx7"
      },
      "source": [
        "<br />"
      ],
      "id": "9iGQX5iUVGx7"
    },
    {
      "cell_type": "markdown",
      "metadata": {
        "id": "WcaqlR2uVGx7"
      },
      "source": [
        "# 6.0 Statistics Summary of Dataset"
      ],
      "id": "WcaqlR2uVGx7"
    },
    {
      "cell_type": "code",
      "execution_count": null,
      "metadata": {
        "id": "0b7R8P6iVGx7",
        "outputId": "efe2f023-e5a4-454a-8ece-b80f2f2ee8ca"
      },
      "outputs": [
        {
          "data": {
            "text/html": [
              "<div>\n",
              "<style scoped>\n",
              "    .dataframe tbody tr th:only-of-type {\n",
              "        vertical-align: middle;\n",
              "    }\n",
              "\n",
              "    .dataframe tbody tr th {\n",
              "        vertical-align: top;\n",
              "    }\n",
              "\n",
              "    .dataframe thead th {\n",
              "        text-align: right;\n",
              "    }\n",
              "</style>\n",
              "<table border=\"1\" class=\"dataframe\">\n",
              "  <thead>\n",
              "    <tr style=\"text-align: right;\">\n",
              "      <th></th>\n",
              "      <th>Date</th>\n",
              "      <th>High</th>\n",
              "      <th>Low</th>\n",
              "      <th>Open</th>\n",
              "      <th>Close</th>\n",
              "      <th>Volume</th>\n",
              "      <th>Adj Close</th>\n",
              "    </tr>\n",
              "  </thead>\n",
              "  <tbody>\n",
              "    <tr>\n",
              "      <th>0</th>\n",
              "      <td>2020-01-15</td>\n",
              "      <td>221.679993</td>\n",
              "      <td>220.139999</td>\n",
              "      <td>220.610001</td>\n",
              "      <td>221.149994</td>\n",
              "      <td>10036500</td>\n",
              "      <td>221.149994</td>\n",
              "    </tr>\n",
              "    <tr>\n",
              "      <th>1</th>\n",
              "      <td>2020-01-16</td>\n",
              "      <td>222.630005</td>\n",
              "      <td>220.389999</td>\n",
              "      <td>222.570007</td>\n",
              "      <td>221.770004</td>\n",
              "      <td>10015300</td>\n",
              "      <td>221.770004</td>\n",
              "    </tr>\n",
              "    <tr>\n",
              "      <th>2</th>\n",
              "      <td>2020-01-17</td>\n",
              "      <td>222.289993</td>\n",
              "      <td>220.529999</td>\n",
              "      <td>222.029999</td>\n",
              "      <td>222.139999</td>\n",
              "      <td>15905900</td>\n",
              "      <td>222.139999</td>\n",
              "    </tr>\n",
              "    <tr>\n",
              "      <th>3</th>\n",
              "      <td>2020-01-21</td>\n",
              "      <td>222.369995</td>\n",
              "      <td>219.119995</td>\n",
              "      <td>222.160004</td>\n",
              "      <td>221.440002</td>\n",
              "      <td>14275800</td>\n",
              "      <td>221.440002</td>\n",
              "    </tr>\n",
              "    <tr>\n",
              "      <th>4</th>\n",
              "      <td>2020-01-22</td>\n",
              "      <td>222.750000</td>\n",
              "      <td>221.279999</td>\n",
              "      <td>222.309998</td>\n",
              "      <td>221.320007</td>\n",
              "      <td>12212800</td>\n",
              "      <td>221.320007</td>\n",
              "    </tr>\n",
              "  </tbody>\n",
              "</table>\n",
              "</div>"
            ],
            "text/plain": [
              "        Date        High         Low        Open       Close    Volume  \\\n",
              "0 2020-01-15  221.679993  220.139999  220.610001  221.149994  10036500   \n",
              "1 2020-01-16  222.630005  220.389999  222.570007  221.770004  10015300   \n",
              "2 2020-01-17  222.289993  220.529999  222.029999  222.139999  15905900   \n",
              "3 2020-01-21  222.369995  219.119995  222.160004  221.440002  14275800   \n",
              "4 2020-01-22  222.750000  221.279999  222.309998  221.320007  12212800   \n",
              "\n",
              "    Adj Close  \n",
              "0  221.149994  \n",
              "1  221.770004  \n",
              "2  222.139999  \n",
              "3  221.440002  \n",
              "4  221.320007  "
            ]
          },
          "execution_count": 8,
          "metadata": {},
          "output_type": "execute_result"
        }
      ],
      "source": [
        "fb_df.head()"
      ],
      "id": "0b7R8P6iVGx7"
    },
    {
      "cell_type": "code",
      "execution_count": null,
      "metadata": {
        "id": "07Or4otnVGx8",
        "outputId": "b1c6bd7b-da2e-418a-ab8a-30573d986e47"
      },
      "outputs": [
        {
          "name": "stdout",
          "output_type": "stream",
          "text": [
            "<class 'pandas.core.frame.DataFrame'>\n",
            "RangeIndex: 254 entries, 0 to 253\n",
            "Data columns (total 7 columns):\n",
            " #   Column     Non-Null Count  Dtype         \n",
            "---  ------     --------------  -----         \n",
            " 0   Date       254 non-null    datetime64[ns]\n",
            " 1   High       254 non-null    float64       \n",
            " 2   Low        254 non-null    float64       \n",
            " 3   Open       254 non-null    float64       \n",
            " 4   Close      254 non-null    float64       \n",
            " 5   Volume     254 non-null    int64         \n",
            " 6   Adj Close  254 non-null    float64       \n",
            "dtypes: datetime64[ns](1), float64(5), int64(1)\n",
            "memory usage: 14.0 KB\n"
          ]
        }
      ],
      "source": [
        "fb_df.info()"
      ],
      "id": "07Or4otnVGx8"
    },
    {
      "cell_type": "code",
      "execution_count": null,
      "metadata": {
        "id": "InlPv-mUVGx9",
        "outputId": "2db69072-1d45-44f2-c39d-827bebe8f369"
      },
      "outputs": [
        {
          "data": {
            "text/html": [
              "<div>\n",
              "<style scoped>\n",
              "    .dataframe tbody tr th:only-of-type {\n",
              "        vertical-align: middle;\n",
              "    }\n",
              "\n",
              "    .dataframe tbody tr th {\n",
              "        vertical-align: top;\n",
              "    }\n",
              "\n",
              "    .dataframe thead th {\n",
              "        text-align: right;\n",
              "    }\n",
              "</style>\n",
              "<table border=\"1\" class=\"dataframe\">\n",
              "  <thead>\n",
              "    <tr style=\"text-align: right;\">\n",
              "      <th></th>\n",
              "      <th>Date</th>\n",
              "      <th>High</th>\n",
              "      <th>Low</th>\n",
              "      <th>Open</th>\n",
              "      <th>Close</th>\n",
              "      <th>Volume</th>\n",
              "      <th>Adj Close</th>\n",
              "    </tr>\n",
              "  </thead>\n",
              "  <tbody>\n",
              "    <tr>\n",
              "      <th>0</th>\n",
              "      <td>2020-01-15</td>\n",
              "      <td>1878.859985</td>\n",
              "      <td>1855.089966</td>\n",
              "      <td>1872.250000</td>\n",
              "      <td>1862.020020</td>\n",
              "      <td>2896600</td>\n",
              "      <td>1862.020020</td>\n",
              "    </tr>\n",
              "    <tr>\n",
              "      <th>1</th>\n",
              "      <td>2020-01-16</td>\n",
              "      <td>1885.589966</td>\n",
              "      <td>1866.020020</td>\n",
              "      <td>1882.989990</td>\n",
              "      <td>1877.939941</td>\n",
              "      <td>2659500</td>\n",
              "      <td>1877.939941</td>\n",
              "    </tr>\n",
              "    <tr>\n",
              "      <th>2</th>\n",
              "      <td>2020-01-17</td>\n",
              "      <td>1886.640015</td>\n",
              "      <td>1857.250000</td>\n",
              "      <td>1885.890015</td>\n",
              "      <td>1864.719971</td>\n",
              "      <td>3997300</td>\n",
              "      <td>1864.719971</td>\n",
              "    </tr>\n",
              "    <tr>\n",
              "      <th>3</th>\n",
              "      <td>2020-01-21</td>\n",
              "      <td>1894.270020</td>\n",
              "      <td>1860.000000</td>\n",
              "      <td>1865.000000</td>\n",
              "      <td>1892.000000</td>\n",
              "      <td>3707800</td>\n",
              "      <td>1892.000000</td>\n",
              "    </tr>\n",
              "    <tr>\n",
              "      <th>4</th>\n",
              "      <td>2020-01-22</td>\n",
              "      <td>1902.500000</td>\n",
              "      <td>1883.339966</td>\n",
              "      <td>1896.089966</td>\n",
              "      <td>1887.459961</td>\n",
              "      <td>3216300</td>\n",
              "      <td>1887.459961</td>\n",
              "    </tr>\n",
              "  </tbody>\n",
              "</table>\n",
              "</div>"
            ],
            "text/plain": [
              "        Date         High          Low         Open        Close   Volume  \\\n",
              "0 2020-01-15  1878.859985  1855.089966  1872.250000  1862.020020  2896600   \n",
              "1 2020-01-16  1885.589966  1866.020020  1882.989990  1877.939941  2659500   \n",
              "2 2020-01-17  1886.640015  1857.250000  1885.890015  1864.719971  3997300   \n",
              "3 2020-01-21  1894.270020  1860.000000  1865.000000  1892.000000  3707800   \n",
              "4 2020-01-22  1902.500000  1883.339966  1896.089966  1887.459961  3216300   \n",
              "\n",
              "     Adj Close  \n",
              "0  1862.020020  \n",
              "1  1877.939941  \n",
              "2  1864.719971  \n",
              "3  1892.000000  \n",
              "4  1887.459961  "
            ]
          },
          "execution_count": 10,
          "metadata": {},
          "output_type": "execute_result"
        }
      ],
      "source": [
        "amzn_df.head()"
      ],
      "id": "InlPv-mUVGx9"
    },
    {
      "cell_type": "code",
      "execution_count": null,
      "metadata": {
        "id": "xSzt_lM-VGx9",
        "outputId": "8e19ff88-0840-4427-b903-a7c896baadd0"
      },
      "outputs": [
        {
          "name": "stdout",
          "output_type": "stream",
          "text": [
            "<class 'pandas.core.frame.DataFrame'>\n",
            "RangeIndex: 254 entries, 0 to 253\n",
            "Data columns (total 7 columns):\n",
            " #   Column     Non-Null Count  Dtype         \n",
            "---  ------     --------------  -----         \n",
            " 0   Date       254 non-null    datetime64[ns]\n",
            " 1   High       254 non-null    float64       \n",
            " 2   Low        254 non-null    float64       \n",
            " 3   Open       254 non-null    float64       \n",
            " 4   Close      254 non-null    float64       \n",
            " 5   Volume     254 non-null    int64         \n",
            " 6   Adj Close  254 non-null    float64       \n",
            "dtypes: datetime64[ns](1), float64(5), int64(1)\n",
            "memory usage: 14.0 KB\n"
          ]
        }
      ],
      "source": [
        "amzn_df.info()"
      ],
      "id": "xSzt_lM-VGx9"
    },
    {
      "cell_type": "code",
      "execution_count": null,
      "metadata": {
        "id": "zb9VKmwkVGx9",
        "outputId": "51d882d4-5a54-42eb-fe67-7469852747b2"
      },
      "outputs": [
        {
          "data": {
            "text/html": [
              "<div>\n",
              "<style scoped>\n",
              "    .dataframe tbody tr th:only-of-type {\n",
              "        vertical-align: middle;\n",
              "    }\n",
              "\n",
              "    .dataframe tbody tr th {\n",
              "        vertical-align: top;\n",
              "    }\n",
              "\n",
              "    .dataframe thead th {\n",
              "        text-align: right;\n",
              "    }\n",
              "</style>\n",
              "<table border=\"1\" class=\"dataframe\">\n",
              "  <thead>\n",
              "    <tr style=\"text-align: right;\">\n",
              "      <th></th>\n",
              "      <th>Date</th>\n",
              "      <th>High</th>\n",
              "      <th>Low</th>\n",
              "      <th>Open</th>\n",
              "      <th>Close</th>\n",
              "      <th>Volume</th>\n",
              "      <th>Adj Close</th>\n",
              "    </tr>\n",
              "  </thead>\n",
              "  <tbody>\n",
              "    <tr>\n",
              "      <th>0</th>\n",
              "      <td>2020-01-15</td>\n",
              "      <td>78.875000</td>\n",
              "      <td>77.387497</td>\n",
              "      <td>77.962502</td>\n",
              "      <td>77.834999</td>\n",
              "      <td>121923600.0</td>\n",
              "      <td>76.695770</td>\n",
              "    </tr>\n",
              "    <tr>\n",
              "      <th>1</th>\n",
              "      <td>2020-01-16</td>\n",
              "      <td>78.925003</td>\n",
              "      <td>78.022499</td>\n",
              "      <td>78.397499</td>\n",
              "      <td>78.809998</td>\n",
              "      <td>108829200.0</td>\n",
              "      <td>77.656487</td>\n",
              "    </tr>\n",
              "    <tr>\n",
              "      <th>2</th>\n",
              "      <td>2020-01-17</td>\n",
              "      <td>79.684998</td>\n",
              "      <td>78.750000</td>\n",
              "      <td>79.067497</td>\n",
              "      <td>79.682503</td>\n",
              "      <td>137816400.0</td>\n",
              "      <td>78.516220</td>\n",
              "    </tr>\n",
              "    <tr>\n",
              "      <th>3</th>\n",
              "      <td>2020-01-21</td>\n",
              "      <td>79.754997</td>\n",
              "      <td>79.000000</td>\n",
              "      <td>79.297501</td>\n",
              "      <td>79.142502</td>\n",
              "      <td>110843200.0</td>\n",
              "      <td>77.984123</td>\n",
              "    </tr>\n",
              "    <tr>\n",
              "      <th>4</th>\n",
              "      <td>2020-01-22</td>\n",
              "      <td>79.997498</td>\n",
              "      <td>79.327499</td>\n",
              "      <td>79.644997</td>\n",
              "      <td>79.425003</td>\n",
              "      <td>101832400.0</td>\n",
              "      <td>78.262482</td>\n",
              "    </tr>\n",
              "  </tbody>\n",
              "</table>\n",
              "</div>"
            ],
            "text/plain": [
              "        Date       High        Low       Open      Close       Volume  \\\n",
              "0 2020-01-15  78.875000  77.387497  77.962502  77.834999  121923600.0   \n",
              "1 2020-01-16  78.925003  78.022499  78.397499  78.809998  108829200.0   \n",
              "2 2020-01-17  79.684998  78.750000  79.067497  79.682503  137816400.0   \n",
              "3 2020-01-21  79.754997  79.000000  79.297501  79.142502  110843200.0   \n",
              "4 2020-01-22  79.997498  79.327499  79.644997  79.425003  101832400.0   \n",
              "\n",
              "   Adj Close  \n",
              "0  76.695770  \n",
              "1  77.656487  \n",
              "2  78.516220  \n",
              "3  77.984123  \n",
              "4  78.262482  "
            ]
          },
          "execution_count": 12,
          "metadata": {},
          "output_type": "execute_result"
        }
      ],
      "source": [
        "aapl_df.head()"
      ],
      "id": "zb9VKmwkVGx9"
    },
    {
      "cell_type": "code",
      "execution_count": null,
      "metadata": {
        "id": "BmqoRsMSVGx-",
        "outputId": "70d64563-137c-4c11-c1d7-38a4857e625e"
      },
      "outputs": [
        {
          "name": "stdout",
          "output_type": "stream",
          "text": [
            "<class 'pandas.core.frame.DataFrame'>\n",
            "RangeIndex: 254 entries, 0 to 253\n",
            "Data columns (total 7 columns):\n",
            " #   Column     Non-Null Count  Dtype         \n",
            "---  ------     --------------  -----         \n",
            " 0   Date       254 non-null    datetime64[ns]\n",
            " 1   High       254 non-null    float64       \n",
            " 2   Low        254 non-null    float64       \n",
            " 3   Open       254 non-null    float64       \n",
            " 4   Close      254 non-null    float64       \n",
            " 5   Volume     254 non-null    float64       \n",
            " 6   Adj Close  254 non-null    float64       \n",
            "dtypes: datetime64[ns](1), float64(6)\n",
            "memory usage: 14.0 KB\n"
          ]
        }
      ],
      "source": [
        "aapl_df.info()"
      ],
      "id": "BmqoRsMSVGx-"
    },
    {
      "cell_type": "code",
      "execution_count": null,
      "metadata": {
        "id": "3ZuoNDW4VGx-",
        "outputId": "82b11340-197e-4175-f2af-d35054cbaaf4"
      },
      "outputs": [
        {
          "data": {
            "text/html": [
              "<div>\n",
              "<style scoped>\n",
              "    .dataframe tbody tr th:only-of-type {\n",
              "        vertical-align: middle;\n",
              "    }\n",
              "\n",
              "    .dataframe tbody tr th {\n",
              "        vertical-align: top;\n",
              "    }\n",
              "\n",
              "    .dataframe thead th {\n",
              "        text-align: right;\n",
              "    }\n",
              "</style>\n",
              "<table border=\"1\" class=\"dataframe\">\n",
              "  <thead>\n",
              "    <tr style=\"text-align: right;\">\n",
              "      <th></th>\n",
              "      <th>Date</th>\n",
              "      <th>High</th>\n",
              "      <th>Low</th>\n",
              "      <th>Open</th>\n",
              "      <th>Close</th>\n",
              "      <th>Volume</th>\n",
              "      <th>Adj Close</th>\n",
              "    </tr>\n",
              "  </thead>\n",
              "  <tbody>\n",
              "    <tr>\n",
              "      <th>0</th>\n",
              "      <td>2020-01-15</td>\n",
              "      <td>343.170013</td>\n",
              "      <td>336.600006</td>\n",
              "      <td>338.679993</td>\n",
              "      <td>339.070007</td>\n",
              "      <td>5158000</td>\n",
              "      <td>339.070007</td>\n",
              "    </tr>\n",
              "    <tr>\n",
              "      <th>1</th>\n",
              "      <td>2020-01-16</td>\n",
              "      <td>343.559998</td>\n",
              "      <td>335.850006</td>\n",
              "      <td>343.500000</td>\n",
              "      <td>338.619995</td>\n",
              "      <td>5016000</td>\n",
              "      <td>338.619995</td>\n",
              "    </tr>\n",
              "    <tr>\n",
              "      <th>2</th>\n",
              "      <td>2020-01-17</td>\n",
              "      <td>341.570007</td>\n",
              "      <td>337.380005</td>\n",
              "      <td>341.000000</td>\n",
              "      <td>339.670013</td>\n",
              "      <td>6066500</td>\n",
              "      <td>339.670013</td>\n",
              "    </tr>\n",
              "    <tr>\n",
              "      <th>3</th>\n",
              "      <td>2020-01-21</td>\n",
              "      <td>341.000000</td>\n",
              "      <td>332.589996</td>\n",
              "      <td>340.000000</td>\n",
              "      <td>338.109985</td>\n",
              "      <td>14350300</td>\n",
              "      <td>338.109985</td>\n",
              "    </tr>\n",
              "    <tr>\n",
              "      <th>4</th>\n",
              "      <td>2020-01-22</td>\n",
              "      <td>336.299988</td>\n",
              "      <td>323.600006</td>\n",
              "      <td>332.549988</td>\n",
              "      <td>326.000000</td>\n",
              "      <td>21730000</td>\n",
              "      <td>326.000000</td>\n",
              "    </tr>\n",
              "  </tbody>\n",
              "</table>\n",
              "</div>"
            ],
            "text/plain": [
              "        Date        High         Low        Open       Close    Volume  \\\n",
              "0 2020-01-15  343.170013  336.600006  338.679993  339.070007   5158000   \n",
              "1 2020-01-16  343.559998  335.850006  343.500000  338.619995   5016000   \n",
              "2 2020-01-17  341.570007  337.380005  341.000000  339.670013   6066500   \n",
              "3 2020-01-21  341.000000  332.589996  340.000000  338.109985  14350300   \n",
              "4 2020-01-22  336.299988  323.600006  332.549988  326.000000  21730000   \n",
              "\n",
              "    Adj Close  \n",
              "0  339.070007  \n",
              "1  338.619995  \n",
              "2  339.670013  \n",
              "3  338.109985  \n",
              "4  326.000000  "
            ]
          },
          "execution_count": 14,
          "metadata": {},
          "output_type": "execute_result"
        }
      ],
      "source": [
        "nflx_df.head()"
      ],
      "id": "3ZuoNDW4VGx-"
    },
    {
      "cell_type": "code",
      "execution_count": null,
      "metadata": {
        "id": "TDlswttzVGx-",
        "outputId": "71a5b971-efd2-4be7-9cad-d4428f266495"
      },
      "outputs": [
        {
          "name": "stdout",
          "output_type": "stream",
          "text": [
            "<class 'pandas.core.frame.DataFrame'>\n",
            "RangeIndex: 254 entries, 0 to 253\n",
            "Data columns (total 7 columns):\n",
            " #   Column     Non-Null Count  Dtype         \n",
            "---  ------     --------------  -----         \n",
            " 0   Date       254 non-null    datetime64[ns]\n",
            " 1   High       254 non-null    float64       \n",
            " 2   Low        254 non-null    float64       \n",
            " 3   Open       254 non-null    float64       \n",
            " 4   Close      254 non-null    float64       \n",
            " 5   Volume     254 non-null    int64         \n",
            " 6   Adj Close  254 non-null    float64       \n",
            "dtypes: datetime64[ns](1), float64(5), int64(1)\n",
            "memory usage: 14.0 KB\n"
          ]
        }
      ],
      "source": [
        "nflx_df.info()"
      ],
      "id": "TDlswttzVGx-"
    },
    {
      "cell_type": "code",
      "execution_count": null,
      "metadata": {
        "id": "H5r81mRXVGx_",
        "outputId": "a33e9389-e5bd-4fd5-8b68-856eb4bc63d7"
      },
      "outputs": [
        {
          "data": {
            "text/html": [
              "<div>\n",
              "<style scoped>\n",
              "    .dataframe tbody tr th:only-of-type {\n",
              "        vertical-align: middle;\n",
              "    }\n",
              "\n",
              "    .dataframe tbody tr th {\n",
              "        vertical-align: top;\n",
              "    }\n",
              "\n",
              "    .dataframe thead th {\n",
              "        text-align: right;\n",
              "    }\n",
              "</style>\n",
              "<table border=\"1\" class=\"dataframe\">\n",
              "  <thead>\n",
              "    <tr style=\"text-align: right;\">\n",
              "      <th></th>\n",
              "      <th>Date</th>\n",
              "      <th>High</th>\n",
              "      <th>Low</th>\n",
              "      <th>Open</th>\n",
              "      <th>Close</th>\n",
              "      <th>Volume</th>\n",
              "      <th>Adj Close</th>\n",
              "    </tr>\n",
              "  </thead>\n",
              "  <tbody>\n",
              "    <tr>\n",
              "      <th>0</th>\n",
              "      <td>2020-01-15</td>\n",
              "      <td>1441.395020</td>\n",
              "      <td>1430.209961</td>\n",
              "      <td>1430.209961</td>\n",
              "      <td>1439.199951</td>\n",
              "      <td>1282700</td>\n",
              "      <td>1439.199951</td>\n",
              "    </tr>\n",
              "    <tr>\n",
              "      <th>1</th>\n",
              "      <td>2020-01-16</td>\n",
              "      <td>1451.989990</td>\n",
              "      <td>1440.920044</td>\n",
              "      <td>1447.439941</td>\n",
              "      <td>1451.699951</td>\n",
              "      <td>1173700</td>\n",
              "      <td>1451.699951</td>\n",
              "    </tr>\n",
              "    <tr>\n",
              "      <th>2</th>\n",
              "      <td>2020-01-17</td>\n",
              "      <td>1481.295044</td>\n",
              "      <td>1458.219971</td>\n",
              "      <td>1462.910034</td>\n",
              "      <td>1480.390015</td>\n",
              "      <td>2396200</td>\n",
              "      <td>1480.390015</td>\n",
              "    </tr>\n",
              "    <tr>\n",
              "      <th>3</th>\n",
              "      <td>2020-01-21</td>\n",
              "      <td>1491.849976</td>\n",
              "      <td>1471.199951</td>\n",
              "      <td>1479.119995</td>\n",
              "      <td>1484.400024</td>\n",
              "      <td>2036700</td>\n",
              "      <td>1484.400024</td>\n",
              "    </tr>\n",
              "    <tr>\n",
              "      <th>4</th>\n",
              "      <td>2020-01-22</td>\n",
              "      <td>1503.213989</td>\n",
              "      <td>1484.930054</td>\n",
              "      <td>1491.000000</td>\n",
              "      <td>1485.949951</td>\n",
              "      <td>1610800</td>\n",
              "      <td>1485.949951</td>\n",
              "    </tr>\n",
              "  </tbody>\n",
              "</table>\n",
              "</div>"
            ],
            "text/plain": [
              "        Date         High          Low         Open        Close   Volume  \\\n",
              "0 2020-01-15  1441.395020  1430.209961  1430.209961  1439.199951  1282700   \n",
              "1 2020-01-16  1451.989990  1440.920044  1447.439941  1451.699951  1173700   \n",
              "2 2020-01-17  1481.295044  1458.219971  1462.910034  1480.390015  2396200   \n",
              "3 2020-01-21  1491.849976  1471.199951  1479.119995  1484.400024  2036700   \n",
              "4 2020-01-22  1503.213989  1484.930054  1491.000000  1485.949951  1610800   \n",
              "\n",
              "     Adj Close  \n",
              "0  1439.199951  \n",
              "1  1451.699951  \n",
              "2  1480.390015  \n",
              "3  1484.400024  \n",
              "4  1485.949951  "
            ]
          },
          "execution_count": 16,
          "metadata": {},
          "output_type": "execute_result"
        }
      ],
      "source": [
        "goog_df.head()"
      ],
      "id": "H5r81mRXVGx_"
    },
    {
      "cell_type": "code",
      "execution_count": null,
      "metadata": {
        "id": "tPIiN4O_VGx_",
        "outputId": "e3146468-fde3-4bc8-e32e-e1c89af71ae6"
      },
      "outputs": [
        {
          "name": "stdout",
          "output_type": "stream",
          "text": [
            "<class 'pandas.core.frame.DataFrame'>\n",
            "RangeIndex: 254 entries, 0 to 253\n",
            "Data columns (total 7 columns):\n",
            " #   Column     Non-Null Count  Dtype         \n",
            "---  ------     --------------  -----         \n",
            " 0   Date       254 non-null    datetime64[ns]\n",
            " 1   High       254 non-null    float64       \n",
            " 2   Low        254 non-null    float64       \n",
            " 3   Open       254 non-null    float64       \n",
            " 4   Close      254 non-null    float64       \n",
            " 5   Volume     254 non-null    int64         \n",
            " 6   Adj Close  254 non-null    float64       \n",
            "dtypes: datetime64[ns](1), float64(5), int64(1)\n",
            "memory usage: 14.0 KB\n"
          ]
        }
      ],
      "source": [
        "nflx_df.info()"
      ],
      "id": "tPIiN4O_VGx_"
    },
    {
      "cell_type": "markdown",
      "metadata": {
        "id": "tdOKDCLNVGx_"
      },
      "source": [
        "All the FAANG dataset don't have missing value. The total trading days for the past year from 15 Jan 2022 is 254 days."
      ],
      "id": "tdOKDCLNVGx_"
    },
    {
      "cell_type": "markdown",
      "metadata": {
        "id": "JTUnQkGDVGx_"
      },
      "source": [
        "<br />"
      ],
      "id": "JTUnQkGDVGx_"
    },
    {
      "cell_type": "markdown",
      "metadata": {
        "id": "Q8B4ekL9VGyA"
      },
      "source": [
        "# 7.0 EDA"
      ],
      "id": "Q8B4ekL9VGyA"
    },
    {
      "cell_type": "markdown",
      "metadata": {
        "id": "tTLpTscAVGyA"
      },
      "source": [
        "## 7.1 Past 1 Year Adj Close Price of Individual FAANG Stocks"
      ],
      "id": "tTLpTscAVGyA"
    },
    {
      "cell_type": "code",
      "execution_count": null,
      "metadata": {
        "id": "4LtXg_irVGyA",
        "outputId": "0c220ec6-0227-4a15-c000-e29e744e7b08"
      },
      "outputs": [
        {
          "data": {
            "image/png": "[encoded data removed]",
            "text/plain": [
              "<Figure size 720x216 with 1 Axes>"
            ]
          },
          "metadata": {},
          "output_type": "display_data"
        }
      ],
      "source": [
        "ax = sns.lineplot(data=fb_df, x='Date', y='Adj Close', sort=True)\n",
        "\n",
        "ax.xaxis.set_major_locator(dates.YearLocator())\n",
        "ax.xaxis.set_major_formatter(dates.DateFormatter(\"%Y %b\"))\n",
        "\n",
        "ax.xaxis.set_minor_locator(dates.MonthLocator())\n",
        "ax.xaxis.set_minor_formatter(dates.DateFormatter(\"%b\"))\n",
        "\n",
        "ax.tick_params(axis=\"x\", which=\"major\",rotation=90, pad=5)\n",
        "ax.tick_params(axis=\"x\", which=\"minor\",rotation=90)\n",
        "\n",
        "ax.yaxis.grid(True)\n",
        "ax.xaxis.grid(True)\n",
        "\n",
        "ax.set_xlabel('Date')\n",
        "ax.set_title('Facebook Stock for Past 1 Year')\n",
        "\n",
        "plt.show()"
      ],
      "id": "4LtXg_irVGyA"
    },
    {
      "cell_type": "code",
      "execution_count": null,
      "metadata": {
        "id": "0NX-2HDwVGyB",
        "outputId": "1ef07844-3e46-4426-a0f0-9e0f9fbc87a9"
      },
      "outputs": [
        {
          "data": {
            "image/png": "[encoded data removed]",
            "text/plain": [
              "<Figure size 720x216 with 1 Axes>"
            ]
          },
          "metadata": {},
          "output_type": "display_data"
        }
      ],
      "source": [
        "ax = sns.lineplot(data=amzn_df, x='Date', y='Adj Close', sort=True)\n",
        "\n",
        "ax.xaxis.set_major_locator(dates.YearLocator())\n",
        "ax.xaxis.set_major_formatter(dates.DateFormatter(\"%Y %b\"))\n",
        "\n",
        "ax.xaxis.set_minor_locator(dates.MonthLocator())\n",
        "ax.xaxis.set_minor_formatter(dates.DateFormatter(\"%b\"))\n",
        "\n",
        "ax.tick_params(axis=\"x\", which=\"major\",rotation=90, pad=5)\n",
        "ax.tick_params(axis=\"x\", which=\"minor\",rotation=90)\n",
        "\n",
        "ax.yaxis.grid(True)\n",
        "ax.xaxis.grid(True)\n",
        "\n",
        "ax.set_xlabel('Date')\n",
        "ax.set_title('Amazon Stock for Past 1 Year')\n",
        "\n",
        "plt.show()"
      ],
      "id": "0NX-2HDwVGyB"
    },
    {
      "cell_type": "code",
      "execution_count": null,
      "metadata": {
        "id": "oTs5t83aVGyB",
        "outputId": "4390e79d-d64b-4cf3-afca-44d0cefc1efc"
      },
      "outputs": [
        {
          "data": {
            "image/png": "[encoded data removed]",
            "text/plain": [
              "<Figure size 720x216 with 1 Axes>"
            ]
          },
          "metadata": {},
          "output_type": "display_data"
        }
      ],
      "source": [
        "ax = sns.lineplot(data=aapl_df, x='Date', y='Adj Close', sort=True)\n",
        "\n",
        "ax.xaxis.set_major_locator(dates.YearLocator())\n",
        "ax.xaxis.set_major_formatter(dates.DateFormatter(\"%Y %b\"))\n",
        "\n",
        "ax.xaxis.set_minor_locator(dates.MonthLocator())\n",
        "ax.xaxis.set_minor_formatter(dates.DateFormatter(\"%b\"))\n",
        "\n",
        "ax.tick_params(axis=\"x\", which=\"major\",rotation=90, pad=5)\n",
        "ax.tick_params(axis=\"x\", which=\"minor\",rotation=90)\n",
        "\n",
        "ax.yaxis.grid(True)\n",
        "ax.xaxis.grid(True)\n",
        "\n",
        "ax.set_xlabel('Date')\n",
        "ax.set_title('Apple Stock for Past 1 Year')\n",
        "\n",
        "plt.show()"
      ],
      "id": "oTs5t83aVGyB"
    },
    {
      "cell_type": "code",
      "execution_count": null,
      "metadata": {
        "id": "MYunBjH_VGyC",
        "outputId": "67b0b286-79c3-4949-b31d-b0f02b04b64c"
      },
      "outputs": [
        {
          "data": {
            "image/png": "[encoded data removed]",
            "text/plain": [
              "<Figure size 720x216 with 1 Axes>"
            ]
          },
          "metadata": {},
          "output_type": "display_data"
        }
      ],
      "source": [
        "ax = sns.lineplot(data=nflx_df, x='Date', y='Adj Close', sort=True)\n",
        "\n",
        "ax.xaxis.set_major_locator(dates.YearLocator())\n",
        "ax.xaxis.set_major_formatter(dates.DateFormatter(\"%Y %b\"))\n",
        "\n",
        "ax.xaxis.set_minor_locator(dates.MonthLocator())\n",
        "ax.xaxis.set_minor_formatter(dates.DateFormatter(\"%b\"))\n",
        "\n",
        "ax.tick_params(axis=\"x\", which=\"major\",rotation=90, pad=5)\n",
        "ax.tick_params(axis=\"x\", which=\"minor\",rotation=90)\n",
        "\n",
        "ax.yaxis.grid(True)\n",
        "ax.xaxis.grid(True)\n",
        "\n",
        "ax.set_xlabel('Date')\n",
        "ax.set_title('Netflix Stock for Past 1 Year')\n",
        "\n",
        "plt.show()"
      ],
      "id": "MYunBjH_VGyC"
    },
    {
      "cell_type": "code",
      "execution_count": null,
      "metadata": {
        "id": "1jotFjIRVGyC",
        "outputId": "fe8fa9be-1d7d-4fd4-f170-eccb3c41e73f"
      },
      "outputs": [
        {
          "data": {
            "image/png": "[encoded data removed]",
            "text/plain": [
              "<Figure size 720x216 with 1 Axes>"
            ]
          },
          "metadata": {},
          "output_type": "display_data"
        }
      ],
      "source": [
        "ax = sns.lineplot(data=goog_df, x='Date', y='Adj Close', sort=True)\n",
        "\n",
        "ax.xaxis.set_major_locator(dates.YearLocator())\n",
        "ax.xaxis.set_major_formatter(dates.DateFormatter(\"%Y %b\"))\n",
        "\n",
        "ax.xaxis.set_minor_locator(dates.MonthLocator())\n",
        "ax.xaxis.set_minor_formatter(dates.DateFormatter(\"%b\"))\n",
        "\n",
        "ax.tick_params(axis=\"x\", which=\"major\",rotation=90, pad=5)\n",
        "ax.tick_params(axis=\"x\", which=\"minor\",rotation=90)\n",
        "\n",
        "ax.yaxis.grid(True)\n",
        "ax.xaxis.grid(True)\n",
        "\n",
        "ax.set_xlabel('Date')\n",
        "ax.set_title('Alphabet Stock for Past 1 Year')\n",
        "\n",
        "plt.show()"
      ],
      "id": "1jotFjIRVGyC"
    },
    {
      "cell_type": "markdown",
      "metadata": {
        "id": "_RuDMXiuVGyD"
      },
      "source": [
        "## 7.2 Daily Return of FAANG Stocks"
      ],
      "id": "_RuDMXiuVGyD"
    },
    {
      "cell_type": "code",
      "execution_count": null,
      "metadata": {
        "id": "NvbcqDboVGyD",
        "outputId": "6d394eae-783c-4d45-be83-f605c8dea078"
      },
      "outputs": [
        {
          "data": {
            "text/plain": [
              "<matplotlib.legend.Legend at 0x7ff56807a310>"
            ]
          },
          "execution_count": 24,
          "metadata": {},
          "output_type": "execute_result"
        },
        {
          "data": {
            "image/png": "[encoded data removed]",
            "text/plain": [
              "<Figure size 720x216 with 1 Axes>"
            ]
          },
          "metadata": {},
          "output_type": "display_data"
        }
      ],
      "source": [
        "fb_df['Adj Close'].pct_change(1).hist(label='FB',alpha=0.2,bins=20)\n",
        "amzn_df['Adj Close'].pct_change(1).hist(label='AMZN',alpha=0.2,bins=20)\n",
        "aapl_df['Adj Close'].pct_change(1).hist(label='AAPL',alpha=0.2,bins=20)\n",
        "nflx_df['Adj Close'].pct_change(1).hist(label='NFLX',alpha=0.2,bins=20)\n",
        "goog_df['Adj Close'].pct_change(1).hist(label='GOOG',alpha=0.2,bins=20)\n",
        "\n",
        "plt.xlabel(\"Daily Returns\")\n",
        "plt.legend()"
      ],
      "id": "NvbcqDboVGyD"
    },
    {
      "cell_type": "markdown",
      "metadata": {
        "id": "afLHHk1xVGyD"
      },
      "source": [
        "<br />"
      ],
      "id": "afLHHk1xVGyD"
    },
    {
      "cell_type": "markdown",
      "metadata": {
        "id": "uW_KSVbOVGyD"
      },
      "source": [
        "# 8.0 Preprocess"
      ],
      "id": "uW_KSVbOVGyD"
    },
    {
      "cell_type": "code",
      "execution_count": null,
      "metadata": {
        "id": "umIqPi9ZVGyD"
      },
      "outputs": [],
      "source": [
        "class WindowGenerator():\n",
        "    def __init__(self, input_width, label_width, shift,\n",
        "               train_df, val_df, test_df, label_columns=None):\n",
        "        # Store the raw data.\n",
        "        self.train_df = train_df\n",
        "        self.val_df = val_df\n",
        "        self.test_df = test_df\n",
        "\n",
        "        # Work out the label column indices.\n",
        "        self.label_columns = label_columns\n",
        "        if label_columns is not None:\n",
        "          self.label_columns_indices = {name: i for i, name in\n",
        "                                        enumerate(label_columns)}\n",
        "        self.column_indices = {name: i for i, name in\n",
        "                               enumerate(train_df.columns)}\n",
        "\n",
        "        # Work out the window parameters.\n",
        "        self.input_width = input_width\n",
        "        self.label_width = label_width\n",
        "        self.shift = shift\n",
        "\n",
        "        self.total_window_size = input_width + shift\n",
        "\n",
        "        self.input_slice = slice(0, input_width)\n",
        "        self.input_indices = np.arange(self.total_window_size)[self.input_slice]\n",
        "\n",
        "        self.label_start = self.total_window_size - self.label_width\n",
        "        self.labels_slice = slice(self.label_start, None)\n",
        "        self.label_indices = np.arange(self.total_window_size)[self.labels_slice]\n",
        "        \n",
        "        \n",
        "    def split_window(self, features):\n",
        "        inputs = features[:, self.input_slice, :]\n",
        "        labels = features[:, self.labels_slice, :]\n",
        "        \n",
        "        if self.label_columns is not None:\n",
        "            labels = tf.stack(\n",
        "                [labels[:, :, self.column_indices[name]] for name in self.label_columns],\n",
        "                axis=-1)\n",
        "        inputs.set_shape([None, self.input_width, None])\n",
        "        labels.set_shape([None, self.label_width, None])\n",
        "            \n",
        "        return inputs, labels\n",
        "    \n",
        "    \n",
        "    def make_dataset(self, data):\n",
        "        data = np.array(data, dtype=np.float32)\n",
        "        ds = tf.keras.utils.timeseries_dataset_from_array(\n",
        "            data=data,\n",
        "            targets=None,\n",
        "            sequence_length=self.total_window_size,\n",
        "            sequence_stride=1,\n",
        "            shuffle=True,\n",
        "            batch_size=32,)\n",
        "        \n",
        "        ds = ds.map(self.split_window)\n",
        "        \n",
        "        return ds\n",
        "    \n",
        "    \n",
        "    @property\n",
        "    def train(self):\n",
        "        return self.make_dataset(self.train_df)\n",
        "\n",
        "    \n",
        "    @property\n",
        "    def val(self):\n",
        "        return self.make_dataset(self.val_df)\n",
        "\n",
        "    \n",
        "    @property\n",
        "    def test(self):\n",
        "        return self.make_dataset(self.test_df)\n",
        "\n",
        "    \n",
        "    @property\n",
        "    def example(self):\n",
        "        \"\"\"Get and cache an example batch of `inputs, labels` for plotting.\"\"\"\n",
        "        result = getattr(self, '_example', None)\n",
        "        if result is None:\n",
        "            # No example batch was found, so get one from the `.train` dataset\n",
        "            result = next(iter(self.train))\n",
        "            # And cache it for next time\n",
        "            self._example = result\n",
        "        return result\n",
        "    \n",
        "    \n",
        "    def __repr__(self):\n",
        "        return '\\n'.join([\n",
        "            f'Total window size: {self.total_window_size}',\n",
        "            f'Input indices: {self.input_indices}',\n",
        "            f'Label indices: {self.label_indices}',\n",
        "            f'Label column name(s): {self.label_columns}'])"
      ],
      "id": "umIqPi9ZVGyD"
    },
    {
      "cell_type": "code",
      "execution_count": null,
      "metadata": {
        "id": "dUjyAmmYVGyE"
      },
      "outputs": [],
      "source": [
        "MAX_EPOCHS = 20\n",
        "\n",
        "def compile_and_fit(model, window, patience=2):\n",
        "    early_stopping = tf.keras.callbacks.EarlyStopping(monitor='val_loss',\n",
        "                                                        patience=patience,\n",
        "                                                        mode='min')\n",
        "    \n",
        "    model.compile(loss=tf.losses.MeanSquaredError(),\n",
        "                    optimizer=tf.optimizers.Adam(),\n",
        "                    metrics=[tf.metrics.MeanAbsoluteError()])\n",
        "    \n",
        "    history = model.fit(window.train, epochs=MAX_EPOCHS,\n",
        "                          validation_data=window.val,\n",
        "                          callbacks=[early_stopping])\n",
        "    \n",
        "    return history"
      ],
      "id": "dUjyAmmYVGyE"
    },
    {
      "cell_type": "code",
      "execution_count": null,
      "metadata": {
        "id": "SGWHptOiVGyE",
        "outputId": "c83b6464-77ea-4b71-cce0-f1509a3aa3ef"
      },
      "outputs": [
        {
          "data": {
            "text/plain": [
              "Index(['Date', 'High', 'Low', 'Open', 'Close', 'Volume', 'Adj Close',\n",
              "       'Log Adj Close'],\n",
              "      dtype='object')"
            ]
          },
          "execution_count": 42,
          "metadata": {},
          "output_type": "execute_result"
        }
      ],
      "source": [
        "fb_df.columns"
      ],
      "id": "SGWHptOiVGyE"
    },
    {
      "cell_type": "code",
      "execution_count": null,
      "metadata": {
        "id": "GQtAalVgVGyE"
      },
      "outputs": [],
      "source": [
        "fb_df_len = len(fb_df)\n",
        "fb_train_df = fb_df[:int(fb_df_len * 0.7)]\n",
        "fb_val_df = fb_df[int(fb_df_len * 0.7):int(fb_df_len * 0.9)]\n",
        "fb_test_df = fb_df[int(fb_df_len * 0.9):]"
      ],
      "id": "GQtAalVgVGyE"
    },
    {
      "cell_type": "code",
      "execution_count": null,
      "metadata": {
        "id": "42XpkD3aVGyF"
      },
      "outputs": [],
      "source": [
        "fb_window = WindowGenerator(input_width=10, label_width=1, shift=10, label_columns=['Adj Close'], \n",
        "                            train_df=fb_train_df, val_df=fb_val_df, test_df=fb_test_df)"
      ],
      "id": "42XpkD3aVGyF"
    },
    {
      "cell_type": "code",
      "execution_count": null,
      "metadata": {
        "id": "T60-DdwPVGyF",
        "outputId": "1dec7abf-b966-43a3-ccfd-1ec3e81f1b4a"
      },
      "outputs": [
        {
          "data": {
            "text/plain": [
              "Total window size: 20\n",
              "Input indices: [0 1 2 3 4 5 6 7 8 9]\n",
              "Label indices: [19]\n",
              "Label column name(s): ['Adj Close']"
            ]
          },
          "execution_count": 30,
          "metadata": {},
          "output_type": "execute_result"
        }
      ],
      "source": [
        "fb_window"
      ],
      "id": "T60-DdwPVGyF"
    },
    {
      "cell_type": "code",
      "execution_count": null,
      "metadata": {
        "id": "_MjH1g1iVGyF"
      },
      "outputs": [],
      "source": [
        "val_performance = {}\n",
        "performance = {}"
      ],
      "id": "_MjH1g1iVGyF"
    },
    {
      "cell_type": "code",
      "execution_count": null,
      "metadata": {
        "id": "ypdNWo3dVGyG"
      },
      "outputs": [],
      "source": [
        "wide_window = WindowGenerator(input_width=10, label_width=1, shift=10, label_columns=['Adj Close'], \n",
        "                            train_df=fb_train_df, val_df=fb_val_df, test_df=fb_test_df)"
      ],
      "id": "ypdNWo3dVGyG"
    },
    {
      "cell_type": "code",
      "execution_count": null,
      "metadata": {
        "id": "6SNqGLFtVGyG",
        "outputId": "1c46bdf5-a007-467c-ac43-13ef9a0fff3a"
      },
      "outputs": [
        {
          "data": {
            "text/html": [
              "<div>\n",
              "<style scoped>\n",
              "    .dataframe tbody tr th:only-of-type {\n",
              "        vertical-align: middle;\n",
              "    }\n",
              "\n",
              "    .dataframe tbody tr th {\n",
              "        vertical-align: top;\n",
              "    }\n",
              "\n",
              "    .dataframe thead th {\n",
              "        text-align: right;\n",
              "    }\n",
              "</style>\n",
              "<table border=\"1\" class=\"dataframe\">\n",
              "  <thead>\n",
              "    <tr style=\"text-align: right;\">\n",
              "      <th></th>\n",
              "      <th>Date</th>\n",
              "      <th>High</th>\n",
              "      <th>Low</th>\n",
              "      <th>Open</th>\n",
              "      <th>Close</th>\n",
              "      <th>Volume</th>\n",
              "      <th>Adj Close</th>\n",
              "      <th>Log Adj Close</th>\n",
              "    </tr>\n",
              "  </thead>\n",
              "  <tbody>\n",
              "    <tr>\n",
              "      <th>0</th>\n",
              "      <td>2020-01-15</td>\n",
              "      <td>221.679993</td>\n",
              "      <td>220.139999</td>\n",
              "      <td>220.610001</td>\n",
              "      <td>221.149994</td>\n",
              "      <td>10036500</td>\n",
              "      <td>221.149994</td>\n",
              "      <td>5.398841</td>\n",
              "    </tr>\n",
              "    <tr>\n",
              "      <th>1</th>\n",
              "      <td>2020-01-16</td>\n",
              "      <td>222.630005</td>\n",
              "      <td>220.389999</td>\n",
              "      <td>222.570007</td>\n",
              "      <td>221.770004</td>\n",
              "      <td>10015300</td>\n",
              "      <td>221.770004</td>\n",
              "      <td>5.401641</td>\n",
              "    </tr>\n",
              "    <tr>\n",
              "      <th>2</th>\n",
              "      <td>2020-01-17</td>\n",
              "      <td>222.289993</td>\n",
              "      <td>220.529999</td>\n",
              "      <td>222.029999</td>\n",
              "      <td>222.139999</td>\n",
              "      <td>15905900</td>\n",
              "      <td>222.139999</td>\n",
              "      <td>5.403308</td>\n",
              "    </tr>\n",
              "    <tr>\n",
              "      <th>3</th>\n",
              "      <td>2020-01-21</td>\n",
              "      <td>222.369995</td>\n",
              "      <td>219.119995</td>\n",
              "      <td>222.160004</td>\n",
              "      <td>221.440002</td>\n",
              "      <td>14275800</td>\n",
              "      <td>221.440002</td>\n",
              "      <td>5.400152</td>\n",
              "    </tr>\n",
              "    <tr>\n",
              "      <th>4</th>\n",
              "      <td>2020-01-22</td>\n",
              "      <td>222.750000</td>\n",
              "      <td>221.279999</td>\n",
              "      <td>222.309998</td>\n",
              "      <td>221.320007</td>\n",
              "      <td>12212800</td>\n",
              "      <td>221.320007</td>\n",
              "      <td>5.399610</td>\n",
              "    </tr>\n",
              "    <tr>\n",
              "      <th>...</th>\n",
              "      <td>...</td>\n",
              "      <td>...</td>\n",
              "      <td>...</td>\n",
              "      <td>...</td>\n",
              "      <td>...</td>\n",
              "      <td>...</td>\n",
              "      <td>...</td>\n",
              "      <td>...</td>\n",
              "    </tr>\n",
              "    <tr>\n",
              "      <th>172</th>\n",
              "      <td>2020-09-21</td>\n",
              "      <td>249.949997</td>\n",
              "      <td>244.130005</td>\n",
              "      <td>247.539993</td>\n",
              "      <td>248.149994</td>\n",
              "      <td>24709400</td>\n",
              "      <td>248.149994</td>\n",
              "      <td>5.514033</td>\n",
              "    </tr>\n",
              "    <tr>\n",
              "      <th>173</th>\n",
              "      <td>2020-09-22</td>\n",
              "      <td>255.320007</td>\n",
              "      <td>248.220001</td>\n",
              "      <td>253.309998</td>\n",
              "      <td>254.750000</td>\n",
              "      <td>30293100</td>\n",
              "      <td>254.750000</td>\n",
              "      <td>5.540283</td>\n",
              "    </tr>\n",
              "    <tr>\n",
              "      <th>174</th>\n",
              "      <td>2020-09-23</td>\n",
              "      <td>257.989990</td>\n",
              "      <td>248.149994</td>\n",
              "      <td>255.259995</td>\n",
              "      <td>249.020004</td>\n",
              "      <td>19641300</td>\n",
              "      <td>249.020004</td>\n",
              "      <td>5.517533</td>\n",
              "    </tr>\n",
              "    <tr>\n",
              "      <th>175</th>\n",
              "      <td>2020-09-24</td>\n",
              "      <td>252.240005</td>\n",
              "      <td>245.619995</td>\n",
              "      <td>246.500000</td>\n",
              "      <td>249.529999</td>\n",
              "      <td>20006800</td>\n",
              "      <td>249.529999</td>\n",
              "      <td>5.519579</td>\n",
              "    </tr>\n",
              "    <tr>\n",
              "      <th>176</th>\n",
              "      <td>2020-09-25</td>\n",
              "      <td>255.750000</td>\n",
              "      <td>246.610001</td>\n",
              "      <td>249.399994</td>\n",
              "      <td>254.820007</td>\n",
              "      <td>18351300</td>\n",
              "      <td>254.820007</td>\n",
              "      <td>5.540557</td>\n",
              "    </tr>\n",
              "  </tbody>\n",
              "</table>\n",
              "<p>177 rows × 8 columns</p>\n",
              "</div>"
            ],
            "text/plain": [
              "          Date        High         Low        Open       Close    Volume  \\\n",
              "0   2020-01-15  221.679993  220.139999  220.610001  221.149994  10036500   \n",
              "1   2020-01-16  222.630005  220.389999  222.570007  221.770004  10015300   \n",
              "2   2020-01-17  222.289993  220.529999  222.029999  222.139999  15905900   \n",
              "3   2020-01-21  222.369995  219.119995  222.160004  221.440002  14275800   \n",
              "4   2020-01-22  222.750000  221.279999  222.309998  221.320007  12212800   \n",
              "..         ...         ...         ...         ...         ...       ...   \n",
              "172 2020-09-21  249.949997  244.130005  247.539993  248.149994  24709400   \n",
              "173 2020-09-22  255.320007  248.220001  253.309998  254.750000  30293100   \n",
              "174 2020-09-23  257.989990  248.149994  255.259995  249.020004  19641300   \n",
              "175 2020-09-24  252.240005  245.619995  246.500000  249.529999  20006800   \n",
              "176 2020-09-25  255.750000  246.610001  249.399994  254.820007  18351300   \n",
              "\n",
              "      Adj Close  Log Adj Close  \n",
              "0    221.149994       5.398841  \n",
              "1    221.770004       5.401641  \n",
              "2    222.139999       5.403308  \n",
              "3    221.440002       5.400152  \n",
              "4    221.320007       5.399610  \n",
              "..          ...            ...  \n",
              "172  248.149994       5.514033  \n",
              "173  254.750000       5.540283  \n",
              "174  249.020004       5.517533  \n",
              "175  249.529999       5.519579  \n",
              "176  254.820007       5.540557  \n",
              "\n",
              "[177 rows x 8 columns]"
            ]
          },
          "execution_count": 41,
          "metadata": {},
          "output_type": "execute_result"
        }
      ],
      "source": [
        "wide_window.train_df"
      ],
      "id": "6SNqGLFtVGyG"
    },
    {
      "cell_type": "code",
      "execution_count": null,
      "metadata": {
        "id": "Z7-tair_VGyG",
        "outputId": "7af9036f-78b6-463b-c80d-a25907bbc5d4"
      },
      "outputs": [
        {
          "ename": "TypeError",
          "evalue": "float() argument must be a string or a number, not 'Timestamp'",
          "output_type": "error",
          "traceback": [
            "\u001b[0;31m---------------------------------------------------------------------------\u001b[0m",
            "\u001b[0;31mTypeError\u001b[0m                                 Traceback (most recent call last)",
            "\u001b[0;32m<ipython-input-36-905d499a234f>\u001b[0m in \u001b[0;36m<module>\u001b[0;34m\u001b[0m\n\u001b[1;32m      9\u001b[0m ])\n\u001b[1;32m     10\u001b[0m \u001b[0;34m\u001b[0m\u001b[0m\n\u001b[0;32m---> 11\u001b[0;31m \u001b[0mhistory\u001b[0m \u001b[0;34m=\u001b[0m \u001b[0mcompile_and_fit\u001b[0m\u001b[0;34m(\u001b[0m\u001b[0mlstm_model\u001b[0m\u001b[0;34m,\u001b[0m \u001b[0mwide_window\u001b[0m\u001b[0;34m)\u001b[0m\u001b[0;34m\u001b[0m\u001b[0;34m\u001b[0m\u001b[0m\n\u001b[0m\u001b[1;32m     12\u001b[0m \u001b[0;34m\u001b[0m\u001b[0m\n\u001b[1;32m     13\u001b[0m \u001b[0mIPython\u001b[0m\u001b[0;34m.\u001b[0m\u001b[0mdisplay\u001b[0m\u001b[0;34m.\u001b[0m\u001b[0mclear_output\u001b[0m\u001b[0;34m(\u001b[0m\u001b[0;34m)\u001b[0m\u001b[0;34m\u001b[0m\u001b[0;34m\u001b[0m\u001b[0m\n",
            "\u001b[0;32m<ipython-input-33-1b4992cb851f>\u001b[0m in \u001b[0;36mcompile_and_fit\u001b[0;34m(model, window, patience)\u001b[0m\n\u001b[1;32m     10\u001b[0m                     metrics=[tf.metrics.MeanAbsoluteError()])\n\u001b[1;32m     11\u001b[0m \u001b[0;34m\u001b[0m\u001b[0m\n\u001b[0;32m---> 12\u001b[0;31m     history = model.fit(window.train, epochs=MAX_EPOCHS,\n\u001b[0m\u001b[1;32m     13\u001b[0m                           \u001b[0mvalidation_data\u001b[0m\u001b[0;34m=\u001b[0m\u001b[0mwindow\u001b[0m\u001b[0;34m.\u001b[0m\u001b[0mval\u001b[0m\u001b[0;34m,\u001b[0m\u001b[0;34m\u001b[0m\u001b[0;34m\u001b[0m\u001b[0m\n\u001b[1;32m     14\u001b[0m                           callbacks=[early_stopping])\n",
            "\u001b[0;32m<ipython-input-32-a3e123d2ea81>\u001b[0m in \u001b[0;36mtrain\u001b[0;34m(self)\u001b[0m\n\u001b[1;32m     61\u001b[0m     \u001b[0;34m@\u001b[0m\u001b[0mproperty\u001b[0m\u001b[0;34m\u001b[0m\u001b[0;34m\u001b[0m\u001b[0m\n\u001b[1;32m     62\u001b[0m     \u001b[0;32mdef\u001b[0m \u001b[0mtrain\u001b[0m\u001b[0;34m(\u001b[0m\u001b[0mself\u001b[0m\u001b[0;34m)\u001b[0m\u001b[0;34m:\u001b[0m\u001b[0;34m\u001b[0m\u001b[0;34m\u001b[0m\u001b[0m\n\u001b[0;32m---> 63\u001b[0;31m         \u001b[0;32mreturn\u001b[0m \u001b[0mself\u001b[0m\u001b[0;34m.\u001b[0m\u001b[0mmake_dataset\u001b[0m\u001b[0;34m(\u001b[0m\u001b[0mself\u001b[0m\u001b[0;34m.\u001b[0m\u001b[0mtrain_df\u001b[0m\u001b[0;34m)\u001b[0m\u001b[0;34m\u001b[0m\u001b[0;34m\u001b[0m\u001b[0m\n\u001b[0m\u001b[1;32m     64\u001b[0m \u001b[0;34m\u001b[0m\u001b[0m\n\u001b[1;32m     65\u001b[0m \u001b[0;34m\u001b[0m\u001b[0m\n",
            "\u001b[0;32m<ipython-input-32-a3e123d2ea81>\u001b[0m in \u001b[0;36mmake_dataset\u001b[0;34m(self, data)\u001b[0m\n\u001b[1;32m     45\u001b[0m \u001b[0;34m\u001b[0m\u001b[0m\n\u001b[1;32m     46\u001b[0m     \u001b[0;32mdef\u001b[0m \u001b[0mmake_dataset\u001b[0m\u001b[0;34m(\u001b[0m\u001b[0mself\u001b[0m\u001b[0;34m,\u001b[0m \u001b[0mdata\u001b[0m\u001b[0;34m)\u001b[0m\u001b[0;34m:\u001b[0m\u001b[0;34m\u001b[0m\u001b[0;34m\u001b[0m\u001b[0m\n\u001b[0;32m---> 47\u001b[0;31m         \u001b[0mdata\u001b[0m \u001b[0;34m=\u001b[0m \u001b[0mnp\u001b[0m\u001b[0;34m.\u001b[0m\u001b[0marray\u001b[0m\u001b[0;34m(\u001b[0m\u001b[0mdata\u001b[0m\u001b[0;34m,\u001b[0m \u001b[0mdtype\u001b[0m\u001b[0;34m=\u001b[0m\u001b[0mnp\u001b[0m\u001b[0;34m.\u001b[0m\u001b[0mfloat32\u001b[0m\u001b[0;34m)\u001b[0m\u001b[0;34m\u001b[0m\u001b[0;34m\u001b[0m\u001b[0m\n\u001b[0m\u001b[1;32m     48\u001b[0m         ds = tf.keras.utils.timeseries_dataset_from_array(\n\u001b[1;32m     49\u001b[0m             \u001b[0mdata\u001b[0m\u001b[0;34m=\u001b[0m\u001b[0mdata\u001b[0m\u001b[0;34m,\u001b[0m\u001b[0;34m\u001b[0m\u001b[0;34m\u001b[0m\u001b[0m\n",
            "\u001b[0;32m~/opt/anaconda3/envs/tf2/lib/python3.7/site-packages/pandas/core/generic.py\u001b[0m in \u001b[0;36m__array__\u001b[0;34m(self, dtype)\u001b[0m\n\u001b[1;32m   1897\u001b[0m \u001b[0;34m\u001b[0m\u001b[0m\n\u001b[1;32m   1898\u001b[0m     \u001b[0;32mdef\u001b[0m \u001b[0m__array__\u001b[0m\u001b[0;34m(\u001b[0m\u001b[0mself\u001b[0m\u001b[0;34m,\u001b[0m \u001b[0mdtype\u001b[0m\u001b[0;34m=\u001b[0m\u001b[0;32mNone\u001b[0m\u001b[0;34m)\u001b[0m \u001b[0;34m->\u001b[0m \u001b[0mnp\u001b[0m\u001b[0;34m.\u001b[0m\u001b[0mndarray\u001b[0m\u001b[0;34m:\u001b[0m\u001b[0;34m\u001b[0m\u001b[0;34m\u001b[0m\u001b[0m\n\u001b[0;32m-> 1899\u001b[0;31m         \u001b[0;32mreturn\u001b[0m \u001b[0mnp\u001b[0m\u001b[0;34m.\u001b[0m\u001b[0masarray\u001b[0m\u001b[0;34m(\u001b[0m\u001b[0mself\u001b[0m\u001b[0;34m.\u001b[0m\u001b[0m_values\u001b[0m\u001b[0;34m,\u001b[0m \u001b[0mdtype\u001b[0m\u001b[0;34m=\u001b[0m\u001b[0mdtype\u001b[0m\u001b[0;34m)\u001b[0m\u001b[0;34m\u001b[0m\u001b[0;34m\u001b[0m\u001b[0m\n\u001b[0m\u001b[1;32m   1900\u001b[0m \u001b[0;34m\u001b[0m\u001b[0m\n\u001b[1;32m   1901\u001b[0m     def __array_wrap__(\n",
            "\u001b[0;32m~/opt/anaconda3/envs/tf2/lib/python3.7/site-packages/numpy/core/_asarray.py\u001b[0m in \u001b[0;36masarray\u001b[0;34m(a, dtype, order)\u001b[0m\n\u001b[1;32m     81\u001b[0m \u001b[0;34m\u001b[0m\u001b[0m\n\u001b[1;32m     82\u001b[0m     \"\"\"\n\u001b[0;32m---> 83\u001b[0;31m     \u001b[0;32mreturn\u001b[0m \u001b[0marray\u001b[0m\u001b[0;34m(\u001b[0m\u001b[0ma\u001b[0m\u001b[0;34m,\u001b[0m \u001b[0mdtype\u001b[0m\u001b[0;34m,\u001b[0m \u001b[0mcopy\u001b[0m\u001b[0;34m=\u001b[0m\u001b[0;32mFalse\u001b[0m\u001b[0;34m,\u001b[0m \u001b[0morder\u001b[0m\u001b[0;34m=\u001b[0m\u001b[0morder\u001b[0m\u001b[0;34m)\u001b[0m\u001b[0;34m\u001b[0m\u001b[0;34m\u001b[0m\u001b[0m\n\u001b[0m\u001b[1;32m     84\u001b[0m \u001b[0;34m\u001b[0m\u001b[0m\n\u001b[1;32m     85\u001b[0m \u001b[0;34m\u001b[0m\u001b[0m\n",
            "\u001b[0;31mTypeError\u001b[0m: float() argument must be a string or a number, not 'Timestamp'"
          ]
        }
      ],
      "source": [
        "wide_window = WindowGenerator(input_width=10, label_width=1, shift=10, label_columns=['Adj Close'], \n",
        "                            train_df=fb_train_df, val_df=fb_val_df, test_df=fb_test_df)\n",
        "\n",
        "lstm_model = tf.keras.models.Sequential([\n",
        "    # Shape [batch, time, features] => [batch, time, lstm_units]\n",
        "    tf.keras.layers.LSTM(32, return_sequences=True),\n",
        "    # Shape => [batch, time, features]\n",
        "    tf.keras.layers.Dense(units=64)\n",
        "])\n",
        "\n",
        "history = compile_and_fit(lstm_model, wide_window)\n",
        "\n",
        "IPython.display.clear_output()\n",
        "val_performance['LSTM'] = lstm_model.evaluate( wide_window.val)\n",
        "performance['LSTM'] = lstm_model.evaluate( wide_window.test, verbose=0)"
      ],
      "id": "Z7-tair_VGyG"
    },
    {
      "cell_type": "markdown",
      "metadata": {
        "id": "FS3S2FEcVGyG"
      },
      "source": [
        "# 8.0 Building Model"
      ],
      "id": "FS3S2FEcVGyG"
    },
    {
      "cell_type": "code",
      "execution_count": null,
      "metadata": {
        "id": "q1cXbkKwVGyH"
      },
      "outputs": [],
      "source": [
        ""
      ],
      "id": "q1cXbkKwVGyH"
    },
    {
      "cell_type": "markdown",
      "metadata": {
        "id": "9An1OMtXVGyH"
      },
      "source": [
        "# 7.0 Summary"
      ],
      "id": "9An1OMtXVGyH"
    },
    {
      "cell_type": "code",
      "execution_count": null,
      "metadata": {
        "id": "nzb-5sI2VGyH"
      },
      "outputs": [],
      "source": [
        ""
      ],
      "id": "nzb-5sI2VGyH"
    }
  ],
  "metadata": {
    "kernelspec": {
      "display_name": "Python 3",
      "language": "python",
      "name": "python3"
    },
    "language_info": {
      "codemirror_mode": {
        "name": "ipython",
        "version": 3
      },
      "file_extension": ".py",
      "mimetype": "text/x-python",
      "name": "python",
      "nbconvert_exporter": "python",
      "pygments_lexer": "ipython3",
      "version": "3.7.10"
    },
    "colab": {
      "name": "FAANG-stock-analysis.ipynb",
      "provenance": [],
      "toc_visible": true
    }
  },
  "nbformat": 4,
  "nbformat_minor": 5
}