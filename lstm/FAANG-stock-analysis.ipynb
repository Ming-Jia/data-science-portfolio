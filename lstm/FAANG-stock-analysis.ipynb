{
 "cells": [
  {
   "cell_type": "markdown",
   "metadata": {
    "id": "Ry-UDsOQVGxs"
   },
   "source": [
    "# FAANG Stock Analysis (As of 15 Jan 2022)\n",
    "\n",
    "---\n",
    "\n",
    "**Table of Content**\n",
    "\n",
    "---"
   ]
  },
  {
   "cell_type": "markdown",
   "metadata": {
    "id": "7vxRUX5QVGxy"
   },
   "source": [
    "# 1.0 Objectives\n",
    "\n",
    "- To predict BUY and SELL date for FAANG stock\n",
    "- Forecast closing price of FAANG for T+30 days"
   ]
  },
  {
   "cell_type": "markdown",
   "metadata": {
    "id": "C-DJiAUzVGxz"
   },
   "source": [
    "# 2.0 Dataset Information"
   ]
  },
  {
   "cell_type": "markdown",
   "metadata": {
    "id": "Yz-oD0RGXhZn"
   },
   "source": [
    "## 2.1 Description\n",
    "\n",
    "FAANG refers to Meta (previously known as Facebook), Amazon, Apple, Netflix and Alphabet (previously known as Google). These five corporate stock bundled together is widely known as the FAANG. They are the pioneer in the tech industry. All of them are listed on the Nasdaq Stock Market in the United States(US).\n",
    "\n",
    "The FAANG stock dataset will be fetched directly using *pandas_datareader* library with the source from *Yahoo Finance*\n",
    "\n",
    "NASDAQ Index will be used as a benchmark against the FAANG securities"
   ]
  },
  {
   "cell_type": "markdown",
   "metadata": {
    "id": "1V9t1s1WXuc2"
   },
   "source": [
    "## 2.2 Data Dictionary\n",
    "Their stock ticker symbol as follows:\n",
    "\n",
    "|Corporate|Ticker Symbol|\n",
    "| :---    | :---        |\n",
    "| Meta Platforms, Inc | FB |\n",
    "| Amazon.com., Inc | AMZN |\n",
    "| Apple Inc. | AAPL |\n",
    "| Netflix, Inc. | NFLX |\n",
    "| Alphabet Inc. | GOOG |"
   ]
  },
  {
   "cell_type": "markdown",
   "metadata": {
    "id": "AvO6HAfRXu8g"
   },
   "source": [
    "## 2.3 Assumption\n",
    "\n",
    "- The dataset will only consist Alphabet Class C stock (GOOG). Alphabet Class A stock (GOOGL) will not take into consideration.\n",
    "- Adopt swing trading style\n",
    "- Holding for any security has a minimum 1 and maximum 20 business days for BUY position\n",
    "- Will not execute SHORT position for any security\n",
    "- Risk management is involved when trading the stock"
   ]
  },
  {
   "cell_type": "markdown",
   "metadata": {
    "id": "gI4uI4eHVGx0"
   },
   "source": [
    "# 3.0 Import Library"
   ]
  },
  {
   "cell_type": "code",
   "execution_count": 1,
   "metadata": {
    "id": "1AwqHliZVGx1"
   },
   "outputs": [],
   "source": [
    "# System\n",
    "import sys\n",
    "import os\n",
    "\n",
    "# Date\n",
    "from datetime import date, datetime, timedelta\n",
    "\n",
    "# Fetch data\n",
    "import pandas_datareader.data as web\n",
    "\n",
    "# EDA\n",
    "import numpy as np\n",
    "import pandas as pd\n",
    "import matplotlib.pyplot as plt\n",
    "from matplotlib import dates\n",
    "import seaborn as sns"
   ]
  },
  {
   "cell_type": "code",
   "execution_count": 2,
   "metadata": {
    "id": "RLqMEPrfZLgG"
   },
   "outputs": [],
   "source": [
    "# Deep learning model\n",
    "import tensorflow as tf"
   ]
  },
  {
   "cell_type": "markdown",
   "metadata": {
    "id": "L5L85xzxZZUj"
   },
   "source": [
    "# 4.0 Set Constant and Default Settings"
   ]
  },
  {
   "cell_type": "code",
   "execution_count": 3,
   "metadata": {
    "id": "_KBeH0siZdnl"
   },
   "outputs": [],
   "source": [
    "plt.rcParams['figure.dpi'] = 150\n",
    "sns.set_style('dark')"
   ]
  },
  {
   "cell_type": "code",
   "execution_count": 70,
   "metadata": {
    "id": "zRzcLBElVGx3"
   },
   "outputs": [],
   "source": [
    "# Date\n",
    "today_date = date.today()\n",
    "one_year_duration = timedelta(days=365)\n",
    "data_format = '%Y-%m-%d'\n",
    "\n",
    "# Stock info source\n",
    "data_source = 'yahoo'\n",
    "\n",
    "# Base directory\n",
    "base_dir = os.path.join('datasets')\n",
    "\n",
    "# FAANG info\n",
    "faang = {\n",
    "    'FB': {\n",
    "        'ticker': 'FB',\n",
    "        'filename': f\"{os.path.join(base_dir, 'fb.csv')}\"\n",
    "    },\n",
    "    'AMZN': {\n",
    "        'ticker': 'AMZN',\n",
    "        'filename': f\"{os.path.join(base_dir, 'amzn.csv')}\"\n",
    "    },\n",
    "    'AAPL': {\n",
    "        'ticker': 'AAPL',\n",
    "        'filename': f\"{os.path.join(base_dir, 'aapl.csv')}\"\n",
    "    },\n",
    "    'NFLX': {\n",
    "        'ticker': 'NFLX',\n",
    "        'filename': f\"{os.path.join(base_dir, 'nlfx.csv')}\"\n",
    "    },\n",
    "    'GOOG': {\n",
    "        'ticker': 'GOOG',\n",
    "        'filename': f\"{os.path.join(base_dir, 'goog.csv')}\"\n",
    "    }\n",
    "}\n",
    "\n",
    "# Market index\n",
    "mkt_index = {\n",
    "    '^IXIC': {\n",
    "        'ticker': '^IXIC',\n",
    "        'filename': f\"{os.path.join(base_dir, 'ixic.csv')}\"\n",
    "    }\n",
    "}"
   ]
  },
  {
   "cell_type": "markdown",
   "metadata": {
    "id": "1rUKEYA5VGx5"
   },
   "source": [
    "# 5.0 Fetch, Write and Load Dataset"
   ]
  },
  {
   "cell_type": "code",
   "execution_count": 59,
   "metadata": {
    "id": "swd2moKWVGx6"
   },
   "outputs": [],
   "source": [
    "def fetch_securities(securities, end_date = None):\n",
    "    if not end_date:\n",
    "        end_date = today_date\n",
    "\n",
    "    start_date = end_date - one_year_duration\n",
    "    \n",
    "    start = start_date.strftime(data_format)\n",
    "    end = end_date.strftime(data_format)\n",
    "    \n",
    "    for info in securities.values():\n",
    "        df = web.DataReader(info['ticker'], data_source, start=start, end=end)\n",
    "\n",
    "        df = df.reset_index()\n",
    "        df.to_csv(info['filename'], index=False)\n"
   ]
  },
  {
   "cell_type": "code",
   "execution_count": 71,
   "metadata": {
    "colab": {
     "base_uri": "https://localhost:8080/",
     "height": 589
    },
    "id": "odDzmZDeVGx6",
    "outputId": "290465a1-51d3-4009-a88b-8714486c2a4e"
   },
   "outputs": [],
   "source": [
    "# Uncomment to download data\n",
    "fetch_securities(faang, datetime(2022, 4, 15))\n",
    "fetch_securities(mkt_index, datetime(2022, 4, 15))"
   ]
  },
  {
   "cell_type": "code",
   "execution_count": 50,
   "metadata": {
    "colab": {
     "base_uri": "https://localhost:8080/",
     "height": 398
    },
    "id": "NwIoLeyPVGx6",
    "outputId": "fca443cf-3780-4901-9901-e4c95bf05796"
   },
   "outputs": [],
   "source": [
    "fb_df = pd.read_csv(faang['FB']['filename'], parse_dates=['Date'], index_col='Date')\n",
    "amzn_df = pd.read_csv(faang['AMZN']['filename'], parse_dates=['Date'], index_col='Date')\n",
    "aapl_df = pd.read_csv(faang['AAPL']['filename'], parse_dates=['Date'], index_col='Date')\n",
    "nflx_df = pd.read_csv(faang['NFLX']['filename'], parse_dates=['Date'], index_col='Date')\n",
    "goog_df = pd.read_csv(faang['GOOG']['filename'], parse_dates=['Date'], index_col='Date')\n",
    "\n",
    "ixic_df = pd.read_csv(faang['IXIC']['filename'], parse_dates=['Date'], index_col='Date')"
   ]
  },
  {
   "cell_type": "code",
   "execution_count": null,
   "id": "e838113f",
   "metadata": {},
   "outputs": [],
   "source": [
    "securities_df = [\n",
    "    fb_df,\n",
    "    amzn_df,\n",
    "    aapl_df,\n",
    "    nflx_df,\n",
    "    goog_df,\n",
    "    ixic_df\n",
    "]"
   ]
  },
  {
   "cell_type": "markdown",
   "metadata": {
    "id": "Q8B4ekL9VGyA"
   },
   "source": [
    "# 6.0 Exploratory Data Analysis (EDA)"
   ]
  },
  {
   "cell_type": "markdown",
   "id": "cfe7ce89",
   "metadata": {
    "id": "WcaqlR2uVGx7"
   },
   "source": [
    "## 6.1 Overview of Dataset"
   ]
  },
  {
   "cell_type": "code",
   "execution_count": 30,
   "id": "058417be",
   "metadata": {},
   "outputs": [],
   "source": [
    "def ticker_overview(df: pd.DataFrame, name=None):\n",
    "    print(f\"First 5 row{' of ' + name if name else ''}\")\n",
    "    display(df.head())\n",
    "\n",
    "    print(f\"\\nColumns{' of ' + name if name else ''}\")\n",
    "    display(df.columns)\n",
    "\n",
    "    print(f\"\\nInfo{' of ' + name if name else ''}\")\n",
    "    df.info()\n",
    "\n",
    "    print(f\"\\nStats{' of ' + name if name else ''}\")\n",
    "    display(df.describe().T)"
   ]
  },
  {
   "cell_type": "code",
   "execution_count": 31,
   "id": "7456c21e",
   "metadata": {},
   "outputs": [
    {
     "name": "stdout",
     "output_type": "stream",
     "text": [
      "First 5 row of FB\n"
     ]
    },
    {
     "data": {
      "text/html": [
       "<div>\n",
       "<style scoped>\n",
       "    .dataframe tbody tr th:only-of-type {\n",
       "        vertical-align: middle;\n",
       "    }\n",
       "\n",
       "    .dataframe tbody tr th {\n",
       "        vertical-align: top;\n",
       "    }\n",
       "\n",
       "    .dataframe thead th {\n",
       "        text-align: right;\n",
       "    }\n",
       "</style>\n",
       "<table border=\"1\" class=\"dataframe\">\n",
       "  <thead>\n",
       "    <tr style=\"text-align: right;\">\n",
       "      <th></th>\n",
       "      <th>High</th>\n",
       "      <th>Low</th>\n",
       "      <th>Open</th>\n",
       "      <th>Close</th>\n",
       "      <th>Volume</th>\n",
       "      <th>Adj Close</th>\n",
       "    </tr>\n",
       "    <tr>\n",
       "      <th>Date</th>\n",
       "      <th></th>\n",
       "      <th></th>\n",
       "      <th></th>\n",
       "      <th></th>\n",
       "      <th></th>\n",
       "      <th></th>\n",
       "    </tr>\n",
       "  </thead>\n",
       "  <tbody>\n",
       "    <tr>\n",
       "      <th>2021-04-14</th>\n",
       "      <td>308.029999</td>\n",
       "      <td>301.950012</td>\n",
       "      <td>307.299988</td>\n",
       "      <td>302.820007</td>\n",
       "      <td>17421400</td>\n",
       "      <td>302.820007</td>\n",
       "    </tr>\n",
       "    <tr>\n",
       "      <th>2021-04-15</th>\n",
       "      <td>310.140015</td>\n",
       "      <td>304.100006</td>\n",
       "      <td>306.339996</td>\n",
       "      <td>307.820007</td>\n",
       "      <td>14558300</td>\n",
       "      <td>307.820007</td>\n",
       "    </tr>\n",
       "    <tr>\n",
       "      <th>2021-04-16</th>\n",
       "      <td>308.950012</td>\n",
       "      <td>304.609985</td>\n",
       "      <td>308.170013</td>\n",
       "      <td>306.179993</td>\n",
       "      <td>13059200</td>\n",
       "      <td>306.179993</td>\n",
       "    </tr>\n",
       "    <tr>\n",
       "      <th>2021-04-19</th>\n",
       "      <td>307.700012</td>\n",
       "      <td>300.559998</td>\n",
       "      <td>305.010010</td>\n",
       "      <td>302.239990</td>\n",
       "      <td>14553500</td>\n",
       "      <td>302.239990</td>\n",
       "    </tr>\n",
       "    <tr>\n",
       "      <th>2021-04-20</th>\n",
       "      <td>305.100006</td>\n",
       "      <td>297.209991</td>\n",
       "      <td>301.989990</td>\n",
       "      <td>302.649994</td>\n",
       "      <td>16796400</td>\n",
       "      <td>302.649994</td>\n",
       "    </tr>\n",
       "  </tbody>\n",
       "</table>\n",
       "</div>"
      ],
      "text/plain": [
       "                  High         Low        Open       Close    Volume  \\\n",
       "Date                                                                   \n",
       "2021-04-14  308.029999  301.950012  307.299988  302.820007  17421400   \n",
       "2021-04-15  310.140015  304.100006  306.339996  307.820007  14558300   \n",
       "2021-04-16  308.950012  304.609985  308.170013  306.179993  13059200   \n",
       "2021-04-19  307.700012  300.559998  305.010010  302.239990  14553500   \n",
       "2021-04-20  305.100006  297.209991  301.989990  302.649994  16796400   \n",
       "\n",
       "             Adj Close  \n",
       "Date                    \n",
       "2021-04-14  302.820007  \n",
       "2021-04-15  307.820007  \n",
       "2021-04-16  306.179993  \n",
       "2021-04-19  302.239990  \n",
       "2021-04-20  302.649994  "
      ]
     },
     "metadata": {},
     "output_type": "display_data"
    },
    {
     "name": "stdout",
     "output_type": "stream",
     "text": [
      "\n",
      "Columns of FB\n"
     ]
    },
    {
     "data": {
      "text/plain": [
       "Index(['High', 'Low', 'Open', 'Close', 'Volume', 'Adj Close'], dtype='object')"
      ]
     },
     "metadata": {},
     "output_type": "display_data"
    },
    {
     "name": "stdout",
     "output_type": "stream",
     "text": [
      "\n",
      "Info of FB\n",
      "<class 'pandas.core.frame.DataFrame'>\n",
      "DatetimeIndex: 255 entries, 2021-04-14 to 2022-04-14\n",
      "Data columns (total 6 columns):\n",
      " #   Column     Non-Null Count  Dtype  \n",
      "---  ------     --------------  -----  \n",
      " 0   High       255 non-null    float64\n",
      " 1   Low        255 non-null    float64\n",
      " 2   Open       255 non-null    float64\n",
      " 3   Close      255 non-null    float64\n",
      " 4   Volume     255 non-null    int64  \n",
      " 5   Adj Close  255 non-null    float64\n",
      "dtypes: float64(5), int64(1)\n",
      "memory usage: 13.9 KB\n",
      "\n",
      "Stats of FB\n"
     ]
    },
    {
     "data": {
      "text/html": [
       "<div>\n",
       "<style scoped>\n",
       "    .dataframe tbody tr th:only-of-type {\n",
       "        vertical-align: middle;\n",
       "    }\n",
       "\n",
       "    .dataframe tbody tr th {\n",
       "        vertical-align: top;\n",
       "    }\n",
       "\n",
       "    .dataframe thead th {\n",
       "        text-align: right;\n",
       "    }\n",
       "</style>\n",
       "<table border=\"1\" class=\"dataframe\">\n",
       "  <thead>\n",
       "    <tr style=\"text-align: right;\">\n",
       "      <th></th>\n",
       "      <th>count</th>\n",
       "      <th>mean</th>\n",
       "      <th>std</th>\n",
       "      <th>min</th>\n",
       "      <th>25%</th>\n",
       "      <th>50%</th>\n",
       "      <th>75%</th>\n",
       "      <th>max</th>\n",
       "    </tr>\n",
       "  </thead>\n",
       "  <tbody>\n",
       "    <tr>\n",
       "      <th>High</th>\n",
       "      <td>255.0</td>\n",
       "      <td>3.166569e+02</td>\n",
       "      <td>5.245129e+01</td>\n",
       "      <td>1.922800e+02</td>\n",
       "      <td>3.084450e+02</td>\n",
       "      <td>3.343800e+02</td>\n",
       "      <td>3.494150e+02</td>\n",
       "      <td>3.843300e+02</td>\n",
       "    </tr>\n",
       "    <tr>\n",
       "      <th>Low</th>\n",
       "      <td>255.0</td>\n",
       "      <td>3.088285e+02</td>\n",
       "      <td>5.262672e+01</td>\n",
       "      <td>1.858200e+02</td>\n",
       "      <td>3.008350e+02</td>\n",
       "      <td>3.261600e+02</td>\n",
       "      <td>3.410600e+02</td>\n",
       "      <td>3.788100e+02</td>\n",
       "    </tr>\n",
       "    <tr>\n",
       "      <th>Open</th>\n",
       "      <td>255.0</td>\n",
       "      <td>3.127314e+02</td>\n",
       "      <td>5.259758e+01</td>\n",
       "      <td>1.870300e+02</td>\n",
       "      <td>3.046450e+02</td>\n",
       "      <td>3.301200e+02</td>\n",
       "      <td>3.443800e+02</td>\n",
       "      <td>3.816800e+02</td>\n",
       "    </tr>\n",
       "    <tr>\n",
       "      <th>Close</th>\n",
       "      <td>255.0</td>\n",
       "      <td>3.127290e+02</td>\n",
       "      <td>5.267981e+01</td>\n",
       "      <td>1.866300e+02</td>\n",
       "      <td>3.044150e+02</td>\n",
       "      <td>3.300500e+02</td>\n",
       "      <td>3.444100e+02</td>\n",
       "      <td>3.821800e+02</td>\n",
       "    </tr>\n",
       "    <tr>\n",
       "      <th>Volume</th>\n",
       "      <td>255.0</td>\n",
       "      <td>2.294725e+07</td>\n",
       "      <td>1.699165e+07</td>\n",
       "      <td>7.170700e+06</td>\n",
       "      <td>1.414275e+07</td>\n",
       "      <td>1.802380e+07</td>\n",
       "      <td>2.719015e+07</td>\n",
       "      <td>1.881199e+08</td>\n",
       "    </tr>\n",
       "    <tr>\n",
       "      <th>Adj Close</th>\n",
       "      <td>255.0</td>\n",
       "      <td>3.127290e+02</td>\n",
       "      <td>5.267981e+01</td>\n",
       "      <td>1.866300e+02</td>\n",
       "      <td>3.044150e+02</td>\n",
       "      <td>3.300500e+02</td>\n",
       "      <td>3.444100e+02</td>\n",
       "      <td>3.821800e+02</td>\n",
       "    </tr>\n",
       "  </tbody>\n",
       "</table>\n",
       "</div>"
      ],
      "text/plain": [
       "           count          mean           std           min           25%  \\\n",
       "High       255.0  3.166569e+02  5.245129e+01  1.922800e+02  3.084450e+02   \n",
       "Low        255.0  3.088285e+02  5.262672e+01  1.858200e+02  3.008350e+02   \n",
       "Open       255.0  3.127314e+02  5.259758e+01  1.870300e+02  3.046450e+02   \n",
       "Close      255.0  3.127290e+02  5.267981e+01  1.866300e+02  3.044150e+02   \n",
       "Volume     255.0  2.294725e+07  1.699165e+07  7.170700e+06  1.414275e+07   \n",
       "Adj Close  255.0  3.127290e+02  5.267981e+01  1.866300e+02  3.044150e+02   \n",
       "\n",
       "                    50%           75%           max  \n",
       "High       3.343800e+02  3.494150e+02  3.843300e+02  \n",
       "Low        3.261600e+02  3.410600e+02  3.788100e+02  \n",
       "Open       3.301200e+02  3.443800e+02  3.816800e+02  \n",
       "Close      3.300500e+02  3.444100e+02  3.821800e+02  \n",
       "Volume     1.802380e+07  2.719015e+07  1.881199e+08  \n",
       "Adj Close  3.300500e+02  3.444100e+02  3.821800e+02  "
      ]
     },
     "metadata": {},
     "output_type": "display_data"
    }
   ],
   "source": [
    "ticker_overview(fb_df, name='FB')"
   ]
  },
  {
   "cell_type": "code",
   "execution_count": 32,
   "id": "8446499b",
   "metadata": {},
   "outputs": [
    {
     "name": "stdout",
     "output_type": "stream",
     "text": [
      "First 5 row of AMZN\n"
     ]
    },
    {
     "data": {
      "text/html": [
       "<div>\n",
       "<style scoped>\n",
       "    .dataframe tbody tr th:only-of-type {\n",
       "        vertical-align: middle;\n",
       "    }\n",
       "\n",
       "    .dataframe tbody tr th {\n",
       "        vertical-align: top;\n",
       "    }\n",
       "\n",
       "    .dataframe thead th {\n",
       "        text-align: right;\n",
       "    }\n",
       "</style>\n",
       "<table border=\"1\" class=\"dataframe\">\n",
       "  <thead>\n",
       "    <tr style=\"text-align: right;\">\n",
       "      <th></th>\n",
       "      <th>High</th>\n",
       "      <th>Low</th>\n",
       "      <th>Open</th>\n",
       "      <th>Close</th>\n",
       "      <th>Volume</th>\n",
       "      <th>Adj Close</th>\n",
       "    </tr>\n",
       "    <tr>\n",
       "      <th>Date</th>\n",
       "      <th></th>\n",
       "      <th></th>\n",
       "      <th></th>\n",
       "      <th></th>\n",
       "      <th></th>\n",
       "      <th></th>\n",
       "    </tr>\n",
       "  </thead>\n",
       "  <tbody>\n",
       "    <tr>\n",
       "      <th>2021-04-14</th>\n",
       "      <td>3404.129883</td>\n",
       "      <td>3326.000000</td>\n",
       "      <td>3404.040039</td>\n",
       "      <td>3333.000000</td>\n",
       "      <td>3145200</td>\n",
       "      <td>3333.000000</td>\n",
       "    </tr>\n",
       "    <tr>\n",
       "      <th>2021-04-15</th>\n",
       "      <td>3397.000000</td>\n",
       "      <td>3352.000000</td>\n",
       "      <td>3371.000000</td>\n",
       "      <td>3379.090088</td>\n",
       "      <td>3233600</td>\n",
       "      <td>3379.090088</td>\n",
       "    </tr>\n",
       "    <tr>\n",
       "      <th>2021-04-16</th>\n",
       "      <td>3406.800049</td>\n",
       "      <td>3355.590088</td>\n",
       "      <td>3380.000000</td>\n",
       "      <td>3399.439941</td>\n",
       "      <td>3186000</td>\n",
       "      <td>3399.439941</td>\n",
       "    </tr>\n",
       "    <tr>\n",
       "      <th>2021-04-19</th>\n",
       "      <td>3435.929932</td>\n",
       "      <td>3360.159912</td>\n",
       "      <td>3390.330078</td>\n",
       "      <td>3372.010010</td>\n",
       "      <td>2725400</td>\n",
       "      <td>3372.010010</td>\n",
       "    </tr>\n",
       "    <tr>\n",
       "      <th>2021-04-20</th>\n",
       "      <td>3382.989990</td>\n",
       "      <td>3316.000000</td>\n",
       "      <td>3373.600098</td>\n",
       "      <td>3334.689941</td>\n",
       "      <td>2623000</td>\n",
       "      <td>3334.689941</td>\n",
       "    </tr>\n",
       "  </tbody>\n",
       "</table>\n",
       "</div>"
      ],
      "text/plain": [
       "                   High          Low         Open        Close   Volume  \\\n",
       "Date                                                                      \n",
       "2021-04-14  3404.129883  3326.000000  3404.040039  3333.000000  3145200   \n",
       "2021-04-15  3397.000000  3352.000000  3371.000000  3379.090088  3233600   \n",
       "2021-04-16  3406.800049  3355.590088  3380.000000  3399.439941  3186000   \n",
       "2021-04-19  3435.929932  3360.159912  3390.330078  3372.010010  2725400   \n",
       "2021-04-20  3382.989990  3316.000000  3373.600098  3334.689941  2623000   \n",
       "\n",
       "              Adj Close  \n",
       "Date                     \n",
       "2021-04-14  3333.000000  \n",
       "2021-04-15  3379.090088  \n",
       "2021-04-16  3399.439941  \n",
       "2021-04-19  3372.010010  \n",
       "2021-04-20  3334.689941  "
      ]
     },
     "metadata": {},
     "output_type": "display_data"
    },
    {
     "name": "stdout",
     "output_type": "stream",
     "text": [
      "\n",
      "Columns of AMZN\n"
     ]
    },
    {
     "data": {
      "text/plain": [
       "Index(['High', 'Low', 'Open', 'Close', 'Volume', 'Adj Close'], dtype='object')"
      ]
     },
     "metadata": {},
     "output_type": "display_data"
    },
    {
     "name": "stdout",
     "output_type": "stream",
     "text": [
      "\n",
      "Info of AMZN\n",
      "<class 'pandas.core.frame.DataFrame'>\n",
      "DatetimeIndex: 255 entries, 2021-04-14 to 2022-04-14\n",
      "Data columns (total 6 columns):\n",
      " #   Column     Non-Null Count  Dtype  \n",
      "---  ------     --------------  -----  \n",
      " 0   High       255 non-null    float64\n",
      " 1   Low        255 non-null    float64\n",
      " 2   Open       255 non-null    float64\n",
      " 3   Close      255 non-null    float64\n",
      " 4   Volume     255 non-null    int64  \n",
      " 5   Adj Close  255 non-null    float64\n",
      "dtypes: float64(5), int64(1)\n",
      "memory usage: 13.9 KB\n",
      "\n",
      "Stats of AMZN\n"
     ]
    },
    {
     "data": {
      "text/html": [
       "<div>\n",
       "<style scoped>\n",
       "    .dataframe tbody tr th:only-of-type {\n",
       "        vertical-align: middle;\n",
       "    }\n",
       "\n",
       "    .dataframe tbody tr th {\n",
       "        vertical-align: top;\n",
       "    }\n",
       "\n",
       "    .dataframe thead th {\n",
       "        text-align: right;\n",
       "    }\n",
       "</style>\n",
       "<table border=\"1\" class=\"dataframe\">\n",
       "  <thead>\n",
       "    <tr style=\"text-align: right;\">\n",
       "      <th></th>\n",
       "      <th>count</th>\n",
       "      <th>mean</th>\n",
       "      <th>std</th>\n",
       "      <th>min</th>\n",
       "      <th>25%</th>\n",
       "      <th>50%</th>\n",
       "      <th>75%</th>\n",
       "      <th>max</th>\n",
       "    </tr>\n",
       "  </thead>\n",
       "  <tbody>\n",
       "    <tr>\n",
       "      <th>High</th>\n",
       "      <td>255.0</td>\n",
       "      <td>3.357204e+03</td>\n",
       "      <td>1.933314e+02</td>\n",
       "      <td>2.805000e+03</td>\n",
       "      <td>3.253960e+03</td>\n",
       "      <td>3.368140e+03</td>\n",
       "      <td>3.482995e+03</td>\n",
       "      <td>3.773080e+03</td>\n",
       "    </tr>\n",
       "    <tr>\n",
       "      <th>Low</th>\n",
       "      <td>255.0</td>\n",
       "      <td>3.280996e+03</td>\n",
       "      <td>2.045778e+02</td>\n",
       "      <td>2.671450e+03</td>\n",
       "      <td>3.197815e+03</td>\n",
       "      <td>3.303810e+03</td>\n",
       "      <td>3.411755e+03</td>\n",
       "      <td>3.696790e+03</td>\n",
       "    </tr>\n",
       "    <tr>\n",
       "      <th>Open</th>\n",
       "      <td>255.0</td>\n",
       "      <td>3.321186e+03</td>\n",
       "      <td>1.977412e+02</td>\n",
       "      <td>2.733670e+03</td>\n",
       "      <td>3.218960e+03</td>\n",
       "      <td>3.343610e+03</td>\n",
       "      <td>3.451820e+03</td>\n",
       "      <td>3.744000e+03</td>\n",
       "    </tr>\n",
       "    <tr>\n",
       "      <th>Close</th>\n",
       "      <td>255.0</td>\n",
       "      <td>3.317841e+03</td>\n",
       "      <td>2.001950e+02</td>\n",
       "      <td>2.720290e+03</td>\n",
       "      <td>3.224095e+03</td>\n",
       "      <td>3.334690e+03</td>\n",
       "      <td>3.447440e+03</td>\n",
       "      <td>3.731410e+03</td>\n",
       "    </tr>\n",
       "    <tr>\n",
       "      <th>Volume</th>\n",
       "      <td>255.0</td>\n",
       "      <td>3.437322e+06</td>\n",
       "      <td>1.414434e+06</td>\n",
       "      <td>1.680300e+06</td>\n",
       "      <td>2.569350e+06</td>\n",
       "      <td>3.145200e+06</td>\n",
       "      <td>3.838950e+06</td>\n",
       "      <td>1.267280e+07</td>\n",
       "    </tr>\n",
       "    <tr>\n",
       "      <th>Adj Close</th>\n",
       "      <td>255.0</td>\n",
       "      <td>3.317841e+03</td>\n",
       "      <td>2.001950e+02</td>\n",
       "      <td>2.720290e+03</td>\n",
       "      <td>3.224095e+03</td>\n",
       "      <td>3.334690e+03</td>\n",
       "      <td>3.447440e+03</td>\n",
       "      <td>3.731410e+03</td>\n",
       "    </tr>\n",
       "  </tbody>\n",
       "</table>\n",
       "</div>"
      ],
      "text/plain": [
       "           count          mean           std           min           25%  \\\n",
       "High       255.0  3.357204e+03  1.933314e+02  2.805000e+03  3.253960e+03   \n",
       "Low        255.0  3.280996e+03  2.045778e+02  2.671450e+03  3.197815e+03   \n",
       "Open       255.0  3.321186e+03  1.977412e+02  2.733670e+03  3.218960e+03   \n",
       "Close      255.0  3.317841e+03  2.001950e+02  2.720290e+03  3.224095e+03   \n",
       "Volume     255.0  3.437322e+06  1.414434e+06  1.680300e+06  2.569350e+06   \n",
       "Adj Close  255.0  3.317841e+03  2.001950e+02  2.720290e+03  3.224095e+03   \n",
       "\n",
       "                    50%           75%           max  \n",
       "High       3.368140e+03  3.482995e+03  3.773080e+03  \n",
       "Low        3.303810e+03  3.411755e+03  3.696790e+03  \n",
       "Open       3.343610e+03  3.451820e+03  3.744000e+03  \n",
       "Close      3.334690e+03  3.447440e+03  3.731410e+03  \n",
       "Volume     3.145200e+06  3.838950e+06  1.267280e+07  \n",
       "Adj Close  3.334690e+03  3.447440e+03  3.731410e+03  "
      ]
     },
     "metadata": {},
     "output_type": "display_data"
    }
   ],
   "source": [
    "ticker_overview(amzn_df, name='AMZN')"
   ]
  },
  {
   "cell_type": "code",
   "execution_count": 33,
   "id": "fc9d06fc",
   "metadata": {},
   "outputs": [
    {
     "name": "stdout",
     "output_type": "stream",
     "text": [
      "First 5 row of AAPL\n"
     ]
    },
    {
     "data": {
      "text/html": [
       "<div>\n",
       "<style scoped>\n",
       "    .dataframe tbody tr th:only-of-type {\n",
       "        vertical-align: middle;\n",
       "    }\n",
       "\n",
       "    .dataframe tbody tr th {\n",
       "        vertical-align: top;\n",
       "    }\n",
       "\n",
       "    .dataframe thead th {\n",
       "        text-align: right;\n",
       "    }\n",
       "</style>\n",
       "<table border=\"1\" class=\"dataframe\">\n",
       "  <thead>\n",
       "    <tr style=\"text-align: right;\">\n",
       "      <th></th>\n",
       "      <th>High</th>\n",
       "      <th>Low</th>\n",
       "      <th>Open</th>\n",
       "      <th>Close</th>\n",
       "      <th>Volume</th>\n",
       "      <th>Adj Close</th>\n",
       "    </tr>\n",
       "    <tr>\n",
       "      <th>Date</th>\n",
       "      <th></th>\n",
       "      <th></th>\n",
       "      <th></th>\n",
       "      <th></th>\n",
       "      <th></th>\n",
       "      <th></th>\n",
       "    </tr>\n",
       "  </thead>\n",
       "  <tbody>\n",
       "    <tr>\n",
       "      <th>2021-04-14</th>\n",
       "      <td>135.000000</td>\n",
       "      <td>131.660004</td>\n",
       "      <td>134.940002</td>\n",
       "      <td>132.029999</td>\n",
       "      <td>87222800.0</td>\n",
       "      <td>131.249908</td>\n",
       "    </tr>\n",
       "    <tr>\n",
       "      <th>2021-04-15</th>\n",
       "      <td>135.000000</td>\n",
       "      <td>133.639999</td>\n",
       "      <td>133.820007</td>\n",
       "      <td>134.500000</td>\n",
       "      <td>89347100.0</td>\n",
       "      <td>133.705322</td>\n",
       "    </tr>\n",
       "    <tr>\n",
       "      <th>2021-04-16</th>\n",
       "      <td>134.669998</td>\n",
       "      <td>133.279999</td>\n",
       "      <td>134.300003</td>\n",
       "      <td>134.160004</td>\n",
       "      <td>84922400.0</td>\n",
       "      <td>133.367340</td>\n",
       "    </tr>\n",
       "    <tr>\n",
       "      <th>2021-04-19</th>\n",
       "      <td>135.470001</td>\n",
       "      <td>133.339996</td>\n",
       "      <td>133.509995</td>\n",
       "      <td>134.839996</td>\n",
       "      <td>94264200.0</td>\n",
       "      <td>134.043289</td>\n",
       "    </tr>\n",
       "    <tr>\n",
       "      <th>2021-04-20</th>\n",
       "      <td>135.529999</td>\n",
       "      <td>131.809998</td>\n",
       "      <td>135.020004</td>\n",
       "      <td>133.110001</td>\n",
       "      <td>94812300.0</td>\n",
       "      <td>132.323547</td>\n",
       "    </tr>\n",
       "  </tbody>\n",
       "</table>\n",
       "</div>"
      ],
      "text/plain": [
       "                  High         Low        Open       Close      Volume  \\\n",
       "Date                                                                     \n",
       "2021-04-14  135.000000  131.660004  134.940002  132.029999  87222800.0   \n",
       "2021-04-15  135.000000  133.639999  133.820007  134.500000  89347100.0   \n",
       "2021-04-16  134.669998  133.279999  134.300003  134.160004  84922400.0   \n",
       "2021-04-19  135.470001  133.339996  133.509995  134.839996  94264200.0   \n",
       "2021-04-20  135.529999  131.809998  135.020004  133.110001  94812300.0   \n",
       "\n",
       "             Adj Close  \n",
       "Date                    \n",
       "2021-04-14  131.249908  \n",
       "2021-04-15  133.705322  \n",
       "2021-04-16  133.367340  \n",
       "2021-04-19  134.043289  \n",
       "2021-04-20  132.323547  "
      ]
     },
     "metadata": {},
     "output_type": "display_data"
    },
    {
     "name": "stdout",
     "output_type": "stream",
     "text": [
      "\n",
      "Columns of AAPL\n"
     ]
    },
    {
     "data": {
      "text/plain": [
       "Index(['High', 'Low', 'Open', 'Close', 'Volume', 'Adj Close'], dtype='object')"
      ]
     },
     "metadata": {},
     "output_type": "display_data"
    },
    {
     "name": "stdout",
     "output_type": "stream",
     "text": [
      "\n",
      "Info of AAPL\n",
      "<class 'pandas.core.frame.DataFrame'>\n",
      "DatetimeIndex: 255 entries, 2021-04-14 to 2022-04-14\n",
      "Data columns (total 6 columns):\n",
      " #   Column     Non-Null Count  Dtype  \n",
      "---  ------     --------------  -----  \n",
      " 0   High       255 non-null    float64\n",
      " 1   Low        255 non-null    float64\n",
      " 2   Open       255 non-null    float64\n",
      " 3   Close      255 non-null    float64\n",
      " 4   Volume     255 non-null    float64\n",
      " 5   Adj Close  255 non-null    float64\n",
      "dtypes: float64(6)\n",
      "memory usage: 13.9 KB\n",
      "\n",
      "Stats of AAPL\n"
     ]
    },
    {
     "data": {
      "text/html": [
       "<div>\n",
       "<style scoped>\n",
       "    .dataframe tbody tr th:only-of-type {\n",
       "        vertical-align: middle;\n",
       "    }\n",
       "\n",
       "    .dataframe tbody tr th {\n",
       "        vertical-align: top;\n",
       "    }\n",
       "\n",
       "    .dataframe thead th {\n",
       "        text-align: right;\n",
       "    }\n",
       "</style>\n",
       "<table border=\"1\" class=\"dataframe\">\n",
       "  <thead>\n",
       "    <tr style=\"text-align: right;\">\n",
       "      <th></th>\n",
       "      <th>count</th>\n",
       "      <th>mean</th>\n",
       "      <th>std</th>\n",
       "      <th>min</th>\n",
       "      <th>25%</th>\n",
       "      <th>50%</th>\n",
       "      <th>75%</th>\n",
       "      <th>max</th>\n",
       "    </tr>\n",
       "  </thead>\n",
       "  <tbody>\n",
       "    <tr>\n",
       "      <th>High</th>\n",
       "      <td>255.0</td>\n",
       "      <td>1.536721e+02</td>\n",
       "      <td>1.648506e+01</td>\n",
       "      <td>1.246400e+02</td>\n",
       "      <td>1.435650e+02</td>\n",
       "      <td>1.507200e+02</td>\n",
       "      <td>1.695000e+02</td>\n",
       "      <td>1.829400e+02</td>\n",
       "    </tr>\n",
       "    <tr>\n",
       "      <th>Low</th>\n",
       "      <td>255.0</td>\n",
       "      <td>1.505190e+02</td>\n",
       "      <td>1.574062e+01</td>\n",
       "      <td>1.222500e+02</td>\n",
       "      <td>1.408550e+02</td>\n",
       "      <td>1.482700e+02</td>\n",
       "      <td>1.647200e+02</td>\n",
       "      <td>1.791200e+02</td>\n",
       "    </tr>\n",
       "    <tr>\n",
       "      <th>Open</th>\n",
       "      <td>255.0</td>\n",
       "      <td>1.520081e+02</td>\n",
       "      <td>1.613074e+01</td>\n",
       "      <td>1.231600e+02</td>\n",
       "      <td>1.420050e+02</td>\n",
       "      <td>1.493600e+02</td>\n",
       "      <td>1.671750e+02</td>\n",
       "      <td>1.826300e+02</td>\n",
       "    </tr>\n",
       "    <tr>\n",
       "      <th>Close</th>\n",
       "      <td>255.0</td>\n",
       "      <td>1.521747e+02</td>\n",
       "      <td>1.615166e+01</td>\n",
       "      <td>1.227700e+02</td>\n",
       "      <td>1.420100e+02</td>\n",
       "      <td>1.494800e+02</td>\n",
       "      <td>1.659900e+02</td>\n",
       "      <td>1.820100e+02</td>\n",
       "    </tr>\n",
       "    <tr>\n",
       "      <th>Volume</th>\n",
       "      <td>255.0</td>\n",
       "      <td>8.654096e+07</td>\n",
       "      <td>2.538186e+07</td>\n",
       "      <td>4.100000e+07</td>\n",
       "      <td>6.907255e+07</td>\n",
       "      <td>8.153200e+07</td>\n",
       "      <td>9.849635e+07</td>\n",
       "      <td>1.954327e+08</td>\n",
       "    </tr>\n",
       "    <tr>\n",
       "      <th>Adj Close</th>\n",
       "      <td>255.0</td>\n",
       "      <td>1.518288e+02</td>\n",
       "      <td>1.633743e+01</td>\n",
       "      <td>1.222519e+02</td>\n",
       "      <td>1.415678e+02</td>\n",
       "      <td>1.490722e+02</td>\n",
       "      <td>1.658842e+02</td>\n",
       "      <td>1.817784e+02</td>\n",
       "    </tr>\n",
       "  </tbody>\n",
       "</table>\n",
       "</div>"
      ],
      "text/plain": [
       "           count          mean           std           min           25%  \\\n",
       "High       255.0  1.536721e+02  1.648506e+01  1.246400e+02  1.435650e+02   \n",
       "Low        255.0  1.505190e+02  1.574062e+01  1.222500e+02  1.408550e+02   \n",
       "Open       255.0  1.520081e+02  1.613074e+01  1.231600e+02  1.420050e+02   \n",
       "Close      255.0  1.521747e+02  1.615166e+01  1.227700e+02  1.420100e+02   \n",
       "Volume     255.0  8.654096e+07  2.538186e+07  4.100000e+07  6.907255e+07   \n",
       "Adj Close  255.0  1.518288e+02  1.633743e+01  1.222519e+02  1.415678e+02   \n",
       "\n",
       "                    50%           75%           max  \n",
       "High       1.507200e+02  1.695000e+02  1.829400e+02  \n",
       "Low        1.482700e+02  1.647200e+02  1.791200e+02  \n",
       "Open       1.493600e+02  1.671750e+02  1.826300e+02  \n",
       "Close      1.494800e+02  1.659900e+02  1.820100e+02  \n",
       "Volume     8.153200e+07  9.849635e+07  1.954327e+08  \n",
       "Adj Close  1.490722e+02  1.658842e+02  1.817784e+02  "
      ]
     },
     "metadata": {},
     "output_type": "display_data"
    }
   ],
   "source": [
    "ticker_overview(aapl_df, name='AAPL')"
   ]
  },
  {
   "cell_type": "code",
   "execution_count": 34,
   "id": "4da445bf",
   "metadata": {},
   "outputs": [
    {
     "name": "stdout",
     "output_type": "stream",
     "text": [
      "First 5 row of NFLX\n"
     ]
    },
    {
     "data": {
      "text/html": [
       "<div>\n",
       "<style scoped>\n",
       "    .dataframe tbody tr th:only-of-type {\n",
       "        vertical-align: middle;\n",
       "    }\n",
       "\n",
       "    .dataframe tbody tr th {\n",
       "        vertical-align: top;\n",
       "    }\n",
       "\n",
       "    .dataframe thead th {\n",
       "        text-align: right;\n",
       "    }\n",
       "</style>\n",
       "<table border=\"1\" class=\"dataframe\">\n",
       "  <thead>\n",
       "    <tr style=\"text-align: right;\">\n",
       "      <th></th>\n",
       "      <th>High</th>\n",
       "      <th>Low</th>\n",
       "      <th>Open</th>\n",
       "      <th>Close</th>\n",
       "      <th>Volume</th>\n",
       "      <th>Adj Close</th>\n",
       "    </tr>\n",
       "    <tr>\n",
       "      <th>Date</th>\n",
       "      <th></th>\n",
       "      <th></th>\n",
       "      <th></th>\n",
       "      <th></th>\n",
       "      <th></th>\n",
       "      <th></th>\n",
       "    </tr>\n",
       "  </thead>\n",
       "  <tbody>\n",
       "    <tr>\n",
       "      <th>2021-04-14</th>\n",
       "      <td>554.869995</td>\n",
       "      <td>538.530029</td>\n",
       "      <td>554.869995</td>\n",
       "      <td>540.020020</td>\n",
       "      <td>3740300</td>\n",
       "      <td>540.020020</td>\n",
       "    </tr>\n",
       "    <tr>\n",
       "      <th>2021-04-15</th>\n",
       "      <td>553.489990</td>\n",
       "      <td>542.659973</td>\n",
       "      <td>544.169983</td>\n",
       "      <td>549.219971</td>\n",
       "      <td>3139100</td>\n",
       "      <td>549.219971</td>\n",
       "    </tr>\n",
       "    <tr>\n",
       "      <th>2021-04-16</th>\n",
       "      <td>551.979980</td>\n",
       "      <td>539.510010</td>\n",
       "      <td>550.539978</td>\n",
       "      <td>546.539978</td>\n",
       "      <td>3209100</td>\n",
       "      <td>546.539978</td>\n",
       "    </tr>\n",
       "    <tr>\n",
       "      <th>2021-04-19</th>\n",
       "      <td>556.440002</td>\n",
       "      <td>545.530029</td>\n",
       "      <td>546.900024</td>\n",
       "      <td>554.440002</td>\n",
       "      <td>4288700</td>\n",
       "      <td>554.440002</td>\n",
       "    </tr>\n",
       "    <tr>\n",
       "      <th>2021-04-20</th>\n",
       "      <td>563.559998</td>\n",
       "      <td>546.299988</td>\n",
       "      <td>554.419983</td>\n",
       "      <td>549.570007</td>\n",
       "      <td>11257600</td>\n",
       "      <td>549.570007</td>\n",
       "    </tr>\n",
       "  </tbody>\n",
       "</table>\n",
       "</div>"
      ],
      "text/plain": [
       "                  High         Low        Open       Close    Volume  \\\n",
       "Date                                                                   \n",
       "2021-04-14  554.869995  538.530029  554.869995  540.020020   3740300   \n",
       "2021-04-15  553.489990  542.659973  544.169983  549.219971   3139100   \n",
       "2021-04-16  551.979980  539.510010  550.539978  546.539978   3209100   \n",
       "2021-04-19  556.440002  545.530029  546.900024  554.440002   4288700   \n",
       "2021-04-20  563.559998  546.299988  554.419983  549.570007  11257600   \n",
       "\n",
       "             Adj Close  \n",
       "Date                    \n",
       "2021-04-14  540.020020  \n",
       "2021-04-15  549.219971  \n",
       "2021-04-16  546.539978  \n",
       "2021-04-19  554.440002  \n",
       "2021-04-20  549.570007  "
      ]
     },
     "metadata": {},
     "output_type": "display_data"
    },
    {
     "name": "stdout",
     "output_type": "stream",
     "text": [
      "\n",
      "Columns of NFLX\n"
     ]
    },
    {
     "data": {
      "text/plain": [
       "Index(['High', 'Low', 'Open', 'Close', 'Volume', 'Adj Close'], dtype='object')"
      ]
     },
     "metadata": {},
     "output_type": "display_data"
    },
    {
     "name": "stdout",
     "output_type": "stream",
     "text": [
      "\n",
      "Info of NFLX\n",
      "<class 'pandas.core.frame.DataFrame'>\n",
      "DatetimeIndex: 255 entries, 2021-04-14 to 2022-04-14\n",
      "Data columns (total 6 columns):\n",
      " #   Column     Non-Null Count  Dtype  \n",
      "---  ------     --------------  -----  \n",
      " 0   High       255 non-null    float64\n",
      " 1   Low        255 non-null    float64\n",
      " 2   Open       255 non-null    float64\n",
      " 3   Close      255 non-null    float64\n",
      " 4   Volume     255 non-null    int64  \n",
      " 5   Adj Close  255 non-null    float64\n",
      "dtypes: float64(5), int64(1)\n",
      "memory usage: 13.9 KB\n",
      "\n",
      "Stats of NFLX\n"
     ]
    },
    {
     "data": {
      "text/html": [
       "<div>\n",
       "<style scoped>\n",
       "    .dataframe tbody tr th:only-of-type {\n",
       "        vertical-align: middle;\n",
       "    }\n",
       "\n",
       "    .dataframe tbody tr th {\n",
       "        vertical-align: top;\n",
       "    }\n",
       "\n",
       "    .dataframe thead th {\n",
       "        text-align: right;\n",
       "    }\n",
       "</style>\n",
       "<table border=\"1\" class=\"dataframe\">\n",
       "  <thead>\n",
       "    <tr style=\"text-align: right;\">\n",
       "      <th></th>\n",
       "      <th>count</th>\n",
       "      <th>mean</th>\n",
       "      <th>std</th>\n",
       "      <th>min</th>\n",
       "      <th>25%</th>\n",
       "      <th>50%</th>\n",
       "      <th>75%</th>\n",
       "      <th>max</th>\n",
       "    </tr>\n",
       "  </thead>\n",
       "  <tbody>\n",
       "    <tr>\n",
       "      <th>High</th>\n",
       "      <td>255.0</td>\n",
       "      <td>5.301107e+02</td>\n",
       "      <td>9.576896e+01</td>\n",
       "      <td>3.413200e+02</td>\n",
       "      <td>4.930950e+02</td>\n",
       "      <td>5.268400e+02</td>\n",
       "      <td>6.094450e+02</td>\n",
       "      <td>7.009900e+02</td>\n",
       "    </tr>\n",
       "    <tr>\n",
       "      <th>Low</th>\n",
       "      <td>255.0</td>\n",
       "      <td>5.160521e+02</td>\n",
       "      <td>9.575549e+01</td>\n",
       "      <td>3.298200e+02</td>\n",
       "      <td>4.827600e+02</td>\n",
       "      <td>5.179900e+02</td>\n",
       "      <td>5.921150e+02</td>\n",
       "      <td>6.860900e+02</td>\n",
       "    </tr>\n",
       "    <tr>\n",
       "      <th>Open</th>\n",
       "      <td>255.0</td>\n",
       "      <td>5.236696e+02</td>\n",
       "      <td>9.556153e+01</td>\n",
       "      <td>3.351000e+02</td>\n",
       "      <td>4.875150e+02</td>\n",
       "      <td>5.218200e+02</td>\n",
       "      <td>5.986400e+02</td>\n",
       "      <td>6.923500e+02</td>\n",
       "    </tr>\n",
       "    <tr>\n",
       "      <th>Close</th>\n",
       "      <td>255.0</td>\n",
       "      <td>5.229546e+02</td>\n",
       "      <td>9.570993e+01</td>\n",
       "      <td>3.310100e+02</td>\n",
       "      <td>4.869800e+02</td>\n",
       "      <td>5.205500e+02</td>\n",
       "      <td>5.988900e+02</td>\n",
       "      <td>6.916900e+02</td>\n",
       "    </tr>\n",
       "    <tr>\n",
       "      <th>Volume</th>\n",
       "      <td>255.0</td>\n",
       "      <td>4.804616e+06</td>\n",
       "      <td>4.991227e+06</td>\n",
       "      <td>1.287200e+06</td>\n",
       "      <td>2.717500e+06</td>\n",
       "      <td>3.740300e+06</td>\n",
       "      <td>5.129700e+06</td>\n",
       "      <td>5.890430e+07</td>\n",
       "    </tr>\n",
       "    <tr>\n",
       "      <th>Adj Close</th>\n",
       "      <td>255.0</td>\n",
       "      <td>5.229546e+02</td>\n",
       "      <td>9.570993e+01</td>\n",
       "      <td>3.310100e+02</td>\n",
       "      <td>4.869800e+02</td>\n",
       "      <td>5.205500e+02</td>\n",
       "      <td>5.988900e+02</td>\n",
       "      <td>6.916900e+02</td>\n",
       "    </tr>\n",
       "  </tbody>\n",
       "</table>\n",
       "</div>"
      ],
      "text/plain": [
       "           count          mean           std           min           25%  \\\n",
       "High       255.0  5.301107e+02  9.576896e+01  3.413200e+02  4.930950e+02   \n",
       "Low        255.0  5.160521e+02  9.575549e+01  3.298200e+02  4.827600e+02   \n",
       "Open       255.0  5.236696e+02  9.556153e+01  3.351000e+02  4.875150e+02   \n",
       "Close      255.0  5.229546e+02  9.570993e+01  3.310100e+02  4.869800e+02   \n",
       "Volume     255.0  4.804616e+06  4.991227e+06  1.287200e+06  2.717500e+06   \n",
       "Adj Close  255.0  5.229546e+02  9.570993e+01  3.310100e+02  4.869800e+02   \n",
       "\n",
       "                    50%           75%           max  \n",
       "High       5.268400e+02  6.094450e+02  7.009900e+02  \n",
       "Low        5.179900e+02  5.921150e+02  6.860900e+02  \n",
       "Open       5.218200e+02  5.986400e+02  6.923500e+02  \n",
       "Close      5.205500e+02  5.988900e+02  6.916900e+02  \n",
       "Volume     3.740300e+06  5.129700e+06  5.890430e+07  \n",
       "Adj Close  5.205500e+02  5.988900e+02  6.916900e+02  "
      ]
     },
     "metadata": {},
     "output_type": "display_data"
    }
   ],
   "source": [
    "ticker_overview(nflx_df, name='NFLX')"
   ]
  },
  {
   "cell_type": "code",
   "execution_count": 35,
   "id": "d9fd3b41",
   "metadata": {},
   "outputs": [
    {
     "name": "stdout",
     "output_type": "stream",
     "text": [
      "First 5 row of GOOG\n"
     ]
    },
    {
     "data": {
      "text/html": [
       "<div>\n",
       "<style scoped>\n",
       "    .dataframe tbody tr th:only-of-type {\n",
       "        vertical-align: middle;\n",
       "    }\n",
       "\n",
       "    .dataframe tbody tr th {\n",
       "        vertical-align: top;\n",
       "    }\n",
       "\n",
       "    .dataframe thead th {\n",
       "        text-align: right;\n",
       "    }\n",
       "</style>\n",
       "<table border=\"1\" class=\"dataframe\">\n",
       "  <thead>\n",
       "    <tr style=\"text-align: right;\">\n",
       "      <th></th>\n",
       "      <th>High</th>\n",
       "      <th>Low</th>\n",
       "      <th>Open</th>\n",
       "      <th>Close</th>\n",
       "      <th>Volume</th>\n",
       "      <th>Adj Close</th>\n",
       "    </tr>\n",
       "    <tr>\n",
       "      <th>Date</th>\n",
       "      <th></th>\n",
       "      <th></th>\n",
       "      <th></th>\n",
       "      <th></th>\n",
       "      <th></th>\n",
       "      <th></th>\n",
       "    </tr>\n",
       "  </thead>\n",
       "  <tbody>\n",
       "    <tr>\n",
       "      <th>2021-04-14</th>\n",
       "      <td>2277.989990</td>\n",
       "      <td>2249.189941</td>\n",
       "      <td>2275.159912</td>\n",
       "      <td>2254.840088</td>\n",
       "      <td>1011000</td>\n",
       "      <td>2254.840088</td>\n",
       "    </tr>\n",
       "    <tr>\n",
       "      <th>2021-04-15</th>\n",
       "      <td>2306.596924</td>\n",
       "      <td>2266.000000</td>\n",
       "      <td>2276.979980</td>\n",
       "      <td>2296.659912</td>\n",
       "      <td>1373600</td>\n",
       "      <td>2296.659912</td>\n",
       "    </tr>\n",
       "    <tr>\n",
       "      <th>2021-04-16</th>\n",
       "      <td>2306.439941</td>\n",
       "      <td>2284.449951</td>\n",
       "      <td>2303.000000</td>\n",
       "      <td>2297.760010</td>\n",
       "      <td>1129800</td>\n",
       "      <td>2297.760010</td>\n",
       "    </tr>\n",
       "    <tr>\n",
       "      <th>2021-04-19</th>\n",
       "      <td>2318.449951</td>\n",
       "      <td>2287.844971</td>\n",
       "      <td>2291.979980</td>\n",
       "      <td>2302.399902</td>\n",
       "      <td>1234400</td>\n",
       "      <td>2302.399902</td>\n",
       "    </tr>\n",
       "    <tr>\n",
       "      <th>2021-04-20</th>\n",
       "      <td>2309.600098</td>\n",
       "      <td>2271.709961</td>\n",
       "      <td>2307.889893</td>\n",
       "      <td>2293.629883</td>\n",
       "      <td>1088700</td>\n",
       "      <td>2293.629883</td>\n",
       "    </tr>\n",
       "  </tbody>\n",
       "</table>\n",
       "</div>"
      ],
      "text/plain": [
       "                   High          Low         Open        Close   Volume  \\\n",
       "Date                                                                      \n",
       "2021-04-14  2277.989990  2249.189941  2275.159912  2254.840088  1011000   \n",
       "2021-04-15  2306.596924  2266.000000  2276.979980  2296.659912  1373600   \n",
       "2021-04-16  2306.439941  2284.449951  2303.000000  2297.760010  1129800   \n",
       "2021-04-19  2318.449951  2287.844971  2291.979980  2302.399902  1234400   \n",
       "2021-04-20  2309.600098  2271.709961  2307.889893  2293.629883  1088700   \n",
       "\n",
       "              Adj Close  \n",
       "Date                     \n",
       "2021-04-14  2254.840088  \n",
       "2021-04-15  2296.659912  \n",
       "2021-04-16  2297.760010  \n",
       "2021-04-19  2302.399902  \n",
       "2021-04-20  2293.629883  "
      ]
     },
     "metadata": {},
     "output_type": "display_data"
    },
    {
     "name": "stdout",
     "output_type": "stream",
     "text": [
      "\n",
      "Columns of GOOG\n"
     ]
    },
    {
     "data": {
      "text/plain": [
       "Index(['High', 'Low', 'Open', 'Close', 'Volume', 'Adj Close'], dtype='object')"
      ]
     },
     "metadata": {},
     "output_type": "display_data"
    },
    {
     "name": "stdout",
     "output_type": "stream",
     "text": [
      "\n",
      "Info of GOOG\n",
      "<class 'pandas.core.frame.DataFrame'>\n",
      "DatetimeIndex: 255 entries, 2021-04-14 to 2022-04-14\n",
      "Data columns (total 6 columns):\n",
      " #   Column     Non-Null Count  Dtype  \n",
      "---  ------     --------------  -----  \n",
      " 0   High       255 non-null    float64\n",
      " 1   Low        255 non-null    float64\n",
      " 2   Open       255 non-null    float64\n",
      " 3   Close      255 non-null    float64\n",
      " 4   Volume     255 non-null    int64  \n",
      " 5   Adj Close  255 non-null    float64\n",
      "dtypes: float64(5), int64(1)\n",
      "memory usage: 13.9 KB\n",
      "\n",
      "Stats of GOOG\n"
     ]
    },
    {
     "data": {
      "text/html": [
       "<div>\n",
       "<style scoped>\n",
       "    .dataframe tbody tr th:only-of-type {\n",
       "        vertical-align: middle;\n",
       "    }\n",
       "\n",
       "    .dataframe tbody tr th {\n",
       "        vertical-align: top;\n",
       "    }\n",
       "\n",
       "    .dataframe thead th {\n",
       "        text-align: right;\n",
       "    }\n",
       "</style>\n",
       "<table border=\"1\" class=\"dataframe\">\n",
       "  <thead>\n",
       "    <tr style=\"text-align: right;\">\n",
       "      <th></th>\n",
       "      <th>count</th>\n",
       "      <th>mean</th>\n",
       "      <th>std</th>\n",
       "      <th>min</th>\n",
       "      <th>25%</th>\n",
       "      <th>50%</th>\n",
       "      <th>75%</th>\n",
       "      <th>max</th>\n",
       "    </tr>\n",
       "  </thead>\n",
       "  <tbody>\n",
       "    <tr>\n",
       "      <th>High</th>\n",
       "      <td>255.0</td>\n",
       "      <td>2.729072e+03</td>\n",
       "      <td>197.834507</td>\n",
       "      <td>2276.601074</td>\n",
       "      <td>2613.660034</td>\n",
       "      <td>2.766430e+03</td>\n",
       "      <td>2.885475e+03</td>\n",
       "      <td>3.042000e+03</td>\n",
       "    </tr>\n",
       "    <tr>\n",
       "      <th>Low</th>\n",
       "      <td>255.0</td>\n",
       "      <td>2.677433e+03</td>\n",
       "      <td>193.430866</td>\n",
       "      <td>2230.050049</td>\n",
       "      <td>2540.714966</td>\n",
       "      <td>2.712340e+03</td>\n",
       "      <td>2.833720e+03</td>\n",
       "      <td>2.997750e+03</td>\n",
       "    </tr>\n",
       "    <tr>\n",
       "      <th>Open</th>\n",
       "      <td>255.0</td>\n",
       "      <td>2.704785e+03</td>\n",
       "      <td>197.017954</td>\n",
       "      <td>2261.090088</td>\n",
       "      <td>2575.709961</td>\n",
       "      <td>2.741660e+03</td>\n",
       "      <td>2.863615e+03</td>\n",
       "      <td>3.037270e+03</td>\n",
       "    </tr>\n",
       "    <tr>\n",
       "      <th>Close</th>\n",
       "      <td>255.0</td>\n",
       "      <td>2.703078e+03</td>\n",
       "      <td>195.284487</td>\n",
       "      <td>2239.080078</td>\n",
       "      <td>2578.399902</td>\n",
       "      <td>2.738800e+03</td>\n",
       "      <td>2.855835e+03</td>\n",
       "      <td>3.014180e+03</td>\n",
       "    </tr>\n",
       "    <tr>\n",
       "      <th>Volume</th>\n",
       "      <td>255.0</td>\n",
       "      <td>1.252887e+06</td>\n",
       "      <td>502038.958817</td>\n",
       "      <td>593300.000000</td>\n",
       "      <td>942050.000000</td>\n",
       "      <td>1.141600e+06</td>\n",
       "      <td>1.416150e+06</td>\n",
       "      <td>4.487500e+06</td>\n",
       "    </tr>\n",
       "    <tr>\n",
       "      <th>Adj Close</th>\n",
       "      <td>255.0</td>\n",
       "      <td>2.703078e+03</td>\n",
       "      <td>195.284487</td>\n",
       "      <td>2239.080078</td>\n",
       "      <td>2578.399902</td>\n",
       "      <td>2.738800e+03</td>\n",
       "      <td>2.855835e+03</td>\n",
       "      <td>3.014180e+03</td>\n",
       "    </tr>\n",
       "  </tbody>\n",
       "</table>\n",
       "</div>"
      ],
      "text/plain": [
       "           count          mean            std            min            25%  \\\n",
       "High       255.0  2.729072e+03     197.834507    2276.601074    2613.660034   \n",
       "Low        255.0  2.677433e+03     193.430866    2230.050049    2540.714966   \n",
       "Open       255.0  2.704785e+03     197.017954    2261.090088    2575.709961   \n",
       "Close      255.0  2.703078e+03     195.284487    2239.080078    2578.399902   \n",
       "Volume     255.0  1.252887e+06  502038.958817  593300.000000  942050.000000   \n",
       "Adj Close  255.0  2.703078e+03     195.284487    2239.080078    2578.399902   \n",
       "\n",
       "                    50%           75%           max  \n",
       "High       2.766430e+03  2.885475e+03  3.042000e+03  \n",
       "Low        2.712340e+03  2.833720e+03  2.997750e+03  \n",
       "Open       2.741660e+03  2.863615e+03  3.037270e+03  \n",
       "Close      2.738800e+03  2.855835e+03  3.014180e+03  \n",
       "Volume     1.141600e+06  1.416150e+06  4.487500e+06  \n",
       "Adj Close  2.738800e+03  2.855835e+03  3.014180e+03  "
      ]
     },
     "metadata": {},
     "output_type": "display_data"
    }
   ],
   "source": [
    "ticker_overview(goog_df, name='GOOG')"
   ]
  },
  {
   "cell_type": "code",
   "execution_count": 63,
   "id": "abac2e4b",
   "metadata": {},
   "outputs": [
    {
     "name": "stdout",
     "output_type": "stream",
     "text": [
      "First 5 row of ^IXIC\n"
     ]
    },
    {
     "data": {
      "text/html": [
       "<div>\n",
       "<style scoped>\n",
       "    .dataframe tbody tr th:only-of-type {\n",
       "        vertical-align: middle;\n",
       "    }\n",
       "\n",
       "    .dataframe tbody tr th {\n",
       "        vertical-align: top;\n",
       "    }\n",
       "\n",
       "    .dataframe thead th {\n",
       "        text-align: right;\n",
       "    }\n",
       "</style>\n",
       "<table border=\"1\" class=\"dataframe\">\n",
       "  <thead>\n",
       "    <tr style=\"text-align: right;\">\n",
       "      <th></th>\n",
       "      <th>High</th>\n",
       "      <th>Low</th>\n",
       "      <th>Open</th>\n",
       "      <th>Close</th>\n",
       "      <th>Volume</th>\n",
       "      <th>Adj Close</th>\n",
       "      <th>Daily Ret</th>\n",
       "      <th>Cum Ret</th>\n",
       "    </tr>\n",
       "    <tr>\n",
       "      <th>Date</th>\n",
       "      <th></th>\n",
       "      <th></th>\n",
       "      <th></th>\n",
       "      <th></th>\n",
       "      <th></th>\n",
       "      <th></th>\n",
       "      <th></th>\n",
       "      <th></th>\n",
       "    </tr>\n",
       "  </thead>\n",
       "  <tbody>\n",
       "    <tr>\n",
       "      <th>2021-04-14</th>\n",
       "      <td>14033.629883</td>\n",
       "      <td>13839.040039</td>\n",
       "      <td>14004.080078</td>\n",
       "      <td>13857.839844</td>\n",
       "      <td>4102380000</td>\n",
       "      <td>13857.839844</td>\n",
       "      <td>NaN</td>\n",
       "      <td>NaN</td>\n",
       "    </tr>\n",
       "    <tr>\n",
       "      <th>2021-04-15</th>\n",
       "      <td>14049.129883</td>\n",
       "      <td>13970.419922</td>\n",
       "      <td>13983.230469</td>\n",
       "      <td>14038.759766</td>\n",
       "      <td>4382620000</td>\n",
       "      <td>14038.759766</td>\n",
       "      <td>0.013055</td>\n",
       "      <td>0.013055</td>\n",
       "    </tr>\n",
       "    <tr>\n",
       "      <th>2021-04-16</th>\n",
       "      <td>14062.500000</td>\n",
       "      <td>13977.049805</td>\n",
       "      <td>14059.110352</td>\n",
       "      <td>14052.339844</td>\n",
       "      <td>4414640000</td>\n",
       "      <td>14052.339844</td>\n",
       "      <td>0.000967</td>\n",
       "      <td>0.014035</td>\n",
       "    </tr>\n",
       "    <tr>\n",
       "      <th>2021-04-19</th>\n",
       "      <td>14041.790039</td>\n",
       "      <td>13842.570312</td>\n",
       "      <td>13984.580078</td>\n",
       "      <td>13914.769531</td>\n",
       "      <td>4349340000</td>\n",
       "      <td>13914.769531</td>\n",
       "      <td>-0.009790</td>\n",
       "      <td>0.004108</td>\n",
       "    </tr>\n",
       "    <tr>\n",
       "      <th>2021-04-20</th>\n",
       "      <td>13927.669922</td>\n",
       "      <td>13698.669922</td>\n",
       "      <td>13894.459961</td>\n",
       "      <td>13786.269531</td>\n",
       "      <td>4229410000</td>\n",
       "      <td>13786.269531</td>\n",
       "      <td>-0.009235</td>\n",
       "      <td>-0.005165</td>\n",
       "    </tr>\n",
       "  </tbody>\n",
       "</table>\n",
       "</div>"
      ],
      "text/plain": [
       "                    High           Low          Open         Close  \\\n",
       "Date                                                                 \n",
       "2021-04-14  14033.629883  13839.040039  14004.080078  13857.839844   \n",
       "2021-04-15  14049.129883  13970.419922  13983.230469  14038.759766   \n",
       "2021-04-16  14062.500000  13977.049805  14059.110352  14052.339844   \n",
       "2021-04-19  14041.790039  13842.570312  13984.580078  13914.769531   \n",
       "2021-04-20  13927.669922  13698.669922  13894.459961  13786.269531   \n",
       "\n",
       "                Volume     Adj Close  Daily Ret   Cum Ret  \n",
       "Date                                                       \n",
       "2021-04-14  4102380000  13857.839844        NaN       NaN  \n",
       "2021-04-15  4382620000  14038.759766   0.013055  0.013055  \n",
       "2021-04-16  4414640000  14052.339844   0.000967  0.014035  \n",
       "2021-04-19  4349340000  13914.769531  -0.009790  0.004108  \n",
       "2021-04-20  4229410000  13786.269531  -0.009235 -0.005165  "
      ]
     },
     "metadata": {},
     "output_type": "display_data"
    },
    {
     "name": "stdout",
     "output_type": "stream",
     "text": [
      "\n",
      "Columns of ^IXIC\n"
     ]
    },
    {
     "data": {
      "text/plain": [
       "Index(['High', 'Low', 'Open', 'Close', 'Volume', 'Adj Close', 'Daily Ret',\n",
       "       'Cum Ret'],\n",
       "      dtype='object')"
      ]
     },
     "metadata": {},
     "output_type": "display_data"
    },
    {
     "name": "stdout",
     "output_type": "stream",
     "text": [
      "\n",
      "Info of ^IXIC\n",
      "<class 'pandas.core.frame.DataFrame'>\n",
      "DatetimeIndex: 255 entries, 2021-04-14 to 2022-04-14\n",
      "Data columns (total 8 columns):\n",
      " #   Column     Non-Null Count  Dtype  \n",
      "---  ------     --------------  -----  \n",
      " 0   High       255 non-null    float64\n",
      " 1   Low        255 non-null    float64\n",
      " 2   Open       255 non-null    float64\n",
      " 3   Close      255 non-null    float64\n",
      " 4   Volume     255 non-null    int64  \n",
      " 5   Adj Close  255 non-null    float64\n",
      " 6   Daily Ret  254 non-null    float64\n",
      " 7   Cum Ret    254 non-null    float64\n",
      "dtypes: float64(7), int64(1)\n",
      "memory usage: 17.9 KB\n",
      "\n",
      "Stats of ^IXIC\n"
     ]
    },
    {
     "data": {
      "text/html": [
       "<div>\n",
       "<style scoped>\n",
       "    .dataframe tbody tr th:only-of-type {\n",
       "        vertical-align: middle;\n",
       "    }\n",
       "\n",
       "    .dataframe tbody tr th {\n",
       "        vertical-align: top;\n",
       "    }\n",
       "\n",
       "    .dataframe thead th {\n",
       "        text-align: right;\n",
       "    }\n",
       "</style>\n",
       "<table border=\"1\" class=\"dataframe\">\n",
       "  <thead>\n",
       "    <tr style=\"text-align: right;\">\n",
       "      <th></th>\n",
       "      <th>count</th>\n",
       "      <th>mean</th>\n",
       "      <th>std</th>\n",
       "      <th>min</th>\n",
       "      <th>25%</th>\n",
       "      <th>50%</th>\n",
       "      <th>75%</th>\n",
       "      <th>max</th>\n",
       "    </tr>\n",
       "  </thead>\n",
       "  <tbody>\n",
       "    <tr>\n",
       "      <th>High</th>\n",
       "      <td>255.0</td>\n",
       "      <td>1.462720e+04</td>\n",
       "      <td>7.638334e+02</td>\n",
       "      <td>1.291801e+04</td>\n",
       "      <td>1.403202e+04</td>\n",
       "      <td>1.464203e+04</td>\n",
       "      <td>1.520198e+04</td>\n",
       "      <td>1.621223e+04</td>\n",
       "    </tr>\n",
       "    <tr>\n",
       "      <th>Low</th>\n",
       "      <td>255.0</td>\n",
       "      <td>1.440831e+04</td>\n",
       "      <td>8.007854e+02</td>\n",
       "      <td>1.255535e+04</td>\n",
       "      <td>1.378690e+04</td>\n",
       "      <td>1.447138e+04</td>\n",
       "      <td>1.500994e+04</td>\n",
       "      <td>1.601723e+04</td>\n",
       "    </tr>\n",
       "    <tr>\n",
       "      <th>Open</th>\n",
       "      <td>255.0</td>\n",
       "      <td>1.452809e+04</td>\n",
       "      <td>7.872110e+02</td>\n",
       "      <td>1.258788e+04</td>\n",
       "      <td>1.394945e+04</td>\n",
       "      <td>1.455859e+04</td>\n",
       "      <td>1.513026e+04</td>\n",
       "      <td>1.612092e+04</td>\n",
       "    </tr>\n",
       "    <tr>\n",
       "      <th>Close</th>\n",
       "      <td>255.0</td>\n",
       "      <td>1.452307e+04</td>\n",
       "      <td>7.842087e+02</td>\n",
       "      <td>1.258122e+04</td>\n",
       "      <td>1.389448e+04</td>\n",
       "      <td>1.453255e+04</td>\n",
       "      <td>1.511858e+04</td>\n",
       "      <td>1.605744e+04</td>\n",
       "    </tr>\n",
       "    <tr>\n",
       "      <th>Volume</th>\n",
       "      <td>255.0</td>\n",
       "      <td>4.716551e+09</td>\n",
       "      <td>7.704609e+08</td>\n",
       "      <td>3.379850e+09</td>\n",
       "      <td>4.171520e+09</td>\n",
       "      <td>4.553380e+09</td>\n",
       "      <td>5.110365e+09</td>\n",
       "      <td>8.109950e+09</td>\n",
       "    </tr>\n",
       "    <tr>\n",
       "      <th>Adj Close</th>\n",
       "      <td>255.0</td>\n",
       "      <td>1.452307e+04</td>\n",
       "      <td>7.842087e+02</td>\n",
       "      <td>1.258122e+04</td>\n",
       "      <td>1.389448e+04</td>\n",
       "      <td>1.453255e+04</td>\n",
       "      <td>1.511858e+04</td>\n",
       "      <td>1.605744e+04</td>\n",
       "    </tr>\n",
       "    <tr>\n",
       "      <th>Daily Ret</th>\n",
       "      <td>254.0</td>\n",
       "      <td>-5.931741e-05</td>\n",
       "      <td>1.323469e-02</td>\n",
       "      <td>-3.736623e-02</td>\n",
       "      <td>-7.170530e-03</td>\n",
       "      <td>5.814601e-04</td>\n",
       "      <td>8.019469e-03</td>\n",
       "      <td>3.768198e-02</td>\n",
       "    </tr>\n",
       "    <tr>\n",
       "      <th>Cum Ret</th>\n",
       "      <td>254.0</td>\n",
       "      <td>4.819307e-02</td>\n",
       "      <td>5.662057e-02</td>\n",
       "      <td>-9.212259e-02</td>\n",
       "      <td>2.729516e-03</td>\n",
       "      <td>4.902135e-02</td>\n",
       "      <td>9.108869e-02</td>\n",
       "      <td>1.587261e-01</td>\n",
       "    </tr>\n",
       "  </tbody>\n",
       "</table>\n",
       "</div>"
      ],
      "text/plain": [
       "           count          mean           std           min           25%  \\\n",
       "High       255.0  1.462720e+04  7.638334e+02  1.291801e+04  1.403202e+04   \n",
       "Low        255.0  1.440831e+04  8.007854e+02  1.255535e+04  1.378690e+04   \n",
       "Open       255.0  1.452809e+04  7.872110e+02  1.258788e+04  1.394945e+04   \n",
       "Close      255.0  1.452307e+04  7.842087e+02  1.258122e+04  1.389448e+04   \n",
       "Volume     255.0  4.716551e+09  7.704609e+08  3.379850e+09  4.171520e+09   \n",
       "Adj Close  255.0  1.452307e+04  7.842087e+02  1.258122e+04  1.389448e+04   \n",
       "Daily Ret  254.0 -5.931741e-05  1.323469e-02 -3.736623e-02 -7.170530e-03   \n",
       "Cum Ret    254.0  4.819307e-02  5.662057e-02 -9.212259e-02  2.729516e-03   \n",
       "\n",
       "                    50%           75%           max  \n",
       "High       1.464203e+04  1.520198e+04  1.621223e+04  \n",
       "Low        1.447138e+04  1.500994e+04  1.601723e+04  \n",
       "Open       1.455859e+04  1.513026e+04  1.612092e+04  \n",
       "Close      1.453255e+04  1.511858e+04  1.605744e+04  \n",
       "Volume     4.553380e+09  5.110365e+09  8.109950e+09  \n",
       "Adj Close  1.453255e+04  1.511858e+04  1.605744e+04  \n",
       "Daily Ret  5.814601e-04  8.019469e-03  3.768198e-02  \n",
       "Cum Ret    4.902135e-02  9.108869e-02  1.587261e-01  "
      ]
     },
     "metadata": {},
     "output_type": "display_data"
    }
   ],
   "source": [
    "ticker_overview(ixic_df, name='^IXIC')"
   ]
  },
  {
   "cell_type": "markdown",
   "id": "2edba66e",
   "metadata": {
    "id": "tdOKDCLNVGx_"
   },
   "source": [
    "All the FAANG and Nasdaq Index dataset don't have missing value. The total trading days for the past year from 15 April 2022 is 255 days."
   ]
  },
  {
   "cell_type": "markdown",
   "id": "a3374f4a",
   "metadata": {},
   "source": [
    "## 7.2 Cumulative Return of FAANG "
   ]
  },
  {
   "cell_type": "code",
   "execution_count": 37,
   "id": "eb5119bb",
   "metadata": {},
   "outputs": [],
   "source": [
    "def cal_cum_mul_ret(df: pd.DataFrame):\n",
    "    df['Daily Ret'] = df['Adj Close'].pct_change()\n",
    "    pct_plus_one =  df['Daily Ret'].add(1)\n",
    "    df['Cum Ret'] = pct_plus_one.cumprod().sub(1)\n",
    "\n",
    "    return df"
   ]
  },
  {
   "cell_type": "code",
   "execution_count": 55,
   "id": "a24e309d",
   "metadata": {},
   "outputs": [],
   "source": [
    "fb_df = cal_cum_mul_ret(fb_df)\n",
    "amzn_df = cal_cum_mul_ret(amzn_df)\n",
    "aapl_df = cal_cum_mul_ret(aapl_df)\n",
    "nflx_df = cal_cum_mul_ret(nflx_df)\n",
    "goog_df = cal_cum_mul_ret(goog_df)"
   ]
  },
  {
   "cell_type": "code",
   "execution_count": 53,
   "id": "3a33c2da",
   "metadata": {},
   "outputs": [],
   "source": [
    "ixic_df = cal_cum_mul_ret(ixic_df)"
   ]
  },
  {
   "cell_type": "code",
   "execution_count": null,
   "id": "cff178e8",
   "metadata": {},
   "outputs": [],
   "source": []
  },
  {
   "cell_type": "code",
   "execution_count": 81,
   "id": "81a8a861",
   "metadata": {},
   "outputs": [
    {
     "data": {
      "image/png": "[encoded data removed]",
      "text/plain": [
       "<Figure size 900x600 with 1 Axes>"
      ]
     },
     "metadata": {},
     "output_type": "display_data"
    }
   ],
   "source": [
    "ax = fb_df['Cum Ret'].plot(label='FB')\n",
    "amzn_df['Cum Ret'].plot(label='AMZN', ax=ax)\n",
    "aapl_df['Cum Ret'].plot(label='AAPL', ax=ax)\n",
    "nflx_df['Cum Ret'].plot(label='NFLX', ax=ax)\n",
    "goog_df['Cum Ret'].plot(label='GOOG', ax=ax)\n",
    "ixic_df['Cum Ret'].plot(label='IXIC', ax=ax)\n",
    "\n",
    "ax.xaxis.set_major_locator(dates.YearLocator())\n",
    "ax.xaxis.set_major_formatter(dates.DateFormatter(\"%Y %b\"))\n",
    "\n",
    "ax.xaxis.set_minor_locator(dates.MonthLocator())\n",
    "ax.xaxis.set_minor_formatter(dates.DateFormatter(\"%b\"))\n",
    "\n",
    "ax.tick_params(axis=\"x\", which=\"major\",rotation=90, pad=5)\n",
    "ax.tick_params(axis=\"x\", which=\"minor\",rotation=90)\n",
    "\n",
    "ax.yaxis.grid(True)\n",
    "ax.xaxis.grid(True)\n",
    "\n",
    "plt.legend(loc=(1.05, .55))\n",
    "plt.show()"
   ]
  },
  {
   "cell_type": "code",
   "execution_count": null,
   "id": "12d85dba",
   "metadata": {},
   "outputs": [],
   "source": []
  },
  {
   "cell_type": "markdown",
   "metadata": {
    "id": "tTLpTscAVGyA"
   },
   "source": [
    "## 7.1 Past 1 Year Adj Close Price of Individual FAANG Stocks"
   ]
  },
  {
   "cell_type": "code",
   "execution_count": null,
   "metadata": {
    "id": "4LtXg_irVGyA",
    "outputId": "0c220ec6-0227-4a15-c000-e29e744e7b08"
   },
   "outputs": [
    {
     "data": {
      "image/png": "[encoded data removed]",
      "text/plain": [
       "<Figure size 720x216 with 1 Axes>"
      ]
     },
     "metadata": {},
     "output_type": "display_data"
    }
   ],
   "source": [
    "ax = sns.lineplot(data=fb_df, x='Date', y='Adj Close', sort=True)\n",
    "\n",
    "ax.xaxis.set_major_locator(dates.YearLocator())\n",
    "ax.xaxis.set_major_formatter(dates.DateFormatter(\"%Y %b\"))\n",
    "\n",
    "ax.xaxis.set_minor_locator(dates.MonthLocator())\n",
    "ax.xaxis.set_minor_formatter(dates.DateFormatter(\"%b\"))\n",
    "\n",
    "ax.tick_params(axis=\"x\", which=\"major\",rotation=90, pad=5)\n",
    "ax.tick_params(axis=\"x\", which=\"minor\",rotation=90)\n",
    "\n",
    "ax.yaxis.grid(True)\n",
    "ax.xaxis.grid(True)\n",
    "\n",
    "ax.set_xlabel('Date')\n",
    "ax.set_title('Facebook Stock for Past 1 Year')\n",
    "\n",
    "plt.show()"
   ]
  },
  {
   "cell_type": "code",
   "execution_count": null,
   "metadata": {
    "id": "0NX-2HDwVGyB",
    "outputId": "1ef07844-3e46-4426-a0f0-9e0f9fbc87a9"
   },
   "outputs": [
    {
     "data": {
      "image/png": "[encoded data removed]",
      "text/plain": [
       "<Figure size 720x216 with 1 Axes>"
      ]
     },
     "metadata": {},
     "output_type": "display_data"
    }
   ],
   "source": [
    "ax = sns.lineplot(data=amzn_df, x='Date', y='Adj Close', sort=True)\n",
    "\n",
    "ax.xaxis.set_major_locator(dates.YearLocator())\n",
    "ax.xaxis.set_major_formatter(dates.DateFormatter(\"%Y %b\"))\n",
    "\n",
    "ax.xaxis.set_minor_locator(dates.MonthLocator())\n",
    "ax.xaxis.set_minor_formatter(dates.DateFormatter(\"%b\"))\n",
    "\n",
    "ax.tick_params(axis=\"x\", which=\"major\",rotation=90, pad=5)\n",
    "ax.tick_params(axis=\"x\", which=\"minor\",rotation=90)\n",
    "\n",
    "ax.yaxis.grid(True)\n",
    "ax.xaxis.grid(True)\n",
    "\n",
    "ax.set_xlabel('Date')\n",
    "ax.set_title('Amazon Stock for Past 1 Year')\n",
    "\n",
    "plt.show()"
   ]
  },
  {
   "cell_type": "code",
   "execution_count": null,
   "metadata": {
    "id": "oTs5t83aVGyB",
    "outputId": "4390e79d-d64b-4cf3-afca-44d0cefc1efc"
   },
   "outputs": [
    {
     "data": {
      "image/png": "[encoded data removed]",
      "text/plain": [
       "<Figure size 720x216 with 1 Axes>"
      ]
     },
     "metadata": {},
     "output_type": "display_data"
    }
   ],
   "source": [
    "ax = sns.lineplot(data=aapl_df, x='Date', y='Adj Close', sort=True)\n",
    "\n",
    "ax.xaxis.set_major_locator(dates.YearLocator())\n",
    "ax.xaxis.set_major_formatter(dates.DateFormatter(\"%Y %b\"))\n",
    "\n",
    "ax.xaxis.set_minor_locator(dates.MonthLocator())\n",
    "ax.xaxis.set_minor_formatter(dates.DateFormatter(\"%b\"))\n",
    "\n",
    "ax.tick_params(axis=\"x\", which=\"major\",rotation=90, pad=5)\n",
    "ax.tick_params(axis=\"x\", which=\"minor\",rotation=90)\n",
    "\n",
    "ax.yaxis.grid(True)\n",
    "ax.xaxis.grid(True)\n",
    "\n",
    "ax.set_xlabel('Date')\n",
    "ax.set_title('Apple Stock for Past 1 Year')\n",
    "\n",
    "plt.show()"
   ]
  },
  {
   "cell_type": "code",
   "execution_count": null,
   "metadata": {
    "id": "MYunBjH_VGyC",
    "outputId": "67b0b286-79c3-4949-b31d-b0f02b04b64c"
   },
   "outputs": [
    {
     "data": {
      "image/png": "[encoded data removed]",
      "text/plain": [
       "<Figure size 720x216 with 1 Axes>"
      ]
     },
     "metadata": {},
     "output_type": "display_data"
    }
   ],
   "source": [
    "ax = sns.lineplot(data=nflx_df, x='Date', y='Adj Close', sort=True)\n",
    "\n",
    "ax.xaxis.set_major_locator(dates.YearLocator())\n",
    "ax.xaxis.set_major_formatter(dates.DateFormatter(\"%Y %b\"))\n",
    "\n",
    "ax.xaxis.set_minor_locator(dates.MonthLocator())\n",
    "ax.xaxis.set_minor_formatter(dates.DateFormatter(\"%b\"))\n",
    "\n",
    "ax.tick_params(axis=\"x\", which=\"major\",rotation=90, pad=5)\n",
    "ax.tick_params(axis=\"x\", which=\"minor\",rotation=90)\n",
    "\n",
    "ax.yaxis.grid(True)\n",
    "ax.xaxis.grid(True)\n",
    "\n",
    "ax.set_xlabel('Date')\n",
    "ax.set_title('Netflix Stock for Past 1 Year')\n",
    "\n",
    "plt.show()"
   ]
  },
  {
   "cell_type": "code",
   "execution_count": null,
   "metadata": {
    "id": "1jotFjIRVGyC",
    "outputId": "fe8fa9be-1d7d-4fd4-f170-eccb3c41e73f"
   },
   "outputs": [
    {
     "data": {
      "image/png": "[encoded data removed]",
      "text/plain": [
       "<Figure size 720x216 with 1 Axes>"
      ]
     },
     "metadata": {},
     "output_type": "display_data"
    }
   ],
   "source": [
    "ax = sns.lineplot(data=goog_df, x='Date', y='Adj Close', sort=True)\n",
    "\n",
    "ax.xaxis.set_major_locator(dates.YearLocator())\n",
    "ax.xaxis.set_major_formatter(dates.DateFormatter(\"%Y %b\"))\n",
    "\n",
    "ax.xaxis.set_minor_locator(dates.MonthLocator())\n",
    "ax.xaxis.set_minor_formatter(dates.DateFormatter(\"%b\"))\n",
    "\n",
    "ax.tick_params(axis=\"x\", which=\"major\",rotation=90, pad=5)\n",
    "ax.tick_params(axis=\"x\", which=\"minor\",rotation=90)\n",
    "\n",
    "ax.yaxis.grid(True)\n",
    "ax.xaxis.grid(True)\n",
    "\n",
    "ax.set_xlabel('Date')\n",
    "ax.set_title('Alphabet Stock for Past 1 Year')\n",
    "\n",
    "plt.show()"
   ]
  },
  {
   "cell_type": "markdown",
   "metadata": {
    "id": "_RuDMXiuVGyD"
   },
   "source": [
    "## 7.2 Daily Return of FAANG Stocks"
   ]
  },
  {
   "cell_type": "code",
   "execution_count": null,
   "metadata": {
    "id": "NvbcqDboVGyD",
    "outputId": "6d394eae-783c-4d45-be83-f605c8dea078"
   },
   "outputs": [
    {
     "data": {
      "text/plain": [
       "<matplotlib.legend.Legend at 0x7ff56807a310>"
      ]
     },
     "execution_count": 24,
     "metadata": {},
     "output_type": "execute_result"
    },
    {
     "data": {
      "image/png": "[encoded data removed]",
      "text/plain": [
       "<Figure size 720x216 with 1 Axes>"
      ]
     },
     "metadata": {},
     "output_type": "display_data"
    }
   ],
   "source": [
    "fb_df['Adj Close'].pct_change(1).hist(label='FB',alpha=0.2,bins=20)\n",
    "amzn_df['Adj Close'].pct_change(1).hist(label='AMZN',alpha=0.2,bins=20)\n",
    "aapl_df['Adj Close'].pct_change(1).hist(label='AAPL',alpha=0.2,bins=20)\n",
    "nflx_df['Adj Close'].pct_change(1).hist(label='NFLX',alpha=0.2,bins=20)\n",
    "goog_df['Adj Close'].pct_change(1).hist(label='GOOG',alpha=0.2,bins=20)\n",
    "\n",
    "plt.xlabel(\"Daily Returns\")\n",
    "plt.legend()"
   ]
  },
  {
   "cell_type": "markdown",
   "metadata": {
    "id": "afLHHk1xVGyD"
   },
   "source": [
    "<br />"
   ]
  },
  {
   "cell_type": "markdown",
   "metadata": {
    "id": "uW_KSVbOVGyD"
   },
   "source": [
    "# 8.0 Preprocess"
   ]
  },
  {
   "cell_type": "code",
   "execution_count": null,
   "metadata": {
    "id": "umIqPi9ZVGyD"
   },
   "outputs": [],
   "source": [
    "class WindowGenerator():\n",
    "    def __init__(self, input_width, label_width, shift,\n",
    "               train_df, val_df, test_df, label_columns=None):\n",
    "        # Store the raw data.\n",
    "        self.train_df = train_df\n",
    "        self.val_df = val_df\n",
    "        self.test_df = test_df\n",
    "\n",
    "        # Work out the label column indices.\n",
    "        self.label_columns = label_columns\n",
    "        if label_columns is not None:\n",
    "          self.label_columns_indices = {name: i for i, name in\n",
    "                                        enumerate(label_columns)}\n",
    "        self.column_indices = {name: i for i, name in\n",
    "                               enumerate(train_df.columns)}\n",
    "\n",
    "        # Work out the window parameters.\n",
    "        self.input_width = input_width\n",
    "        self.label_width = label_width\n",
    "        self.shift = shift\n",
    "\n",
    "        self.total_window_size = input_width + shift\n",
    "\n",
    "        self.input_slice = slice(0, input_width)\n",
    "        self.input_indices = np.arange(self.total_window_size)[self.input_slice]\n",
    "\n",
    "        self.label_start = self.total_window_size - self.label_width\n",
    "        self.labels_slice = slice(self.label_start, None)\n",
    "        self.label_indices = np.arange(self.total_window_size)[self.labels_slice]\n",
    "        \n",
    "        \n",
    "    def split_window(self, features):\n",
    "        inputs = features[:, self.input_slice, :]\n",
    "        labels = features[:, self.labels_slice, :]\n",
    "        \n",
    "        if self.label_columns is not None:\n",
    "            labels = tf.stack(\n",
    "                [labels[:, :, self.column_indices[name]] for name in self.label_columns],\n",
    "                axis=-1)\n",
    "        inputs.set_shape([None, self.input_width, None])\n",
    "        labels.set_shape([None, self.label_width, None])\n",
    "            \n",
    "        return inputs, labels\n",
    "    \n",
    "    \n",
    "    def make_dataset(self, data):\n",
    "        data = np.array(data, dtype=np.float32)\n",
    "        ds = tf.keras.utils.timeseries_dataset_from_array(\n",
    "            data=data,\n",
    "            targets=None,\n",
    "            sequence_length=self.total_window_size,\n",
    "            sequence_stride=1,\n",
    "            shuffle=True,\n",
    "            batch_size=32,)\n",
    "        \n",
    "        ds = ds.map(self.split_window)\n",
    "        \n",
    "        return ds\n",
    "    \n",
    "    \n",
    "    @property\n",
    "    def train(self):\n",
    "        return self.make_dataset(self.train_df)\n",
    "\n",
    "    \n",
    "    @property\n",
    "    def val(self):\n",
    "        return self.make_dataset(self.val_df)\n",
    "\n",
    "    \n",
    "    @property\n",
    "    def test(self):\n",
    "        return self.make_dataset(self.test_df)\n",
    "\n",
    "    \n",
    "    @property\n",
    "    def example(self):\n",
    "        \"\"\"Get and cache an example batch of `inputs, labels` for plotting.\"\"\"\n",
    "        result = getattr(self, '_example', None)\n",
    "        if result is None:\n",
    "            # No example batch was found, so get one from the `.train` dataset\n",
    "            result = next(iter(self.train))\n",
    "            # And cache it for next time\n",
    "            self._example = result\n",
    "        return result\n",
    "    \n",
    "    \n",
    "    def __repr__(self):\n",
    "        return '\\n'.join([\n",
    "            f'Total window size: {self.total_window_size}',\n",
    "            f'Input indices: {self.input_indices}',\n",
    "            f'Label indices: {self.label_indices}',\n",
    "            f'Label column name(s): {self.label_columns}'])"
   ]
  },
  {
   "cell_type": "code",
   "execution_count": null,
   "metadata": {
    "id": "dUjyAmmYVGyE"
   },
   "outputs": [],
   "source": [
    "MAX_EPOCHS = 20\n",
    "\n",
    "def compile_and_fit(model, window, patience=2):\n",
    "    early_stopping = tf.keras.callbacks.EarlyStopping(monitor='val_loss',\n",
    "                                                        patience=patience,\n",
    "                                                        mode='min')\n",
    "    \n",
    "    model.compile(loss=tf.losses.MeanSquaredError(),\n",
    "                    optimizer=tf.optimizers.Adam(),\n",
    "                    metrics=[tf.metrics.MeanAbsoluteError()])\n",
    "    \n",
    "    history = model.fit(window.train, epochs=MAX_EPOCHS,\n",
    "                          validation_data=window.val,\n",
    "                          callbacks=[early_stopping])\n",
    "    \n",
    "    return history"
   ]
  },
  {
   "cell_type": "code",
   "execution_count": null,
   "metadata": {
    "id": "SGWHptOiVGyE",
    "outputId": "c83b6464-77ea-4b71-cce0-f1509a3aa3ef"
   },
   "outputs": [
    {
     "data": {
      "text/plain": [
       "Index(['Date', 'High', 'Low', 'Open', 'Close', 'Volume', 'Adj Close',\n",
       "       'Log Adj Close'],\n",
       "      dtype='object')"
      ]
     },
     "execution_count": 42,
     "metadata": {},
     "output_type": "execute_result"
    }
   ],
   "source": [
    "fb_df.columns"
   ]
  },
  {
   "cell_type": "code",
   "execution_count": null,
   "metadata": {
    "id": "GQtAalVgVGyE"
   },
   "outputs": [],
   "source": [
    "fb_df_len = len(fb_df)\n",
    "fb_train_df = fb_df[:int(fb_df_len * 0.7)]\n",
    "fb_val_df = fb_df[int(fb_df_len * 0.7):int(fb_df_len * 0.9)]\n",
    "fb_test_df = fb_df[int(fb_df_len * 0.9):]"
   ]
  },
  {
   "cell_type": "code",
   "execution_count": null,
   "metadata": {
    "id": "42XpkD3aVGyF"
   },
   "outputs": [],
   "source": [
    "fb_window = WindowGenerator(input_width=10, label_width=1, shift=10, label_columns=['Adj Close'], \n",
    "                            train_df=fb_train_df, val_df=fb_val_df, test_df=fb_test_df)"
   ]
  },
  {
   "cell_type": "code",
   "execution_count": null,
   "metadata": {
    "id": "T60-DdwPVGyF",
    "outputId": "1dec7abf-b966-43a3-ccfd-1ec3e81f1b4a"
   },
   "outputs": [
    {
     "data": {
      "text/plain": [
       "Total window size: 20\n",
       "Input indices: [0 1 2 3 4 5 6 7 8 9]\n",
       "Label indices: [19]\n",
       "Label column name(s): ['Adj Close']"
      ]
     },
     "execution_count": 30,
     "metadata": {},
     "output_type": "execute_result"
    }
   ],
   "source": [
    "fb_window"
   ]
  },
  {
   "cell_type": "code",
   "execution_count": null,
   "metadata": {
    "id": "_MjH1g1iVGyF"
   },
   "outputs": [],
   "source": [
    "val_performance = {}\n",
    "performance = {}"
   ]
  },
  {
   "cell_type": "code",
   "execution_count": null,
   "metadata": {
    "id": "ypdNWo3dVGyG"
   },
   "outputs": [],
   "source": [
    "wide_window = WindowGenerator(input_width=10, label_width=1, shift=10, label_columns=['Adj Close'], \n",
    "                            train_df=fb_train_df, val_df=fb_val_df, test_df=fb_test_df)"
   ]
  },
  {
   "cell_type": "code",
   "execution_count": null,
   "metadata": {
    "id": "6SNqGLFtVGyG",
    "outputId": "1c46bdf5-a007-467c-ac43-13ef9a0fff3a"
   },
   "outputs": [
    {
     "data": {
      "text/html": [
       "<div>\n",
       "<style scoped>\n",
       "    .dataframe tbody tr th:only-of-type {\n",
       "        vertical-align: middle;\n",
       "    }\n",
       "\n",
       "    .dataframe tbody tr th {\n",
       "        vertical-align: top;\n",
       "    }\n",
       "\n",
       "    .dataframe thead th {\n",
       "        text-align: right;\n",
       "    }\n",
       "</style>\n",
       "<table border=\"1\" class=\"dataframe\">\n",
       "  <thead>\n",
       "    <tr style=\"text-align: right;\">\n",
       "      <th></th>\n",
       "      <th>Date</th>\n",
       "      <th>High</th>\n",
       "      <th>Low</th>\n",
       "      <th>Open</th>\n",
       "      <th>Close</th>\n",
       "      <th>Volume</th>\n",
       "      <th>Adj Close</th>\n",
       "      <th>Log Adj Close</th>\n",
       "    </tr>\n",
       "  </thead>\n",
       "  <tbody>\n",
       "    <tr>\n",
       "      <th>0</th>\n",
       "      <td>2020-01-15</td>\n",
       "      <td>221.679993</td>\n",
       "      <td>220.139999</td>\n",
       "      <td>220.610001</td>\n",
       "      <td>221.149994</td>\n",
       "      <td>10036500</td>\n",
       "      <td>221.149994</td>\n",
       "      <td>5.398841</td>\n",
       "    </tr>\n",
       "    <tr>\n",
       "      <th>1</th>\n",
       "      <td>2020-01-16</td>\n",
       "      <td>222.630005</td>\n",
       "      <td>220.389999</td>\n",
       "      <td>222.570007</td>\n",
       "      <td>221.770004</td>\n",
       "      <td>10015300</td>\n",
       "      <td>221.770004</td>\n",
       "      <td>5.401641</td>\n",
       "    </tr>\n",
       "    <tr>\n",
       "      <th>2</th>\n",
       "      <td>2020-01-17</td>\n",
       "      <td>222.289993</td>\n",
       "      <td>220.529999</td>\n",
       "      <td>222.029999</td>\n",
       "      <td>222.139999</td>\n",
       "      <td>15905900</td>\n",
       "      <td>222.139999</td>\n",
       "      <td>5.403308</td>\n",
       "    </tr>\n",
       "    <tr>\n",
       "      <th>3</th>\n",
       "      <td>2020-01-21</td>\n",
       "      <td>222.369995</td>\n",
       "      <td>219.119995</td>\n",
       "      <td>222.160004</td>\n",
       "      <td>221.440002</td>\n",
       "      <td>14275800</td>\n",
       "      <td>221.440002</td>\n",
       "      <td>5.400152</td>\n",
       "    </tr>\n",
       "    <tr>\n",
       "      <th>4</th>\n",
       "      <td>2020-01-22</td>\n",
       "      <td>222.750000</td>\n",
       "      <td>221.279999</td>\n",
       "      <td>222.309998</td>\n",
       "      <td>221.320007</td>\n",
       "      <td>12212800</td>\n",
       "      <td>221.320007</td>\n",
       "      <td>5.399610</td>\n",
       "    </tr>\n",
       "    <tr>\n",
       "      <th>...</th>\n",
       "      <td>...</td>\n",
       "      <td>...</td>\n",
       "      <td>...</td>\n",
       "      <td>...</td>\n",
       "      <td>...</td>\n",
       "      <td>...</td>\n",
       "      <td>...</td>\n",
       "      <td>...</td>\n",
       "    </tr>\n",
       "    <tr>\n",
       "      <th>172</th>\n",
       "      <td>2020-09-21</td>\n",
       "      <td>249.949997</td>\n",
       "      <td>244.130005</td>\n",
       "      <td>247.539993</td>\n",
       "      <td>248.149994</td>\n",
       "      <td>24709400</td>\n",
       "      <td>248.149994</td>\n",
       "      <td>5.514033</td>\n",
       "    </tr>\n",
       "    <tr>\n",
       "      <th>173</th>\n",
       "      <td>2020-09-22</td>\n",
       "      <td>255.320007</td>\n",
       "      <td>248.220001</td>\n",
       "      <td>253.309998</td>\n",
       "      <td>254.750000</td>\n",
       "      <td>30293100</td>\n",
       "      <td>254.750000</td>\n",
       "      <td>5.540283</td>\n",
       "    </tr>\n",
       "    <tr>\n",
       "      <th>174</th>\n",
       "      <td>2020-09-23</td>\n",
       "      <td>257.989990</td>\n",
       "      <td>248.149994</td>\n",
       "      <td>255.259995</td>\n",
       "      <td>249.020004</td>\n",
       "      <td>19641300</td>\n",
       "      <td>249.020004</td>\n",
       "      <td>5.517533</td>\n",
       "    </tr>\n",
       "    <tr>\n",
       "      <th>175</th>\n",
       "      <td>2020-09-24</td>\n",
       "      <td>252.240005</td>\n",
       "      <td>245.619995</td>\n",
       "      <td>246.500000</td>\n",
       "      <td>249.529999</td>\n",
       "      <td>20006800</td>\n",
       "      <td>249.529999</td>\n",
       "      <td>5.519579</td>\n",
       "    </tr>\n",
       "    <tr>\n",
       "      <th>176</th>\n",
       "      <td>2020-09-25</td>\n",
       "      <td>255.750000</td>\n",
       "      <td>246.610001</td>\n",
       "      <td>249.399994</td>\n",
       "      <td>254.820007</td>\n",
       "      <td>18351300</td>\n",
       "      <td>254.820007</td>\n",
       "      <td>5.540557</td>\n",
       "    </tr>\n",
       "  </tbody>\n",
       "</table>\n",
       "<p>177 rows × 8 columns</p>\n",
       "</div>"
      ],
      "text/plain": [
       "          Date        High         Low        Open       Close    Volume  \\\n",
       "0   2020-01-15  221.679993  220.139999  220.610001  221.149994  10036500   \n",
       "1   2020-01-16  222.630005  220.389999  222.570007  221.770004  10015300   \n",
       "2   2020-01-17  222.289993  220.529999  222.029999  222.139999  15905900   \n",
       "3   2020-01-21  222.369995  219.119995  222.160004  221.440002  14275800   \n",
       "4   2020-01-22  222.750000  221.279999  222.309998  221.320007  12212800   \n",
       "..         ...         ...         ...         ...         ...       ...   \n",
       "172 2020-09-21  249.949997  244.130005  247.539993  248.149994  24709400   \n",
       "173 2020-09-22  255.320007  248.220001  253.309998  254.750000  30293100   \n",
       "174 2020-09-23  257.989990  248.149994  255.259995  249.020004  19641300   \n",
       "175 2020-09-24  252.240005  245.619995  246.500000  249.529999  20006800   \n",
       "176 2020-09-25  255.750000  246.610001  249.399994  254.820007  18351300   \n",
       "\n",
       "      Adj Close  Log Adj Close  \n",
       "0    221.149994       5.398841  \n",
       "1    221.770004       5.401641  \n",
       "2    222.139999       5.403308  \n",
       "3    221.440002       5.400152  \n",
       "4    221.320007       5.399610  \n",
       "..          ...            ...  \n",
       "172  248.149994       5.514033  \n",
       "173  254.750000       5.540283  \n",
       "174  249.020004       5.517533  \n",
       "175  249.529999       5.519579  \n",
       "176  254.820007       5.540557  \n",
       "\n",
       "[177 rows x 8 columns]"
      ]
     },
     "execution_count": 41,
     "metadata": {},
     "output_type": "execute_result"
    }
   ],
   "source": [
    "wide_window.train_df"
   ]
  },
  {
   "cell_type": "code",
   "execution_count": null,
   "metadata": {
    "id": "Z7-tair_VGyG",
    "outputId": "7af9036f-78b6-463b-c80d-a25907bbc5d4"
   },
   "outputs": [
    {
     "ename": "TypeError",
     "evalue": "float() argument must be a string or a number, not 'Timestamp'",
     "output_type": "error",
     "traceback": [
      "\u001b[0;31m---------------------------------------------------------------------------\u001b[0m",
      "\u001b[0;31mTypeError\u001b[0m                                 Traceback (most recent call last)",
      "\u001b[0;32m<ipython-input-36-905d499a234f>\u001b[0m in \u001b[0;36m<module>\u001b[0;34m\u001b[0m\n\u001b[1;32m      9\u001b[0m ])\n\u001b[1;32m     10\u001b[0m \u001b[0;34m\u001b[0m\u001b[0m\n\u001b[0;32m---> 11\u001b[0;31m \u001b[0mhistory\u001b[0m \u001b[0;34m=\u001b[0m \u001b[0mcompile_and_fit\u001b[0m\u001b[0;34m(\u001b[0m\u001b[0mlstm_model\u001b[0m\u001b[0;34m,\u001b[0m \u001b[0mwide_window\u001b[0m\u001b[0;34m)\u001b[0m\u001b[0;34m\u001b[0m\u001b[0;34m\u001b[0m\u001b[0m\n\u001b[0m\u001b[1;32m     12\u001b[0m \u001b[0;34m\u001b[0m\u001b[0m\n\u001b[1;32m     13\u001b[0m \u001b[0mIPython\u001b[0m\u001b[0;34m.\u001b[0m\u001b[0mdisplay\u001b[0m\u001b[0;34m.\u001b[0m\u001b[0mclear_output\u001b[0m\u001b[0;34m(\u001b[0m\u001b[0;34m)\u001b[0m\u001b[0;34m\u001b[0m\u001b[0;34m\u001b[0m\u001b[0m\n",
      "\u001b[0;32m<ipython-input-33-1b4992cb851f>\u001b[0m in \u001b[0;36mcompile_and_fit\u001b[0;34m(model, window, patience)\u001b[0m\n\u001b[1;32m     10\u001b[0m                     metrics=[tf.metrics.MeanAbsoluteError()])\n\u001b[1;32m     11\u001b[0m \u001b[0;34m\u001b[0m\u001b[0m\n\u001b[0;32m---> 12\u001b[0;31m     history = model.fit(window.train, epochs=MAX_EPOCHS,\n\u001b[0m\u001b[1;32m     13\u001b[0m                           \u001b[0mvalidation_data\u001b[0m\u001b[0;34m=\u001b[0m\u001b[0mwindow\u001b[0m\u001b[0;34m.\u001b[0m\u001b[0mval\u001b[0m\u001b[0;34m,\u001b[0m\u001b[0;34m\u001b[0m\u001b[0;34m\u001b[0m\u001b[0m\n\u001b[1;32m     14\u001b[0m                           callbacks=[early_stopping])\n",
      "\u001b[0;32m<ipython-input-32-a3e123d2ea81>\u001b[0m in \u001b[0;36mtrain\u001b[0;34m(self)\u001b[0m\n\u001b[1;32m     61\u001b[0m     \u001b[0;34m@\u001b[0m\u001b[0mproperty\u001b[0m\u001b[0;34m\u001b[0m\u001b[0;34m\u001b[0m\u001b[0m\n\u001b[1;32m     62\u001b[0m     \u001b[0;32mdef\u001b[0m \u001b[0mtrain\u001b[0m\u001b[0;34m(\u001b[0m\u001b[0mself\u001b[0m\u001b[0;34m)\u001b[0m\u001b[0;34m:\u001b[0m\u001b[0;34m\u001b[0m\u001b[0;34m\u001b[0m\u001b[0m\n\u001b[0;32m---> 63\u001b[0;31m         \u001b[0;32mreturn\u001b[0m \u001b[0mself\u001b[0m\u001b[0;34m.\u001b[0m\u001b[0mmake_dataset\u001b[0m\u001b[0;34m(\u001b[0m\u001b[0mself\u001b[0m\u001b[0;34m.\u001b[0m\u001b[0mtrain_df\u001b[0m\u001b[0;34m)\u001b[0m\u001b[0;34m\u001b[0m\u001b[0;34m\u001b[0m\u001b[0m\n\u001b[0m\u001b[1;32m     64\u001b[0m \u001b[0;34m\u001b[0m\u001b[0m\n\u001b[1;32m     65\u001b[0m \u001b[0;34m\u001b[0m\u001b[0m\n",
      "\u001b[0;32m<ipython-input-32-a3e123d2ea81>\u001b[0m in \u001b[0;36mmake_dataset\u001b[0;34m(self, data)\u001b[0m\n\u001b[1;32m     45\u001b[0m \u001b[0;34m\u001b[0m\u001b[0m\n\u001b[1;32m     46\u001b[0m     \u001b[0;32mdef\u001b[0m \u001b[0mmake_dataset\u001b[0m\u001b[0;34m(\u001b[0m\u001b[0mself\u001b[0m\u001b[0;34m,\u001b[0m \u001b[0mdata\u001b[0m\u001b[0;34m)\u001b[0m\u001b[0;34m:\u001b[0m\u001b[0;34m\u001b[0m\u001b[0;34m\u001b[0m\u001b[0m\n\u001b[0;32m---> 47\u001b[0;31m         \u001b[0mdata\u001b[0m \u001b[0;34m=\u001b[0m \u001b[0mnp\u001b[0m\u001b[0;34m.\u001b[0m\u001b[0marray\u001b[0m\u001b[0;34m(\u001b[0m\u001b[0mdata\u001b[0m\u001b[0;34m,\u001b[0m \u001b[0mdtype\u001b[0m\u001b[0;34m=\u001b[0m\u001b[0mnp\u001b[0m\u001b[0;34m.\u001b[0m\u001b[0mfloat32\u001b[0m\u001b[0;34m)\u001b[0m\u001b[0;34m\u001b[0m\u001b[0;34m\u001b[0m\u001b[0m\n\u001b[0m\u001b[1;32m     48\u001b[0m         ds = tf.keras.utils.timeseries_dataset_from_array(\n\u001b[1;32m     49\u001b[0m             \u001b[0mdata\u001b[0m\u001b[0;34m=\u001b[0m\u001b[0mdata\u001b[0m\u001b[0;34m,\u001b[0m\u001b[0;34m\u001b[0m\u001b[0;34m\u001b[0m\u001b[0m\n",
      "\u001b[0;32m~/opt/anaconda3/envs/tf2/lib/python3.7/site-packages/pandas/core/generic.py\u001b[0m in \u001b[0;36m__array__\u001b[0;34m(self, dtype)\u001b[0m\n\u001b[1;32m   1897\u001b[0m \u001b[0;34m\u001b[0m\u001b[0m\n\u001b[1;32m   1898\u001b[0m     \u001b[0;32mdef\u001b[0m \u001b[0m__array__\u001b[0m\u001b[0;34m(\u001b[0m\u001b[0mself\u001b[0m\u001b[0;34m,\u001b[0m \u001b[0mdtype\u001b[0m\u001b[0;34m=\u001b[0m\u001b[0;32mNone\u001b[0m\u001b[0;34m)\u001b[0m \u001b[0;34m->\u001b[0m \u001b[0mnp\u001b[0m\u001b[0;34m.\u001b[0m\u001b[0mndarray\u001b[0m\u001b[0;34m:\u001b[0m\u001b[0;34m\u001b[0m\u001b[0;34m\u001b[0m\u001b[0m\n\u001b[0;32m-> 1899\u001b[0;31m         \u001b[0;32mreturn\u001b[0m \u001b[0mnp\u001b[0m\u001b[0;34m.\u001b[0m\u001b[0masarray\u001b[0m\u001b[0;34m(\u001b[0m\u001b[0mself\u001b[0m\u001b[0;34m.\u001b[0m\u001b[0m_values\u001b[0m\u001b[0;34m,\u001b[0m \u001b[0mdtype\u001b[0m\u001b[0;34m=\u001b[0m\u001b[0mdtype\u001b[0m\u001b[0;34m)\u001b[0m\u001b[0;34m\u001b[0m\u001b[0;34m\u001b[0m\u001b[0m\n\u001b[0m\u001b[1;32m   1900\u001b[0m \u001b[0;34m\u001b[0m\u001b[0m\n\u001b[1;32m   1901\u001b[0m     def __array_wrap__(\n",
      "\u001b[0;32m~/opt/anaconda3/envs/tf2/lib/python3.7/site-packages/numpy/core/_asarray.py\u001b[0m in \u001b[0;36masarray\u001b[0;34m(a, dtype, order)\u001b[0m\n\u001b[1;32m     81\u001b[0m \u001b[0;34m\u001b[0m\u001b[0m\n\u001b[1;32m     82\u001b[0m     \"\"\"\n\u001b[0;32m---> 83\u001b[0;31m     \u001b[0;32mreturn\u001b[0m \u001b[0marray\u001b[0m\u001b[0;34m(\u001b[0m\u001b[0ma\u001b[0m\u001b[0;34m,\u001b[0m \u001b[0mdtype\u001b[0m\u001b[0;34m,\u001b[0m \u001b[0mcopy\u001b[0m\u001b[0;34m=\u001b[0m\u001b[0;32mFalse\u001b[0m\u001b[0;34m,\u001b[0m \u001b[0morder\u001b[0m\u001b[0;34m=\u001b[0m\u001b[0morder\u001b[0m\u001b[0;34m)\u001b[0m\u001b[0;34m\u001b[0m\u001b[0;34m\u001b[0m\u001b[0m\n\u001b[0m\u001b[1;32m     84\u001b[0m \u001b[0;34m\u001b[0m\u001b[0m\n\u001b[1;32m     85\u001b[0m \u001b[0;34m\u001b[0m\u001b[0m\n",
      "\u001b[0;31mTypeError\u001b[0m: float() argument must be a string or a number, not 'Timestamp'"
     ]
    }
   ],
   "source": [
    "wide_window = WindowGenerator(input_width=10, label_width=1, shift=10, label_columns=['Adj Close'], \n",
    "                            train_df=fb_train_df, val_df=fb_val_df, test_df=fb_test_df)\n",
    "\n",
    "lstm_model = tf.keras.models.Sequential([\n",
    "    # Shape [batch, time, features] => [batch, time, lstm_units]\n",
    "    tf.keras.layers.LSTM(32, return_sequences=True),\n",
    "    # Shape => [batch, time, features]\n",
    "    tf.keras.layers.Dense(units=64)\n",
    "])\n",
    "\n",
    "history = compile_and_fit(lstm_model, wide_window)\n",
    "\n",
    "IPython.display.clear_output()\n",
    "val_performance['LSTM'] = lstm_model.evaluate( wide_window.val)\n",
    "performance['LSTM'] = lstm_model.evaluate( wide_window.test, verbose=0)"
   ]
  },
  {
   "cell_type": "markdown",
   "metadata": {
    "id": "FS3S2FEcVGyG"
   },
   "source": [
    "# 8.0 Building Model"
   ]
  },
  {
   "cell_type": "code",
   "execution_count": null,
   "metadata": {
    "id": "q1cXbkKwVGyH"
   },
   "outputs": [],
   "source": []
  },
  {
   "cell_type": "markdown",
   "metadata": {
    "id": "9An1OMtXVGyH"
   },
   "source": [
    "# 7.0 Summary"
   ]
  },
  {
   "cell_type": "code",
   "execution_count": null,
   "metadata": {
    "id": "nzb-5sI2VGyH"
   },
   "outputs": [],
   "source": []
  }
 ],
 "metadata": {
  "colab": {
   "name": "FAANG-stock-analysis.ipynb",
   "provenance": [],
   "toc_visible": true
  },
  "kernelspec": {
   "display_name": "Python 3",
   "language": "python",
   "name": "python3"
  },
  "language_info": {
   "codemirror_mode": {
    "name": "ipython",
    "version": 3
   },
   "file_extension": ".py",
   "mimetype": "text/x-python",
   "name": "python",
   "nbconvert_exporter": "python",
   "pygments_lexer": "ipython3",
   "version": "3.7.13"
  }
 },
 "nbformat": 4,
 "nbformat_minor": 5
}
